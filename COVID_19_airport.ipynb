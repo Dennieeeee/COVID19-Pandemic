{
  "nbformat": 4,
  "nbformat_minor": 0,
  "metadata": {
    "colab": {
      "name": "COVID-19_airport.ipynb",
      "provenance": [],
      "authorship_tag": "ABX9TyO0scvNk7lTC9NtXlCfIoYZ",
      "include_colab_link": true
    },
    "kernelspec": {
      "name": "python3",
      "display_name": "Python 3"
    }
  },
  "cells": [
    {
      "cell_type": "markdown",
      "metadata": {
        "id": "view-in-github",
        "colab_type": "text"
      },
      "source": [
        "<a href=\"https://colab.research.google.com/github/Dennieeeee/COVID19-Pandemic/blob/master/COVID_19_airport.ipynb\" target=\"_parent\"><img src=\"https://colab.research.google.com/assets/colab-badge.svg\" alt=\"Open In Colab\"/></a>"
      ]
    },
    {
      "cell_type": "code",
      "metadata": {
        "id": "yp2FmOOVrEOg"
      },
      "source": [
        "import pandas as pd\n",
        "import numpy as np\n"
      ],
      "execution_count": 1,
      "outputs": []
    },
    {
      "cell_type": "code",
      "metadata": {
        "id": "tdn0GNGcrS-v"
      },
      "source": [
        "df = pd.read_csv('https://raw.githubusercontent.com/Dennieeeee/COVID19-Pandemic/master/Airport%20Traffic%20Analysis/Data/covid_impact_on_airport_traffic.csv')"
      ],
      "execution_count": 2,
      "outputs": []
    },
    {
      "cell_type": "code",
      "metadata": {
        "id": "zqhkwgHfrWfh",
        "outputId": "79a933dc-83c1-4aae-9a24-ea678d3dba3a",
        "colab": {
          "base_uri": "https://localhost:8080/"
        }
      },
      "source": [
        "df.info()"
      ],
      "execution_count": 3,
      "outputs": [
        {
          "output_type": "stream",
          "text": [
            "<class 'pandas.core.frame.DataFrame'>\n",
            "RangeIndex: 5936 entries, 0 to 5935\n",
            "Data columns (total 11 columns):\n",
            " #   Column             Non-Null Count  Dtype  \n",
            "---  ------             --------------  -----  \n",
            " 0   AggregationMethod  5936 non-null   object \n",
            " 1   Date               5936 non-null   object \n",
            " 2   Version            5936 non-null   float64\n",
            " 3   AirportName        5936 non-null   object \n",
            " 4   PercentOfBaseline  5936 non-null   int64  \n",
            " 5   Centroid           5936 non-null   object \n",
            " 6   City               5936 non-null   object \n",
            " 7   State              5936 non-null   object \n",
            " 8   ISO_3166_2         5936 non-null   object \n",
            " 9   Country            5936 non-null   object \n",
            " 10  Geography          5936 non-null   object \n",
            "dtypes: float64(1), int64(1), object(9)\n",
            "memory usage: 510.2+ KB\n"
          ],
          "name": "stdout"
        }
      ]
    },
    {
      "cell_type": "code",
      "metadata": {
        "id": "slagGFTyrZWZ"
      },
      "source": [
        "df['Date']=pd.to_datetime(df['Date'])"
      ],
      "execution_count": 4,
      "outputs": []
    },
    {
      "cell_type": "code",
      "metadata": {
        "id": "xHLao73or1eQ"
      },
      "source": [
        "df['year']=df['Date'].dt.year\n",
        "df['month'] = df['Date'].dt.month\n",
        "df['weekday'] = df['Date'].dt.day_name()"
      ],
      "execution_count": 5,
      "outputs": []
    },
    {
      "cell_type": "code",
      "metadata": {
        "id": "_4JIFGCbrlsK",
        "outputId": "0966f9e9-5df4-4b16-a90c-ef6bf8c024aa",
        "colab": {
          "base_uri": "https://localhost:8080/",
          "height": 134
        }
      },
      "source": [
        "df.head(1)"
      ],
      "execution_count": 6,
      "outputs": [
        {
          "output_type": "execute_result",
          "data": {
            "text/html": [
              "<div>\n",
              "<style scoped>\n",
              "    .dataframe tbody tr th:only-of-type {\n",
              "        vertical-align: middle;\n",
              "    }\n",
              "\n",
              "    .dataframe tbody tr th {\n",
              "        vertical-align: top;\n",
              "    }\n",
              "\n",
              "    .dataframe thead th {\n",
              "        text-align: right;\n",
              "    }\n",
              "</style>\n",
              "<table border=\"1\" class=\"dataframe\">\n",
              "  <thead>\n",
              "    <tr style=\"text-align: right;\">\n",
              "      <th></th>\n",
              "      <th>AggregationMethod</th>\n",
              "      <th>Date</th>\n",
              "      <th>Version</th>\n",
              "      <th>AirportName</th>\n",
              "      <th>PercentOfBaseline</th>\n",
              "      <th>Centroid</th>\n",
              "      <th>City</th>\n",
              "      <th>State</th>\n",
              "      <th>ISO_3166_2</th>\n",
              "      <th>Country</th>\n",
              "      <th>Geography</th>\n",
              "      <th>year</th>\n",
              "      <th>month</th>\n",
              "      <th>weekday</th>\n",
              "    </tr>\n",
              "  </thead>\n",
              "  <tbody>\n",
              "    <tr>\n",
              "      <th>0</th>\n",
              "      <td>Daily</td>\n",
              "      <td>2020-07-05</td>\n",
              "      <td>1.0</td>\n",
              "      <td>Kingsford Smith</td>\n",
              "      <td>52</td>\n",
              "      <td>POINT(151.180087713813 -33.9459774986125)</td>\n",
              "      <td>Sydney</td>\n",
              "      <td>New South Wales</td>\n",
              "      <td>AU</td>\n",
              "      <td>Australia</td>\n",
              "      <td>POLYGON((151.164354085922 -33.9301772341877, 1...</td>\n",
              "      <td>2020</td>\n",
              "      <td>7</td>\n",
              "      <td>Sunday</td>\n",
              "    </tr>\n",
              "  </tbody>\n",
              "</table>\n",
              "</div>"
            ],
            "text/plain": [
              "  AggregationMethod       Date  Version  ...  year  month weekday\n",
              "0             Daily 2020-07-05      1.0  ...  2020      7  Sunday\n",
              "\n",
              "[1 rows x 14 columns]"
            ]
          },
          "metadata": {
            "tags": []
          },
          "execution_count": 6
        }
      ]
    },
    {
      "cell_type": "code",
      "metadata": {
        "id": "3E_wrYWGrztx",
        "outputId": "046f18f2-4c57-4a66-c7a8-828da3d74ebf",
        "colab": {
          "base_uri": "https://localhost:8080/"
        }
      },
      "source": [
        "df['month'].value_counts()"
      ],
      "execution_count": 7,
      "outputs": [
        {
          "output_type": "execute_result",
          "data": {
            "text/plain": [
              "7     862\n",
              "5     855\n",
              "9     835\n",
              "8     835\n",
              "6     831\n",
              "4     825\n",
              "10    448\n",
              "3     445\n",
              "Name: month, dtype: int64"
            ]
          },
          "metadata": {
            "tags": []
          },
          "execution_count": 7
        }
      ]
    },
    {
      "cell_type": "code",
      "metadata": {
        "id": "z6A-aPv8veby"
      },
      "source": [
        ""
      ],
      "execution_count": 8,
      "outputs": []
    }
  ]
}