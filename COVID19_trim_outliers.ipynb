{
  "nbformat": 4,
  "nbformat_minor": 0,
  "metadata": {
    "colab": {
      "name": "COVID19_trim_outliers.ipynb",
      "provenance": [],
      "authorship_tag": "ABX9TyPS1/ERU6umzUqF3J6Xs/nN",
      "include_colab_link": true
    },
    "kernelspec": {
      "name": "python3",
      "display_name": "Python 3"
    }
  },
  "cells": [
    {
      "cell_type": "markdown",
      "metadata": {
        "id": "view-in-github",
        "colab_type": "text"
      },
      "source": [
        "<a href=\"https://colab.research.google.com/github/Dennieeeee/COVID19-Pandemic/blob/master/COVID19_trim_outliers.ipynb\" target=\"_parent\"><img src=\"https://colab.research.google.com/assets/colab-badge.svg\" alt=\"Open In Colab\"/></a>"
      ]
    },
    {
      "cell_type": "code",
      "metadata": {
        "id": "FOEXtUTleB3B",
        "colab_type": "code",
        "colab": {}
      },
      "source": [
        "import pandas as pd\n",
        "import numpy as np\n",
        "import matplotlib.pyplot as plt\n",
        "import seaborn as sns\n",
        "from scipy.stats import norm"
      ],
      "execution_count": 37,
      "outputs": []
    },
    {
      "cell_type": "code",
      "metadata": {
        "id": "IHZOPeQseMRW",
        "colab_type": "code",
        "colab": {}
      },
      "source": [
        "file='https://raw.githubusercontent.com/Dennieeeee/COVID19-Pandemic/master/covid19_unemployment_2020'\n",
        "df=pd.read_csv(file)"
      ],
      "execution_count": 38,
      "outputs": []
    },
    {
      "cell_type": "markdown",
      "metadata": {
        "id": "frniHl2jqlqc",
        "colab_type": "text"
      },
      "source": [
        "# Columns\n",
        "- ALAND: Area of Land (square meters)\n",
        "- AWATER: Area of Water (square meters)\n",
        "- NAME: City Name\n",
        "- State: State\n",
        "- LaborForce_01Month: Count of people within the US labor force, 1 month prior to current\n",
        "- Employed_01Month: Count of employed population, 1 month prior to current\n",
        "- Unemployed_01Month: Count of unemployed population, 1 month prior to current\n",
        "- PctUnemployed_01Month: Percent unemployed population, 1 month prior to current\n",
        "- CurrentMonth: Month and year, most current month offered by BLS\n",
        "- vulnerability_index: Vulnerability Index\n",
        "- rank_cvi: Rank\n",
        "- fips_cvi: Fips"
      ]
    },
    {
      "cell_type": "code",
      "metadata": {
        "id": "U-W3eZjVg1id",
        "colab_type": "code",
        "colab": {
          "base_uri": "https://localhost:8080/",
          "height": 309
        },
        "outputId": "9efe9204-2c61-4760-f5b2-b05e69a6acb0"
      },
      "source": [
        "df.head()"
      ],
      "execution_count": 39,
      "outputs": [
        {
          "output_type": "execute_result",
          "data": {
            "text/html": [
              "<div>\n",
              "<style scoped>\n",
              "    .dataframe tbody tr th:only-of-type {\n",
              "        vertical-align: middle;\n",
              "    }\n",
              "\n",
              "    .dataframe tbody tr th {\n",
              "        vertical-align: top;\n",
              "    }\n",
              "\n",
              "    .dataframe thead th {\n",
              "        text-align: right;\n",
              "    }\n",
              "</style>\n",
              "<table border=\"1\" class=\"dataframe\">\n",
              "  <thead>\n",
              "    <tr style=\"text-align: right;\">\n",
              "      <th></th>\n",
              "      <th>ALAND</th>\n",
              "      <th>AWATER</th>\n",
              "      <th>NAME</th>\n",
              "      <th>State</th>\n",
              "      <th>LaborForce_01Month</th>\n",
              "      <th>Employed_01Month</th>\n",
              "      <th>Unemployed_01Month</th>\n",
              "      <th>PctUnemployed_01Month</th>\n",
              "      <th>CurrentMonth</th>\n",
              "      <th>vulnerability_index</th>\n",
              "      <th>rank_cvi</th>\n",
              "      <th>fips_cvi</th>\n",
              "    </tr>\n",
              "  </thead>\n",
              "  <tbody>\n",
              "    <tr>\n",
              "      <th>0</th>\n",
              "      <td>1539602137</td>\n",
              "      <td>25706961</td>\n",
              "      <td>Autauga County</td>\n",
              "      <td>Alabama</td>\n",
              "      <td>25835.0</td>\n",
              "      <td>25114.0</td>\n",
              "      <td>721.0</td>\n",
              "      <td>2.8</td>\n",
              "      <td>April 2020 - Preliminary</td>\n",
              "      <td>110.31</td>\n",
              "      <td>401</td>\n",
              "      <td>1001</td>\n",
              "    </tr>\n",
              "    <tr>\n",
              "      <th>1</th>\n",
              "      <td>4117621645</td>\n",
              "      <td>1132980868</td>\n",
              "      <td>Baldwin County</td>\n",
              "      <td>Alabama</td>\n",
              "      <td>96391.0</td>\n",
              "      <td>93782.0</td>\n",
              "      <td>2609.0</td>\n",
              "      <td>2.7</td>\n",
              "      <td>April 2020 - Preliminary</td>\n",
              "      <td>146.88</td>\n",
              "      <td>91</td>\n",
              "      <td>1003</td>\n",
              "    </tr>\n",
              "    <tr>\n",
              "      <th>2</th>\n",
              "      <td>2292160139</td>\n",
              "      <td>50523213</td>\n",
              "      <td>Barbour County</td>\n",
              "      <td>Alabama</td>\n",
              "      <td>8537.0</td>\n",
              "      <td>8221.0</td>\n",
              "      <td>316.0</td>\n",
              "      <td>3.7</td>\n",
              "      <td>April 2020 - Preliminary</td>\n",
              "      <td>87.78</td>\n",
              "      <td>1455</td>\n",
              "      <td>1005</td>\n",
              "    </tr>\n",
              "    <tr>\n",
              "      <th>3</th>\n",
              "      <td>1612167476</td>\n",
              "      <td>9602089</td>\n",
              "      <td>Bibb County</td>\n",
              "      <td>Alabama</td>\n",
              "      <td>8617.0</td>\n",
              "      <td>8348.0</td>\n",
              "      <td>269.0</td>\n",
              "      <td>3.1</td>\n",
              "      <td>April 2020 - Preliminary</td>\n",
              "      <td>69.94</td>\n",
              "      <td>2398</td>\n",
              "      <td>1007</td>\n",
              "    </tr>\n",
              "    <tr>\n",
              "      <th>4</th>\n",
              "      <td>1670103866</td>\n",
              "      <td>15015467</td>\n",
              "      <td>Blount County</td>\n",
              "      <td>Alabama</td>\n",
              "      <td>25103.0</td>\n",
              "      <td>24421.0</td>\n",
              "      <td>682.0</td>\n",
              "      <td>2.7</td>\n",
              "      <td>April 2020 - Preliminary</td>\n",
              "      <td>92.04</td>\n",
              "      <td>1224</td>\n",
              "      <td>1009</td>\n",
              "    </tr>\n",
              "  </tbody>\n",
              "</table>\n",
              "</div>"
            ],
            "text/plain": [
              "        ALAND      AWATER  ... rank_cvi fips_cvi\n",
              "0  1539602137    25706961  ...      401     1001\n",
              "1  4117621645  1132980868  ...       91     1003\n",
              "2  2292160139    50523213  ...     1455     1005\n",
              "3  1612167476     9602089  ...     2398     1007\n",
              "4  1670103866    15015467  ...     1224     1009\n",
              "\n",
              "[5 rows x 12 columns]"
            ]
          },
          "metadata": {
            "tags": []
          },
          "execution_count": 39
        }
      ]
    },
    {
      "cell_type": "code",
      "metadata": {
        "id": "SMTYrf7WeMrL",
        "colab_type": "code",
        "colab": {}
      },
      "source": [
        "#Create a new column\n",
        "#Employed rate = Employed_01Month/LaborForce_01Month\n",
        "df['percent_employed']=df['Employed_01Month']/df['LaborForce_01Month']\n"
      ],
      "execution_count": 40,
      "outputs": []
    },
    {
      "cell_type": "code",
      "metadata": {
        "id": "xQZuoj-njaMs",
        "colab_type": "code",
        "colab": {}
      },
      "source": [
        "df1=df[['State','NAME','LaborForce_01Month','Employed_01Month','Unemployed_01Month','PctUnemployed_01Month','percent_employed']]"
      ],
      "execution_count": 41,
      "outputs": []
    },
    {
      "cell_type": "code",
      "metadata": {
        "id": "f5I6fRyDjtJh",
        "colab_type": "code",
        "colab": {
          "base_uri": "https://localhost:8080/",
          "height": 297
        },
        "outputId": "599dce44-8025-4451-de10-7d3af45ecb75"
      },
      "source": [
        "df1.describe()"
      ],
      "execution_count": 42,
      "outputs": [
        {
          "output_type": "execute_result",
          "data": {
            "text/html": [
              "<div>\n",
              "<style scoped>\n",
              "    .dataframe tbody tr th:only-of-type {\n",
              "        vertical-align: middle;\n",
              "    }\n",
              "\n",
              "    .dataframe tbody tr th {\n",
              "        vertical-align: top;\n",
              "    }\n",
              "\n",
              "    .dataframe thead th {\n",
              "        text-align: right;\n",
              "    }\n",
              "</style>\n",
              "<table border=\"1\" class=\"dataframe\">\n",
              "  <thead>\n",
              "    <tr style=\"text-align: right;\">\n",
              "      <th></th>\n",
              "      <th>LaborForce_01Month</th>\n",
              "      <th>Employed_01Month</th>\n",
              "      <th>Unemployed_01Month</th>\n",
              "      <th>PctUnemployed_01Month</th>\n",
              "      <th>percent_employed</th>\n",
              "    </tr>\n",
              "  </thead>\n",
              "  <tbody>\n",
              "    <tr>\n",
              "      <th>count</th>\n",
              "      <td>3.090000e+03</td>\n",
              "      <td>3.090000e+03</td>\n",
              "      <td>3090.000000</td>\n",
              "      <td>3090.000000</td>\n",
              "      <td>3090.000000</td>\n",
              "    </tr>\n",
              "    <tr>\n",
              "      <th>mean</th>\n",
              "      <td>5.180697e+04</td>\n",
              "      <td>4.945582e+04</td>\n",
              "      <td>2351.149838</td>\n",
              "      <td>4.819029</td>\n",
              "      <td>0.951817</td>\n",
              "    </tr>\n",
              "    <tr>\n",
              "      <th>std</th>\n",
              "      <td>1.691945e+05</td>\n",
              "      <td>1.605313e+05</td>\n",
              "      <td>9012.870859</td>\n",
              "      <td>2.053298</td>\n",
              "      <td>0.020529</td>\n",
              "    </tr>\n",
              "    <tr>\n",
              "      <th>min</th>\n",
              "      <td>2.080000e+02</td>\n",
              "      <td>1.900000e+02</td>\n",
              "      <td>6.000000</td>\n",
              "      <td>0.800000</td>\n",
              "      <td>0.764973</td>\n",
              "    </tr>\n",
              "    <tr>\n",
              "      <th>25%</th>\n",
              "      <td>4.857250e+03</td>\n",
              "      <td>4.603750e+03</td>\n",
              "      <td>227.000000</td>\n",
              "      <td>3.500000</td>\n",
              "      <td>0.943473</td>\n",
              "    </tr>\n",
              "    <tr>\n",
              "      <th>50%</th>\n",
              "      <td>1.155850e+04</td>\n",
              "      <td>1.102800e+04</td>\n",
              "      <td>539.500000</td>\n",
              "      <td>4.400000</td>\n",
              "      <td>0.955691</td>\n",
              "    </tr>\n",
              "    <tr>\n",
              "      <th>75%</th>\n",
              "      <td>3.129400e+04</td>\n",
              "      <td>3.002500e+04</td>\n",
              "      <td>1450.750000</td>\n",
              "      <td>5.675000</td>\n",
              "      <td>0.965192</td>\n",
              "    </tr>\n",
              "    <tr>\n",
              "      <th>max</th>\n",
              "      <td>4.996564e+06</td>\n",
              "      <td>4.669061e+06</td>\n",
              "      <td>327503.000000</td>\n",
              "      <td>23.500000</td>\n",
              "      <td>0.991561</td>\n",
              "    </tr>\n",
              "  </tbody>\n",
              "</table>\n",
              "</div>"
            ],
            "text/plain": [
              "       LaborForce_01Month  ...  percent_employed\n",
              "count        3.090000e+03  ...       3090.000000\n",
              "mean         5.180697e+04  ...          0.951817\n",
              "std          1.691945e+05  ...          0.020529\n",
              "min          2.080000e+02  ...          0.764973\n",
              "25%          4.857250e+03  ...          0.943473\n",
              "50%          1.155850e+04  ...          0.955691\n",
              "75%          3.129400e+04  ...          0.965192\n",
              "max          4.996564e+06  ...          0.991561\n",
              "\n",
              "[8 rows x 5 columns]"
            ]
          },
          "metadata": {
            "tags": []
          },
          "execution_count": 42
        }
      ]
    },
    {
      "cell_type": "code",
      "metadata": {
        "id": "I4umdhepI-m0",
        "colab_type": "code",
        "colab": {
          "base_uri": "https://localhost:8080/",
          "height": 34
        },
        "outputId": "7bd53b3a-7ad6-4069-8e1e-2e3a8beb4a67"
      },
      "source": [
        "# How many people lost their job on average?\n",
        "x = abs(round((2351.149838-4.945582e+04)/4.945582e+04 * 100, 2))\n",
        "print(f'{x}% employees in the US lost their jobs.')"
      ],
      "execution_count": 43,
      "outputs": [
        {
          "output_type": "stream",
          "text": [
            "95.25% employees in the US lost their jobs.\n"
          ],
          "name": "stdout"
        }
      ]
    },
    {
      "cell_type": "code",
      "metadata": {
        "id": "uJtF9_WjkkrM",
        "colab_type": "code",
        "colab": {
          "base_uri": "https://localhost:8080/",
          "height": 266
        },
        "outputId": "5058d151-e38e-41b9-f5af-8f102a597d3e"
      },
      "source": [
        "#Find out the average and median unemployment for each state\n",
        "df1.groupby('State').agg(['mean','median']).head()"
      ],
      "execution_count": 44,
      "outputs": [
        {
          "output_type": "execute_result",
          "data": {
            "text/html": [
              "<div>\n",
              "<style scoped>\n",
              "    .dataframe tbody tr th:only-of-type {\n",
              "        vertical-align: middle;\n",
              "    }\n",
              "\n",
              "    .dataframe tbody tr th {\n",
              "        vertical-align: top;\n",
              "    }\n",
              "\n",
              "    .dataframe thead tr th {\n",
              "        text-align: left;\n",
              "    }\n",
              "\n",
              "    .dataframe thead tr:last-of-type th {\n",
              "        text-align: right;\n",
              "    }\n",
              "</style>\n",
              "<table border=\"1\" class=\"dataframe\">\n",
              "  <thead>\n",
              "    <tr>\n",
              "      <th></th>\n",
              "      <th colspan=\"2\" halign=\"left\">LaborForce_01Month</th>\n",
              "      <th colspan=\"2\" halign=\"left\">Employed_01Month</th>\n",
              "      <th colspan=\"2\" halign=\"left\">Unemployed_01Month</th>\n",
              "      <th colspan=\"2\" halign=\"left\">PctUnemployed_01Month</th>\n",
              "      <th colspan=\"2\" halign=\"left\">percent_employed</th>\n",
              "    </tr>\n",
              "    <tr>\n",
              "      <th></th>\n",
              "      <th>mean</th>\n",
              "      <th>median</th>\n",
              "      <th>mean</th>\n",
              "      <th>median</th>\n",
              "      <th>mean</th>\n",
              "      <th>median</th>\n",
              "      <th>mean</th>\n",
              "      <th>median</th>\n",
              "      <th>mean</th>\n",
              "      <th>median</th>\n",
              "    </tr>\n",
              "    <tr>\n",
              "      <th>State</th>\n",
              "      <th></th>\n",
              "      <th></th>\n",
              "      <th></th>\n",
              "      <th></th>\n",
              "      <th></th>\n",
              "      <th></th>\n",
              "      <th></th>\n",
              "      <th></th>\n",
              "      <th></th>\n",
              "      <th></th>\n",
              "    </tr>\n",
              "  </thead>\n",
              "  <tbody>\n",
              "    <tr>\n",
              "      <th>Alabama</th>\n",
              "      <td>33240.402985</td>\n",
              "      <td>14553.0</td>\n",
              "      <td>32239.776119</td>\n",
              "      <td>14133.0</td>\n",
              "      <td>1000.626866</td>\n",
              "      <td>490.0</td>\n",
              "      <td>3.483582</td>\n",
              "      <td>3.20</td>\n",
              "      <td>0.965245</td>\n",
              "      <td>0.968473</td>\n",
              "    </tr>\n",
              "    <tr>\n",
              "      <th>Alaska</th>\n",
              "      <td>12119.678571</td>\n",
              "      <td>2876.0</td>\n",
              "      <td>11411.500000</td>\n",
              "      <td>2669.5</td>\n",
              "      <td>708.178571</td>\n",
              "      <td>235.5</td>\n",
              "      <td>9.071429</td>\n",
              "      <td>8.85</td>\n",
              "      <td>0.909344</td>\n",
              "      <td>0.911053</td>\n",
              "    </tr>\n",
              "    <tr>\n",
              "      <th>Arizona</th>\n",
              "      <td>239230.133333</td>\n",
              "      <td>52093.0</td>\n",
              "      <td>224533.466667</td>\n",
              "      <td>48245.0</td>\n",
              "      <td>14696.666667</td>\n",
              "      <td>4305.0</td>\n",
              "      <td>8.353333</td>\n",
              "      <td>7.50</td>\n",
              "      <td>0.916547</td>\n",
              "      <td>0.925280</td>\n",
              "    </tr>\n",
              "    <tr>\n",
              "      <th>Arkansas</th>\n",
              "      <td>18373.653333</td>\n",
              "      <td>7960.0</td>\n",
              "      <td>17481.080000</td>\n",
              "      <td>7398.0</td>\n",
              "      <td>892.573333</td>\n",
              "      <td>454.0</td>\n",
              "      <td>5.764000</td>\n",
              "      <td>5.50</td>\n",
              "      <td>0.942321</td>\n",
              "      <td>0.945182</td>\n",
              "    </tr>\n",
              "    <tr>\n",
              "      <th>California</th>\n",
              "      <td>330898.568966</td>\n",
              "      <td>82591.0</td>\n",
              "      <td>311822.603448</td>\n",
              "      <td>78845.0</td>\n",
              "      <td>19075.965517</td>\n",
              "      <td>5977.0</td>\n",
              "      <td>7.598276</td>\n",
              "      <td>6.70</td>\n",
              "      <td>0.924069</td>\n",
              "      <td>0.933033</td>\n",
              "    </tr>\n",
              "  </tbody>\n",
              "</table>\n",
              "</div>"
            ],
            "text/plain": [
              "           LaborForce_01Month           ... percent_employed          \n",
              "                         mean   median  ...             mean    median\n",
              "State                                   ...                           \n",
              "Alabama          33240.402985  14553.0  ...         0.965245  0.968473\n",
              "Alaska           12119.678571   2876.0  ...         0.909344  0.911053\n",
              "Arizona         239230.133333  52093.0  ...         0.916547  0.925280\n",
              "Arkansas         18373.653333   7960.0  ...         0.942321  0.945182\n",
              "California      330898.568966  82591.0  ...         0.924069  0.933033\n",
              "\n",
              "[5 rows x 10 columns]"
            ]
          },
          "metadata": {
            "tags": []
          },
          "execution_count": 44
        }
      ]
    },
    {
      "cell_type": "code",
      "metadata": {
        "id": "6I_IB_80j_DJ",
        "colab_type": "code",
        "colab": {
          "base_uri": "https://localhost:8080/",
          "height": 111
        },
        "outputId": "c901d122-16b9-4d35-ef1d-ba2938402e28"
      },
      "source": [
        "df1.head(2)"
      ],
      "execution_count": 45,
      "outputs": [
        {
          "output_type": "execute_result",
          "data": {
            "text/html": [
              "<div>\n",
              "<style scoped>\n",
              "    .dataframe tbody tr th:only-of-type {\n",
              "        vertical-align: middle;\n",
              "    }\n",
              "\n",
              "    .dataframe tbody tr th {\n",
              "        vertical-align: top;\n",
              "    }\n",
              "\n",
              "    .dataframe thead th {\n",
              "        text-align: right;\n",
              "    }\n",
              "</style>\n",
              "<table border=\"1\" class=\"dataframe\">\n",
              "  <thead>\n",
              "    <tr style=\"text-align: right;\">\n",
              "      <th></th>\n",
              "      <th>State</th>\n",
              "      <th>NAME</th>\n",
              "      <th>LaborForce_01Month</th>\n",
              "      <th>Employed_01Month</th>\n",
              "      <th>Unemployed_01Month</th>\n",
              "      <th>PctUnemployed_01Month</th>\n",
              "      <th>percent_employed</th>\n",
              "    </tr>\n",
              "  </thead>\n",
              "  <tbody>\n",
              "    <tr>\n",
              "      <th>0</th>\n",
              "      <td>Alabama</td>\n",
              "      <td>Autauga County</td>\n",
              "      <td>25835.0</td>\n",
              "      <td>25114.0</td>\n",
              "      <td>721.0</td>\n",
              "      <td>2.8</td>\n",
              "      <td>0.972092</td>\n",
              "    </tr>\n",
              "    <tr>\n",
              "      <th>1</th>\n",
              "      <td>Alabama</td>\n",
              "      <td>Baldwin County</td>\n",
              "      <td>96391.0</td>\n",
              "      <td>93782.0</td>\n",
              "      <td>2609.0</td>\n",
              "      <td>2.7</td>\n",
              "      <td>0.972933</td>\n",
              "    </tr>\n",
              "  </tbody>\n",
              "</table>\n",
              "</div>"
            ],
            "text/plain": [
              "     State            NAME  ...  PctUnemployed_01Month  percent_employed\n",
              "0  Alabama  Autauga County  ...                    2.8          0.972092\n",
              "1  Alabama  Baldwin County  ...                    2.7          0.972933\n",
              "\n",
              "[2 rows x 7 columns]"
            ]
          },
          "metadata": {
            "tags": []
          },
          "execution_count": 45
        }
      ]
    },
    {
      "cell_type": "code",
      "metadata": {
        "id": "6YMxBppTN2Xm",
        "colab_type": "code",
        "colab": {
          "base_uri": "https://localhost:8080/",
          "height": 34
        },
        "outputId": "0a82d439-025c-4145-b65a-53245891781f"
      },
      "source": [
        "df1.shape"
      ],
      "execution_count": 46,
      "outputs": [
        {
          "output_type": "execute_result",
          "data": {
            "text/plain": [
              "(3090, 7)"
            ]
          },
          "metadata": {
            "tags": []
          },
          "execution_count": 46
        }
      ]
    },
    {
      "cell_type": "markdown",
      "metadata": {
        "id": "gFlpxsTANPZz",
        "colab_type": "text"
      },
      "source": [
        "# Outliers\n",
        "Unemployment"
      ]
    },
    {
      "cell_type": "code",
      "metadata": {
        "id": "UtLcM__Uc2x1",
        "colab_type": "code",
        "colab": {
          "base_uri": "https://localhost:8080/",
          "height": 80
        },
        "outputId": "c5974df8-e39e-4023-83aa-61e8dedfba6f"
      },
      "source": [
        "df1.head(1)"
      ],
      "execution_count": 47,
      "outputs": [
        {
          "output_type": "execute_result",
          "data": {
            "text/html": [
              "<div>\n",
              "<style scoped>\n",
              "    .dataframe tbody tr th:only-of-type {\n",
              "        vertical-align: middle;\n",
              "    }\n",
              "\n",
              "    .dataframe tbody tr th {\n",
              "        vertical-align: top;\n",
              "    }\n",
              "\n",
              "    .dataframe thead th {\n",
              "        text-align: right;\n",
              "    }\n",
              "</style>\n",
              "<table border=\"1\" class=\"dataframe\">\n",
              "  <thead>\n",
              "    <tr style=\"text-align: right;\">\n",
              "      <th></th>\n",
              "      <th>State</th>\n",
              "      <th>NAME</th>\n",
              "      <th>LaborForce_01Month</th>\n",
              "      <th>Employed_01Month</th>\n",
              "      <th>Unemployed_01Month</th>\n",
              "      <th>PctUnemployed_01Month</th>\n",
              "      <th>percent_employed</th>\n",
              "    </tr>\n",
              "  </thead>\n",
              "  <tbody>\n",
              "    <tr>\n",
              "      <th>0</th>\n",
              "      <td>Alabama</td>\n",
              "      <td>Autauga County</td>\n",
              "      <td>25835.0</td>\n",
              "      <td>25114.0</td>\n",
              "      <td>721.0</td>\n",
              "      <td>2.8</td>\n",
              "      <td>0.972092</td>\n",
              "    </tr>\n",
              "  </tbody>\n",
              "</table>\n",
              "</div>"
            ],
            "text/plain": [
              "     State            NAME  ...  PctUnemployed_01Month  percent_employed\n",
              "0  Alabama  Autauga County  ...                    2.8          0.972092\n",
              "\n",
              "[1 rows x 7 columns]"
            ]
          },
          "metadata": {
            "tags": []
          },
          "execution_count": 47
        }
      ]
    },
    {
      "cell_type": "code",
      "metadata": {
        "id": "92GKwAXAc800",
        "colab_type": "code",
        "colab": {
          "base_uri": "https://localhost:8080/",
          "height": 329
        },
        "outputId": "d28ce776-128b-4319-8072-faa9c9acfb25"
      },
      "source": [
        "\n",
        "mean, std=np.mean(df1['LaborForce_01Month']), np.std(df1['LaborForce_01Month'])\n",
        "z_score = np.abs((df1['LaborForce_01Month']-mean) / std)\n",
        "threshold = 3\n",
        "good = z_score < threshold\n",
        "\n",
        "print(f\"Rejection {(~good).sum()} points\")\n",
        "print(f\"z-score of 3 corresponds to a prob of {100 * 2 * norm.sf(threshold):0.2f}%\")\n",
        "visual_scatter = np.random.normal(size=df1['LaborForce_01Month'].size)\n",
        "plt.scatter(df1['LaborForce_01Month'][good], visual_scatter[good], s=2, label=\"Good\", color=\"#4CAF50\")\n",
        "plt.scatter(df1['LaborForce_01Month'][~good], visual_scatter[~good], s=8, label=\"Bad\", color=\"#F44336\")\n",
        "plt.legend()\n"
      ],
      "execution_count": 48,
      "outputs": [
        {
          "output_type": "stream",
          "text": [
            "Rejection 44 points\n",
            "z-score of 3 corresponds to a prob of 0.27%\n"
          ],
          "name": "stdout"
        },
        {
          "output_type": "execute_result",
          "data": {
            "text/plain": [
              "<matplotlib.legend.Legend at 0x7fb23244deb8>"
            ]
          },
          "metadata": {
            "tags": []
          },
          "execution_count": 48
        },
        {
          "output_type": "display_data",
          "data": {
            "image/png": "[encoded data removed]",
            "text/plain": [
              "<Figure size 432x288 with 1 Axes>"
            ]
          },
          "metadata": {
            "tags": [],
            "needs_background": "light"
          }
        }
      ]
    },
    {
      "cell_type": "code",
      "metadata": {
        "id": "dFlGat57V8Oy",
        "colab_type": "code",
        "colab": {
          "base_uri": "https://localhost:8080/",
          "height": 782
        },
        "outputId": "8fdb7886-1449-4cc4-f12b-6a2328c3850d"
      },
      "source": [
        "df1['LaborForce_01Month'][~good]"
      ],
      "execution_count": 49,
      "outputs": [
        {
          "output_type": "execute_result",
          "data": {
            "text/plain": [
              "102     2334396.0\n",
              "185      835440.0\n",
              "203     4996564.0\n",
              "214     1587658.0\n",
              "217     1098822.0\n",
              "218      711060.0\n",
              "220      964069.0\n",
              "221     1575269.0\n",
              "222      579275.0\n",
              "227     1042736.0\n",
              "323     1036395.0\n",
              "344      756495.0\n",
              "359     1317241.0\n",
              "364      761283.0\n",
              "366      733058.0\n",
              "443      565140.0\n",
              "605     2615106.0\n",
              "1200     565509.0\n",
              "1217     918161.0\n",
              "1285     680858.0\n",
              "1304     808989.0\n",
              "1332     707798.0\n",
              "1737    1143825.0\n",
              "1818     583312.0\n",
              "1839    1171517.0\n",
              "1845     707360.0\n",
              "1846     892124.0\n",
              "1856    1113178.0\n",
              "1867     777487.0\n",
              "1937     616239.0\n",
              "1969     593306.0\n",
              "2048     589480.0\n",
              "2055     695289.0\n",
              "2233     647292.0\n",
              "2281     736461.0\n",
              "2524     944253.0\n",
              "2552     563411.0\n",
              "2566    1363851.0\n",
              "2610    2321037.0\n",
              "2729    1075094.0\n",
              "2736     739887.0\n",
              "2781     637855.0\n",
              "2835     646716.0\n",
              "2918    1282512.0\n",
              "Name: LaborForce_01Month, dtype: float64"
            ]
          },
          "metadata": {
            "tags": []
          },
          "execution_count": 49
        }
      ]
    },
    {
      "cell_type": "code",
      "metadata": {
        "id": "XxOIrW2Zd7CF",
        "colab_type": "code",
        "colab": {
          "base_uri": "https://localhost:8080/",
          "height": 329
        },
        "outputId": "98dd8a4c-11e1-4952-be1f-5095e04e1d9d"
      },
      "source": [
        "\n",
        "mean, std=np.mean(df1['Employed_01Month']), np.std(df1['Employed_01Month'])\n",
        "z_score = np.abs((df1['Employed_01Month']-mean) / std)\n",
        "threshold = 3\n",
        "good = z_score < threshold\n",
        "\n",
        "print(f\"Rejection {(~good).sum()} points\")\n",
        "print(f\"z-score of 3 corresponds to a prob of {100 * 2 * norm.sf(threshold):0.2f}%\")\n",
        "visual_scatter = np.random.normal(size=df1['Employed_01Month'].size)\n",
        "plt.scatter(df1['Employed_01Month'][good], visual_scatter[good], s=2, label=\"Good\", color=\"#4CAF50\")\n",
        "plt.scatter(df1['Employed_01Month'][~good], visual_scatter[~good], s=8, label=\"Bad\", color=\"#F44336\")\n",
        "plt.legend()\n"
      ],
      "execution_count": 50,
      "outputs": [
        {
          "output_type": "stream",
          "text": [
            "Rejection 45 points\n",
            "z-score of 3 corresponds to a prob of 0.27%\n"
          ],
          "name": "stdout"
        },
        {
          "output_type": "execute_result",
          "data": {
            "text/plain": [
              "<matplotlib.legend.Legend at 0x7fb231ae2358>"
            ]
          },
          "metadata": {
            "tags": []
          },
          "execution_count": 50
        },
        {
          "output_type": "display_data",
          "data": {
            "image/png": "[encoded data removed]",
            "text/plain": [
              "<Figure size 432x288 with 1 Axes>"
            ]
          },
          "metadata": {
            "tags": [],
            "needs_background": "light"
          }
        }
      ]
    },
    {
      "cell_type": "code",
      "metadata": {
        "id": "36Sl6TeKStHJ",
        "colab_type": "code",
        "colab": {
          "base_uri": "https://localhost:8080/",
          "height": 316
        },
        "outputId": "14c2b0e0-f584-4aed-b9c0-a6ce0b7d259b"
      },
      "source": [
        "\n",
        "mean, std=np.mean(df1['Unemployed_01Month']), np.std(df1['Unemployed_01Month'])\n",
        "z_score = np.abs((df1['Unemployed_01Month']-mean) / std)\n",
        "threshold = 3\n",
        "good = z_score < threshold\n",
        "\n",
        "print(f\"Rejection {(~good).sum()} points\")\n",
        "print(f\"z-score of 3 corresponds to a prob of {100 * 2 * norm.sf(threshold):0.2f}%\")\n",
        "visual_scatter = np.random.normal(size=df1['Unemployed_01Month'].size)\n",
        "plt.scatter(df1['Unemployed_01Month'][good], visual_scatter[good], s=2, label=\"Good\", color=\"#4CAF50\")\n",
        "plt.scatter(df1['Unemployed_01Month'][~good], visual_scatter[~good], s=8, label=\"Bad\", color=\"#F44336\")\n",
        "plt.legend()\n"
      ],
      "execution_count": 51,
      "outputs": [
        {
          "output_type": "stream",
          "text": [
            "Rejection 35 points\n",
            "z-score of 3 corresponds to a prob of 0.27%\n"
          ],
          "name": "stdout"
        },
        {
          "output_type": "execute_result",
          "data": {
            "text/plain": [
              "<matplotlib.legend.Legend at 0x7fb2323054e0>"
            ]
          },
          "metadata": {
            "tags": []
          },
          "execution_count": 51
        },
        {
          "output_type": "display_data",
          "data": {
            "image/png": "[encoded data removed]",
            "text/plain": [
              "<Figure size 432x288 with 1 Axes>"
            ]
          },
          "metadata": {
            "tags": [],
            "needs_background": "light"
          }
        }
      ]
    },
    {
      "cell_type": "code",
      "metadata": {
        "id": "R9OekAq-C0I8",
        "colab_type": "code",
        "colab": {
          "base_uri": "https://localhost:8080/",
          "height": 319
        },
        "outputId": "2ffb2c1d-fbea-41cf-9efb-28180e227034"
      },
      "source": [
        "mean, std=np.mean(df1['PctUnemployed_01Month']), np.std(df1['PctUnemployed_01Month'])\n",
        "z_score = np.abs((df1['PctUnemployed_01Month']-mean) / std)\n",
        "threshold = 3\n",
        "good = z_score < threshold\n",
        "\n",
        "print(f\"Rejection {(~good).sum()} points\")\n",
        "print(f\"z-score of 3 corresponds to a prob of {100 * 2 * norm.sf(threshold):0.2f}%\")\n",
        "visual_scatter = np.random.normal(size=df1['PctUnemployed_01Month'].size)\n",
        "plt.scatter(df1['PctUnemployed_01Month'][good], visual_scatter[good], s=2, label=\"Good\", color=\"#4CAF50\")\n",
        "plt.scatter(df1['PctUnemployed_01Month'][~good], visual_scatter[~good], s=8, label=\"Bad\", color=\"#F44336\")\n",
        "plt.legend()"
      ],
      "execution_count": 52,
      "outputs": [
        {
          "output_type": "stream",
          "text": [
            "Rejection 54 points\n",
            "z-score of 3 corresponds to a prob of 0.27%\n"
          ],
          "name": "stdout"
        },
        {
          "output_type": "execute_result",
          "data": {
            "text/plain": [
              "<matplotlib.legend.Legend at 0x7fb231fc0e80>"
            ]
          },
          "metadata": {
            "tags": []
          },
          "execution_count": 52
        },
        {
          "output_type": "display_data",
          "data": {
            "image/png": "[encoded data removed]",
            "text/plain": [
              "<Figure size 432x288 with 1 Axes>"
            ]
          },
          "metadata": {
            "tags": [],
            "needs_background": "light"
          }
        }
      ]
    },
    {
      "cell_type": "code",
      "metadata": {
        "id": "LwegO_TjTBcz",
        "colab_type": "code",
        "colab": {
          "base_uri": "https://localhost:8080/",
          "height": 316
        },
        "outputId": "84d31f63-4978-4855-ad52-6ae38c3abdd6"
      },
      "source": [
        "mean, std=np.mean(df1['percent_employed']), np.std(df1['percent_employed'])\n",
        "z_score = np.abs((df1['percent_employed']-mean) / std)\n",
        "threshold = 3\n",
        "good = z_score < threshold\n",
        "\n",
        "print(f\"Rejection {(~good).sum()} points\")\n",
        "print(f\"z-score of 3 corresponds to a prob of {100 * 2 * norm.sf(threshold):0.2f}%\")\n",
        "visual_scatter = np.random.normal(size=df1['percent_employed'].size)\n",
        "plt.scatter(df1['percent_employed'][good], visual_scatter[good], s=2, label=\"Good\", color=\"#4CAF50\")\n",
        "plt.scatter(df1['percent_employed'][~good], visual_scatter[~good], s=8, label=\"Bad\", color=\"#F44336\")\n",
        "plt.legend()"
      ],
      "execution_count": 53,
      "outputs": [
        {
          "output_type": "stream",
          "text": [
            "Rejection 52 points\n",
            "z-score of 3 corresponds to a prob of 0.27%\n"
          ],
          "name": "stdout"
        },
        {
          "output_type": "execute_result",
          "data": {
            "text/plain": [
              "<matplotlib.legend.Legend at 0x7fb231a8b518>"
            ]
          },
          "metadata": {
            "tags": []
          },
          "execution_count": 53
        },
        {
          "output_type": "display_data",
          "data": {
            "image/png": "[encoded data removed]",
            "text/plain": [
              "<Figure size 432x288 with 1 Axes>"
            ]
          },
          "metadata": {
            "tags": [],
            "needs_background": "light"
          }
        }
      ]
    },
    {
      "cell_type": "code",
      "metadata": {
        "id": "MfvHRykUT214",
        "colab_type": "code",
        "colab": {
          "base_uri": "https://localhost:8080/",
          "height": 68
        },
        "outputId": "b7ee41c1-5827-4d5b-e760-11872f9e34fb"
      },
      "source": [
        "df1.columns"
      ],
      "execution_count": 54,
      "outputs": [
        {
          "output_type": "execute_result",
          "data": {
            "text/plain": [
              "Index(['State', 'NAME', 'LaborForce_01Month', 'Employed_01Month',\n",
              "       'Unemployed_01Month', 'PctUnemployed_01Month', 'percent_employed'],\n",
              "      dtype='object')"
            ]
          },
          "metadata": {
            "tags": []
          },
          "execution_count": 54
        }
      ]
    },
    {
      "cell_type": "code",
      "metadata": {
        "id": "EdiNBi-PDRBH",
        "colab_type": "code",
        "colab": {
          "base_uri": "https://localhost:8080/",
          "height": 547
        },
        "outputId": "87c6b73d-7bc7-44ba-c89e-461cb3c049b2"
      },
      "source": [
        "df1['LaborForce_01Month']= df1['LaborForce_01Month'][good]\n",
        "df1['Employed_01Month']= df1['Employed_01Month'][good]\n",
        "df1['Unemployed_01Month']= df1['Unemployed_01Month'][good]\n",
        "df1['PctUnemployed_01Month']= df1['PctUnemployed_01Month'][good]\n",
        "df1['percent_employed']=df1['percent_employed'][good]"
      ],
      "execution_count": 55,
      "outputs": [
        {
          "output_type": "stream",
          "text": [
            "/usr/local/lib/python3.6/dist-packages/ipykernel_launcher.py:1: SettingWithCopyWarning: \n",
            "A value is trying to be set on a copy of a slice from a DataFrame.\n",
            "Try using .loc[row_indexer,col_indexer] = value instead\n",
            "\n",
            "See the caveats in the documentation: https://pandas.pydata.org/pandas-docs/stable/user_guide/indexing.html#returning-a-view-versus-a-copy\n",
            "  \"\"\"Entry point for launching an IPython kernel.\n",
            "/usr/local/lib/python3.6/dist-packages/ipykernel_launcher.py:2: SettingWithCopyWarning: \n",
            "A value is trying to be set on a copy of a slice from a DataFrame.\n",
            "Try using .loc[row_indexer,col_indexer] = value instead\n",
            "\n",
            "See the caveats in the documentation: https://pandas.pydata.org/pandas-docs/stable/user_guide/indexing.html#returning-a-view-versus-a-copy\n",
            "  \n",
            "/usr/local/lib/python3.6/dist-packages/ipykernel_launcher.py:3: SettingWithCopyWarning: \n",
            "A value is trying to be set on a copy of a slice from a DataFrame.\n",
            "Try using .loc[row_indexer,col_indexer] = value instead\n",
            "\n",
            "See the caveats in the documentation: https://pandas.pydata.org/pandas-docs/stable/user_guide/indexing.html#returning-a-view-versus-a-copy\n",
            "  This is separate from the ipykernel package so we can avoid doing imports until\n",
            "/usr/local/lib/python3.6/dist-packages/ipykernel_launcher.py:4: SettingWithCopyWarning: \n",
            "A value is trying to be set on a copy of a slice from a DataFrame.\n",
            "Try using .loc[row_indexer,col_indexer] = value instead\n",
            "\n",
            "See the caveats in the documentation: https://pandas.pydata.org/pandas-docs/stable/user_guide/indexing.html#returning-a-view-versus-a-copy\n",
            "  after removing the cwd from sys.path.\n",
            "/usr/local/lib/python3.6/dist-packages/ipykernel_launcher.py:5: SettingWithCopyWarning: \n",
            "A value is trying to be set on a copy of a slice from a DataFrame.\n",
            "Try using .loc[row_indexer,col_indexer] = value instead\n",
            "\n",
            "See the caveats in the documentation: https://pandas.pydata.org/pandas-docs/stable/user_guide/indexing.html#returning-a-view-versus-a-copy\n",
            "  \"\"\"\n"
          ],
          "name": "stderr"
        }
      ]
    },
    {
      "cell_type": "code",
      "metadata": {
        "id": "F1fbs_FdURZg",
        "colab_type": "code",
        "colab": {
          "base_uri": "https://localhost:8080/",
          "height": 255
        },
        "outputId": "62638f6d-7f8c-4f8c-8074-e8f992df8492"
      },
      "source": [
        "df1.info()"
      ],
      "execution_count": 56,
      "outputs": [
        {
          "output_type": "stream",
          "text": [
            "<class 'pandas.core.frame.DataFrame'>\n",
            "RangeIndex: 3090 entries, 0 to 3089\n",
            "Data columns (total 7 columns):\n",
            " #   Column                 Non-Null Count  Dtype  \n",
            "---  ------                 --------------  -----  \n",
            " 0   State                  3090 non-null   object \n",
            " 1   NAME                   3090 non-null   object \n",
            " 2   LaborForce_01Month     3038 non-null   float64\n",
            " 3   Employed_01Month       3038 non-null   float64\n",
            " 4   Unemployed_01Month     3038 non-null   float64\n",
            " 5   PctUnemployed_01Month  3038 non-null   float64\n",
            " 6   percent_employed       3038 non-null   float64\n",
            "dtypes: float64(5), object(2)\n",
            "memory usage: 169.1+ KB\n"
          ],
          "name": "stdout"
        }
      ]
    },
    {
      "cell_type": "code",
      "metadata": {
        "id": "Hj3TrUFTUsWd",
        "colab_type": "code",
        "colab": {
          "base_uri": "https://localhost:8080/",
          "height": 204
        },
        "outputId": "0584dc8f-713b-4a0f-f2d3-5a45978fbca9"
      },
      "source": [
        "df1.tail()"
      ],
      "execution_count": 57,
      "outputs": [
        {
          "output_type": "execute_result",
          "data": {
            "text/html": [
              "<div>\n",
              "<style scoped>\n",
              "    .dataframe tbody tr th:only-of-type {\n",
              "        vertical-align: middle;\n",
              "    }\n",
              "\n",
              "    .dataframe tbody tr th {\n",
              "        vertical-align: top;\n",
              "    }\n",
              "\n",
              "    .dataframe thead th {\n",
              "        text-align: right;\n",
              "    }\n",
              "</style>\n",
              "<table border=\"1\" class=\"dataframe\">\n",
              "  <thead>\n",
              "    <tr style=\"text-align: right;\">\n",
              "      <th></th>\n",
              "      <th>State</th>\n",
              "      <th>NAME</th>\n",
              "      <th>LaborForce_01Month</th>\n",
              "      <th>Employed_01Month</th>\n",
              "      <th>Unemployed_01Month</th>\n",
              "      <th>PctUnemployed_01Month</th>\n",
              "      <th>percent_employed</th>\n",
              "    </tr>\n",
              "  </thead>\n",
              "  <tbody>\n",
              "    <tr>\n",
              "      <th>3085</th>\n",
              "      <td>Wyoming</td>\n",
              "      <td>Sweetwater County</td>\n",
              "      <td>21297.0</td>\n",
              "      <td>20097.0</td>\n",
              "      <td>1200.0</td>\n",
              "      <td>5.6</td>\n",
              "      <td>0.943654</td>\n",
              "    </tr>\n",
              "    <tr>\n",
              "      <th>3086</th>\n",
              "      <td>Wyoming</td>\n",
              "      <td>Teton County</td>\n",
              "      <td>14961.0</td>\n",
              "      <td>14527.0</td>\n",
              "      <td>434.0</td>\n",
              "      <td>2.9</td>\n",
              "      <td>0.970991</td>\n",
              "    </tr>\n",
              "    <tr>\n",
              "      <th>3087</th>\n",
              "      <td>Wyoming</td>\n",
              "      <td>Uinta County</td>\n",
              "      <td>9026.0</td>\n",
              "      <td>8589.0</td>\n",
              "      <td>437.0</td>\n",
              "      <td>4.8</td>\n",
              "      <td>0.951584</td>\n",
              "    </tr>\n",
              "    <tr>\n",
              "      <th>3088</th>\n",
              "      <td>Wyoming</td>\n",
              "      <td>Washakie County</td>\n",
              "      <td>3840.0</td>\n",
              "      <td>3638.0</td>\n",
              "      <td>202.0</td>\n",
              "      <td>5.3</td>\n",
              "      <td>0.947396</td>\n",
              "    </tr>\n",
              "    <tr>\n",
              "      <th>3089</th>\n",
              "      <td>Wyoming</td>\n",
              "      <td>Weston County</td>\n",
              "      <td>3816.0</td>\n",
              "      <td>3691.0</td>\n",
              "      <td>125.0</td>\n",
              "      <td>3.3</td>\n",
              "      <td>0.967243</td>\n",
              "    </tr>\n",
              "  </tbody>\n",
              "</table>\n",
              "</div>"
            ],
            "text/plain": [
              "        State               NAME  ...  PctUnemployed_01Month  percent_employed\n",
              "3085  Wyoming  Sweetwater County  ...                    5.6          0.943654\n",
              "3086  Wyoming       Teton County  ...                    2.9          0.970991\n",
              "3087  Wyoming       Uinta County  ...                    4.8          0.951584\n",
              "3088  Wyoming    Washakie County  ...                    5.3          0.947396\n",
              "3089  Wyoming      Weston County  ...                    3.3          0.967243\n",
              "\n",
              "[5 rows x 7 columns]"
            ]
          },
          "metadata": {
            "tags": []
          },
          "execution_count": 57
        }
      ]
    },
    {
      "cell_type": "code",
      "metadata": {
        "id": "lNhtfJO6Lhdv",
        "colab_type": "code",
        "colab": {
          "base_uri": "https://localhost:8080/",
          "height": 918
        },
        "outputId": "b9d9651b-3271-487c-be89-ad9f98866c1a"
      },
      "source": [
        "print(df1[df1.isnull().any(axis=1)]['PctUnemployed_01Month'])"
      ],
      "execution_count": 58,
      "outputs": [
        {
          "output_type": "stream",
          "text": [
            "70     NaN\n",
            "71     NaN\n",
            "72     NaN\n",
            "75     NaN\n",
            "76     NaN\n",
            "81     NaN\n",
            "86     NaN\n",
            "89     NaN\n",
            "94     NaN\n",
            "95     NaN\n",
            "109    NaN\n",
            "190    NaN\n",
            "197    NaN\n",
            "199    NaN\n",
            "200    NaN\n",
            "208    NaN\n",
            "209    NaN\n",
            "211    NaN\n",
            "216    NaN\n",
            "235    NaN\n",
            "238    NaN\n",
            "271    NaN\n",
            "517    NaN\n",
            "998    NaN\n",
            "1033   NaN\n",
            "1051   NaN\n",
            "1062   NaN\n",
            "1065   NaN\n",
            "1123   NaN\n",
            "1139   NaN\n",
            "1159   NaN\n",
            "1167   NaN\n",
            "1238   NaN\n",
            "1271   NaN\n",
            "1422   NaN\n",
            "1800   NaN\n",
            "1925   NaN\n",
            "2086   NaN\n",
            "2671   NaN\n",
            "2723   NaN\n",
            "2754   NaN\n",
            "2763   NaN\n",
            "2772   NaN\n",
            "2791   NaN\n",
            "2911   NaN\n",
            "2944   NaN\n",
            "2947   NaN\n",
            "2948   NaN\n",
            "2964   NaN\n",
            "2970   NaN\n",
            "2984   NaN\n",
            "2993   NaN\n",
            "Name: PctUnemployed_01Month, dtype: float64\n"
          ],
          "name": "stdout"
        }
      ]
    },
    {
      "cell_type": "code",
      "metadata": {
        "id": "MCEG6a-xP9_K",
        "colab_type": "code",
        "colab": {
          "base_uri": "https://localhost:8080/",
          "height": 122
        },
        "outputId": "343b3e4e-be07-4552-9faa-90eea91bf94a"
      },
      "source": [
        "#Dropped the rows with NaN values in the PctUnemployed_01Month column\n",
        "df1.dropna(subset=['PctUnemployed_01Month','LaborForce_01Month'],inplace=True)"
      ],
      "execution_count": 59,
      "outputs": [
        {
          "output_type": "stream",
          "text": [
            "/usr/local/lib/python3.6/dist-packages/ipykernel_launcher.py:2: SettingWithCopyWarning: \n",
            "A value is trying to be set on a copy of a slice from a DataFrame\n",
            "\n",
            "See the caveats in the documentation: https://pandas.pydata.org/pandas-docs/stable/user_guide/indexing.html#returning-a-view-versus-a-copy\n",
            "  \n"
          ],
          "name": "stderr"
        }
      ]
    },
    {
      "cell_type": "code",
      "metadata": {
        "id": "rrBOJPBiQZvU",
        "colab_type": "code",
        "colab": {
          "base_uri": "https://localhost:8080/",
          "height": 255
        },
        "outputId": "f4dd5812-bc59-4167-e29a-48a757b4b7cd"
      },
      "source": [
        "df1.info()"
      ],
      "execution_count": 60,
      "outputs": [
        {
          "output_type": "stream",
          "text": [
            "<class 'pandas.core.frame.DataFrame'>\n",
            "Int64Index: 3038 entries, 0 to 3089\n",
            "Data columns (total 7 columns):\n",
            " #   Column                 Non-Null Count  Dtype  \n",
            "---  ------                 --------------  -----  \n",
            " 0   State                  3038 non-null   object \n",
            " 1   NAME                   3038 non-null   object \n",
            " 2   LaborForce_01Month     3038 non-null   float64\n",
            " 3   Employed_01Month       3038 non-null   float64\n",
            " 4   Unemployed_01Month     3038 non-null   float64\n",
            " 5   PctUnemployed_01Month  3038 non-null   float64\n",
            " 6   percent_employed       3038 non-null   float64\n",
            "dtypes: float64(5), object(2)\n",
            "memory usage: 189.9+ KB\n"
          ],
          "name": "stdout"
        }
      ]
    },
    {
      "cell_type": "code",
      "metadata": {
        "id": "lJKO3KdWDSHa",
        "colab_type": "code",
        "colab": {
          "base_uri": "https://localhost:8080/",
          "height": 403
        },
        "outputId": "c518484c-c2ee-4338-a33d-aa0b8c8754ca"
      },
      "source": [
        "df1.boxplot(figsize=(15,6))"
      ],
      "execution_count": 61,
      "outputs": [
        {
          "output_type": "execute_result",
          "data": {
            "text/plain": [
              "<matplotlib.axes._subplots.AxesSubplot at 0x7fb2318fcdd8>"
            ]
          },
          "metadata": {
            "tags": []
          },
          "execution_count": 61
        },
        {
          "output_type": "display_data",
          "data": {
            "image/png": "[encoded data removed]",
            "text/plain": [
              "<Figure size 1080x432 with 1 Axes>"
            ]
          },
          "metadata": {
            "tags": [],
            "needs_background": "light"
          }
        }
      ]
    },
    {
      "cell_type": "code",
      "metadata": {
        "id": "uJmU5dZdUSGE",
        "colab_type": "code",
        "colab": {
          "base_uri": "https://localhost:8080/",
          "height": 401
        },
        "outputId": "19a60715-eb05-41e4-8001-3414c6df7480"
      },
      "source": [
        "plt.boxplot(df1['PctUnemployed_01Month'])"
      ],
      "execution_count": 62,
      "outputs": [
        {
          "output_type": "execute_result",
          "data": {
            "text/plain": [
              "{'boxes': [<matplotlib.lines.Line2D at 0x7fb2324a5e10>],\n",
              " 'caps': [<matplotlib.lines.Line2D at 0x7fb232942278>,\n",
              "  <matplotlib.lines.Line2D at 0x7fb232491be0>],\n",
              " 'fliers': [<matplotlib.lines.Line2D at 0x7fb2324aa630>],\n",
              " 'means': [],\n",
              " 'medians': [<matplotlib.lines.Line2D at 0x7fb2324aac18>],\n",
              " 'whiskers': [<matplotlib.lines.Line2D at 0x7fb2324a5e48>,\n",
              "  <matplotlib.lines.Line2D at 0x7fb232972518>]}"
            ]
          },
          "metadata": {
            "tags": []
          },
          "execution_count": 62
        },
        {
          "output_type": "display_data",
          "data": {
            "image/png": "[encoded data removed]",
            "text/plain": [
              "<Figure size 432x288 with 1 Axes>"
            ]
          },
          "metadata": {
            "tags": [],
            "needs_background": "light"
          }
        }
      ]
    },
    {
      "cell_type": "code",
      "metadata": {
        "id": "lNFwul1rUpmM",
        "colab_type": "code",
        "colab": {
          "base_uri": "https://localhost:8080/",
          "height": 401
        },
        "outputId": "9d38eb72-3f6b-43b9-8518-5674002fbb5f"
      },
      "source": [
        "plt.boxplot(df1['Unemployed_01Month'])"
      ],
      "execution_count": 63,
      "outputs": [
        {
          "output_type": "execute_result",
          "data": {
            "text/plain": [
              "{'boxes': [<matplotlib.lines.Line2D at 0x7fb231ad95c0>],\n",
              " 'caps': [<matplotlib.lines.Line2D at 0x7fb231a95be0>,\n",
              "  <matplotlib.lines.Line2D at 0x7fb2322ea400>],\n",
              " 'fliers': [<matplotlib.lines.Line2D at 0x7fb231adbd30>],\n",
              " 'means': [],\n",
              " 'medians': [<matplotlib.lines.Line2D at 0x7fb231adbac8>],\n",
              " 'whiskers': [<matplotlib.lines.Line2D at 0x7fb231fc1c18>,\n",
              "  <matplotlib.lines.Line2D at 0x7fb231fc1f98>]}"
            ]
          },
          "metadata": {
            "tags": []
          },
          "execution_count": 63
        },
        {
          "output_type": "display_data",
          "data": {
            "image/png": "[encoded data removed]",
            "text/plain": [
              "<Figure size 432x288 with 1 Axes>"
            ]
          },
          "metadata": {
            "tags": [],
            "needs_background": "light"
          }
        }
      ]
    },
    {
      "cell_type": "markdown",
      "metadata": {
        "id": "vkwHG5H1e4s0",
        "colab_type": "text"
      },
      "source": [
        "# Trim Outliers (Recommended)\n",
        "Remove outliers on df1_copy version"
      ]
    },
    {
      "cell_type": "code",
      "metadata": {
        "id": "HX6MbN-2fIkN",
        "colab_type": "code",
        "colab": {}
      },
      "source": [
        "#Make a copy version of df1\n",
        "df1_copy = df1.copy()"
      ],
      "execution_count": 64,
      "outputs": []
    },
    {
      "cell_type": "code",
      "metadata": {
        "id": "eYdRk0mhe3_R",
        "colab_type": "code",
        "colab": {}
      },
      "source": [
        "#Trim outliers:\n",
        "starting_percentile = df1_copy['PctUnemployed_01Month'].quantile(.05)\n",
        "ending_percentile = df1_copy['PctUnemployed_01Month'].quantile(.95)\n",
        "price_outliers_df = df1_copy.loc[((df1_copy['PctUnemployed_01Month'] <= starting_percentile) | (df1_copy['PctUnemployed_01Month'] >= ending_percentile))]\n",
        "df_trimmed = df1_copy.loc[((df1_copy['PctUnemployed_01Month'] > starting_percentile) & (df1_copy['PctUnemployed_01Month'] < ending_percentile))]"
      ],
      "execution_count": 65,
      "outputs": []
    },
    {
      "cell_type": "code",
      "metadata": {
        "id": "jckU2G3fi1mX",
        "colab_type": "code",
        "colab": {}
      },
      "source": [
        "# Drop incomplete cases\n",
        "df1_copy_filtered = df_trimmed.dropna()"
      ],
      "execution_count": 66,
      "outputs": []
    },
    {
      "cell_type": "code",
      "metadata": {
        "id": "DelK8bgwi-IQ",
        "colab_type": "code",
        "colab": {
          "base_uri": "https://localhost:8080/",
          "height": 419
        },
        "outputId": "89e84041-a13d-4df2-f18d-f7f507ea6ea7"
      },
      "source": [
        "df1_copy_filtered"
      ],
      "execution_count": 67,
      "outputs": [
        {
          "output_type": "execute_result",
          "data": {
            "text/html": [
              "<div>\n",
              "<style scoped>\n",
              "    .dataframe tbody tr th:only-of-type {\n",
              "        vertical-align: middle;\n",
              "    }\n",
              "\n",
              "    .dataframe tbody tr th {\n",
              "        vertical-align: top;\n",
              "    }\n",
              "\n",
              "    .dataframe thead th {\n",
              "        text-align: right;\n",
              "    }\n",
              "</style>\n",
              "<table border=\"1\" class=\"dataframe\">\n",
              "  <thead>\n",
              "    <tr style=\"text-align: right;\">\n",
              "      <th></th>\n",
              "      <th>State</th>\n",
              "      <th>NAME</th>\n",
              "      <th>LaborForce_01Month</th>\n",
              "      <th>Employed_01Month</th>\n",
              "      <th>Unemployed_01Month</th>\n",
              "      <th>PctUnemployed_01Month</th>\n",
              "      <th>percent_employed</th>\n",
              "    </tr>\n",
              "  </thead>\n",
              "  <tbody>\n",
              "    <tr>\n",
              "      <th>0</th>\n",
              "      <td>Alabama</td>\n",
              "      <td>Autauga County</td>\n",
              "      <td>25835.0</td>\n",
              "      <td>25114.0</td>\n",
              "      <td>721.0</td>\n",
              "      <td>2.8</td>\n",
              "      <td>0.972092</td>\n",
              "    </tr>\n",
              "    <tr>\n",
              "      <th>1</th>\n",
              "      <td>Alabama</td>\n",
              "      <td>Baldwin County</td>\n",
              "      <td>96391.0</td>\n",
              "      <td>93782.0</td>\n",
              "      <td>2609.0</td>\n",
              "      <td>2.7</td>\n",
              "      <td>0.972933</td>\n",
              "    </tr>\n",
              "    <tr>\n",
              "      <th>2</th>\n",
              "      <td>Alabama</td>\n",
              "      <td>Barbour County</td>\n",
              "      <td>8537.0</td>\n",
              "      <td>8221.0</td>\n",
              "      <td>316.0</td>\n",
              "      <td>3.7</td>\n",
              "      <td>0.962985</td>\n",
              "    </tr>\n",
              "    <tr>\n",
              "      <th>3</th>\n",
              "      <td>Alabama</td>\n",
              "      <td>Bibb County</td>\n",
              "      <td>8617.0</td>\n",
              "      <td>8348.0</td>\n",
              "      <td>269.0</td>\n",
              "      <td>3.1</td>\n",
              "      <td>0.968783</td>\n",
              "    </tr>\n",
              "    <tr>\n",
              "      <th>4</th>\n",
              "      <td>Alabama</td>\n",
              "      <td>Blount County</td>\n",
              "      <td>25103.0</td>\n",
              "      <td>24421.0</td>\n",
              "      <td>682.0</td>\n",
              "      <td>2.7</td>\n",
              "      <td>0.972832</td>\n",
              "    </tr>\n",
              "    <tr>\n",
              "      <th>...</th>\n",
              "      <td>...</td>\n",
              "      <td>...</td>\n",
              "      <td>...</td>\n",
              "      <td>...</td>\n",
              "      <td>...</td>\n",
              "      <td>...</td>\n",
              "      <td>...</td>\n",
              "    </tr>\n",
              "    <tr>\n",
              "      <th>3085</th>\n",
              "      <td>Wyoming</td>\n",
              "      <td>Sweetwater County</td>\n",
              "      <td>21297.0</td>\n",
              "      <td>20097.0</td>\n",
              "      <td>1200.0</td>\n",
              "      <td>5.6</td>\n",
              "      <td>0.943654</td>\n",
              "    </tr>\n",
              "    <tr>\n",
              "      <th>3086</th>\n",
              "      <td>Wyoming</td>\n",
              "      <td>Teton County</td>\n",
              "      <td>14961.0</td>\n",
              "      <td>14527.0</td>\n",
              "      <td>434.0</td>\n",
              "      <td>2.9</td>\n",
              "      <td>0.970991</td>\n",
              "    </tr>\n",
              "    <tr>\n",
              "      <th>3087</th>\n",
              "      <td>Wyoming</td>\n",
              "      <td>Uinta County</td>\n",
              "      <td>9026.0</td>\n",
              "      <td>8589.0</td>\n",
              "      <td>437.0</td>\n",
              "      <td>4.8</td>\n",
              "      <td>0.951584</td>\n",
              "    </tr>\n",
              "    <tr>\n",
              "      <th>3088</th>\n",
              "      <td>Wyoming</td>\n",
              "      <td>Washakie County</td>\n",
              "      <td>3840.0</td>\n",
              "      <td>3638.0</td>\n",
              "      <td>202.0</td>\n",
              "      <td>5.3</td>\n",
              "      <td>0.947396</td>\n",
              "    </tr>\n",
              "    <tr>\n",
              "      <th>3089</th>\n",
              "      <td>Wyoming</td>\n",
              "      <td>Weston County</td>\n",
              "      <td>3816.0</td>\n",
              "      <td>3691.0</td>\n",
              "      <td>125.0</td>\n",
              "      <td>3.3</td>\n",
              "      <td>0.967243</td>\n",
              "    </tr>\n",
              "  </tbody>\n",
              "</table>\n",
              "<p>2712 rows × 7 columns</p>\n",
              "</div>"
            ],
            "text/plain": [
              "        State               NAME  ...  PctUnemployed_01Month  percent_employed\n",
              "0     Alabama     Autauga County  ...                    2.8          0.972092\n",
              "1     Alabama     Baldwin County  ...                    2.7          0.972933\n",
              "2     Alabama     Barbour County  ...                    3.7          0.962985\n",
              "3     Alabama        Bibb County  ...                    3.1          0.968783\n",
              "4     Alabama      Blount County  ...                    2.7          0.972832\n",
              "...       ...                ...  ...                    ...               ...\n",
              "3085  Wyoming  Sweetwater County  ...                    5.6          0.943654\n",
              "3086  Wyoming       Teton County  ...                    2.9          0.970991\n",
              "3087  Wyoming       Uinta County  ...                    4.8          0.951584\n",
              "3088  Wyoming    Washakie County  ...                    5.3          0.947396\n",
              "3089  Wyoming      Weston County  ...                    3.3          0.967243\n",
              "\n",
              "[2712 rows x 7 columns]"
            ]
          },
          "metadata": {
            "tags": []
          },
          "execution_count": 67
        }
      ]
    },
    {
      "cell_type": "code",
      "metadata": {
        "id": "yv2f6V9LiinW",
        "colab_type": "code",
        "colab": {
          "base_uri": "https://localhost:8080/",
          "height": 34
        },
        "outputId": "8fe0b1ba-c41d-431d-8aba-c44de990b62b"
      },
      "source": [
        "print(df1.shape,df1_copy_filtered.shape)"
      ],
      "execution_count": 68,
      "outputs": [
        {
          "output_type": "stream",
          "text": [
            "(3038, 7) (2712, 7)\n"
          ],
          "name": "stdout"
        }
      ]
    },
    {
      "cell_type": "code",
      "metadata": {
        "id": "w6BBzlv4cKKf",
        "colab_type": "code",
        "colab": {
          "base_uri": "https://localhost:8080/",
          "height": 294
        },
        "outputId": "75b575b9-32b1-461b-db0a-f22bb5944f13"
      },
      "source": [
        "df1_copy_filtered.boxplot()"
      ],
      "execution_count": 69,
      "outputs": [
        {
          "output_type": "execute_result",
          "data": {
            "text/plain": [
              "<matplotlib.axes._subplots.AxesSubplot at 0x7fb2318d1668>"
            ]
          },
          "metadata": {
            "tags": []
          },
          "execution_count": 69
        },
        {
          "output_type": "display_data",
          "data": {
            "image/png": "[encoded data removed]",
            "text/plain": [
              "<Figure size 432x288 with 1 Axes>"
            ]
          },
          "metadata": {
            "tags": [],
            "needs_background": "light"
          }
        }
      ]
    },
    {
      "cell_type": "code",
      "metadata": {
        "id": "k-kDhhyFcXiU",
        "colab_type": "code",
        "colab": {}
      },
      "source": [
        "df1_copy_filtered.to_csv('COVID19_unemp_v2')"
      ],
      "execution_count": 70,
      "outputs": []
    },
    {
      "cell_type": "code",
      "metadata": {
        "id": "a3mFoaJTeX32",
        "colab_type": "code",
        "colab": {}
      },
      "source": [
        ""
      ],
      "execution_count": null,
      "outputs": []
    }
  ]
}