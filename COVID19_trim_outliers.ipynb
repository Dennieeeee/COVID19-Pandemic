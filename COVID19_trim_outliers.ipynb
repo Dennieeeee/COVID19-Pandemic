{
  "nbformat": 4,
  "nbformat_minor": 0,
  "metadata": {
    "colab": {
      "name": "COVID19_trim_outliers.ipynb",
      "provenance": [],
      "authorship_tag": "ABX9TyOGJk6VTynLiYD/VxBON3eC",
      "include_colab_link": true
    },
    "kernelspec": {
      "name": "python3",
      "display_name": "Python 3"
    }
  },
  "cells": [
    {
      "cell_type": "markdown",
      "metadata": {
        "id": "view-in-github",
        "colab_type": "text"
      },
      "source": [
        "<a href=\"https://colab.research.google.com/github/Dennieeeee/COVID19-Pandemic/blob/master/COVID19_trim_outliers.ipynb\" target=\"_parent\"><img src=\"https://colab.research.google.com/assets/colab-badge.svg\" alt=\"Open In Colab\"/></a>"
      ]
    },
    {
      "cell_type": "code",
      "metadata": {
        "id": "FOEXtUTleB3B",
        "colab_type": "code",
        "colab": {
          "base_uri": "https://localhost:8080/",
          "height": 71
        },
        "outputId": "76984554-67a5-4785-ece6-2d7a3ef6810e"
      },
      "source": [
        "import pandas as pd\n",
        "import numpy as np\n",
        "import matplotlib.pyplot as plt\n",
        "import seaborn as sns\n",
        "from scipy.stats import norm"
      ],
      "execution_count": null,
      "outputs": [
        {
          "output_type": "stream",
          "text": [
            "/usr/local/lib/python3.6/dist-packages/statsmodels/tools/_testing.py:19: FutureWarning: pandas.util.testing is deprecated. Use the functions in the public API at pandas.testing instead.\n",
            "  import pandas.util.testing as tm\n"
          ],
          "name": "stderr"
        }
      ]
    },
    {
      "cell_type": "code",
      "metadata": {
        "id": "IHZOPeQseMRW",
        "colab_type": "code",
        "colab": {}
      },
      "source": [
        "file='https://raw.githubusercontent.com/Dennieeeee/COVID19-Pandemic/master/covid19_unemployment_2020'\n",
        "df=pd.read_csv(file)"
      ],
      "execution_count": null,
      "outputs": []
    },
    {
      "cell_type": "markdown",
      "metadata": {
        "id": "frniHl2jqlqc",
        "colab_type": "text"
      },
      "source": [
        "# Columns\n",
        "- ALAND: Area of Land (square meters)\n",
        "- AWATER: Area of Water (square meters)\n",
        "- NAME: City Name\n",
        "- State: State\n",
        "- LaborForce_01Month: Count of people within the US labor force, 1 month prior to current\n",
        "- Employed_01Month: Count of employed population, 1 month prior to current\n",
        "- Unemployed_01Month: Count of unemployed population, 1 month prior to current\n",
        "- PctUnemployed_01Month: Percent unemployed population, 1 month prior to current\n",
        "- CurrentMonth: Month and year, most current month offered by BLS\n",
        "- vulnerability_index: Vulnerability Index\n",
        "- rank_cvi: Rank\n",
        "- fips_cvi: Fips"
      ]
    },
    {
      "cell_type": "code",
      "metadata": {
        "id": "U-W3eZjVg1id",
        "colab_type": "code",
        "colab": {
          "base_uri": "https://localhost:8080/",
          "height": 309
        },
        "outputId": "e0168073-4d36-4755-9735-ed31f33594a2"
      },
      "source": [
        "df.head()"
      ],
      "execution_count": null,
      "outputs": [
        {
          "output_type": "execute_result",
          "data": {
            "text/html": [
              "<div>\n",
              "<style scoped>\n",
              "    .dataframe tbody tr th:only-of-type {\n",
              "        vertical-align: middle;\n",
              "    }\n",
              "\n",
              "    .dataframe tbody tr th {\n",
              "        vertical-align: top;\n",
              "    }\n",
              "\n",
              "    .dataframe thead th {\n",
              "        text-align: right;\n",
              "    }\n",
              "</style>\n",
              "<table border=\"1\" class=\"dataframe\">\n",
              "  <thead>\n",
              "    <tr style=\"text-align: right;\">\n",
              "      <th></th>\n",
              "      <th>ALAND</th>\n",
              "      <th>AWATER</th>\n",
              "      <th>NAME</th>\n",
              "      <th>State</th>\n",
              "      <th>LaborForce_01Month</th>\n",
              "      <th>Employed_01Month</th>\n",
              "      <th>Unemployed_01Month</th>\n",
              "      <th>PctUnemployed_01Month</th>\n",
              "      <th>CurrentMonth</th>\n",
              "      <th>vulnerability_index</th>\n",
              "      <th>rank_cvi</th>\n",
              "      <th>fips_cvi</th>\n",
              "    </tr>\n",
              "  </thead>\n",
              "  <tbody>\n",
              "    <tr>\n",
              "      <th>0</th>\n",
              "      <td>1539602137</td>\n",
              "      <td>25706961</td>\n",
              "      <td>Autauga County</td>\n",
              "      <td>Alabama</td>\n",
              "      <td>25835.0</td>\n",
              "      <td>25114.0</td>\n",
              "      <td>721.0</td>\n",
              "      <td>2.8</td>\n",
              "      <td>April 2020 - Preliminary</td>\n",
              "      <td>110.31</td>\n",
              "      <td>401</td>\n",
              "      <td>1001</td>\n",
              "    </tr>\n",
              "    <tr>\n",
              "      <th>1</th>\n",
              "      <td>4117621645</td>\n",
              "      <td>1132980868</td>\n",
              "      <td>Baldwin County</td>\n",
              "      <td>Alabama</td>\n",
              "      <td>96391.0</td>\n",
              "      <td>93782.0</td>\n",
              "      <td>2609.0</td>\n",
              "      <td>2.7</td>\n",
              "      <td>April 2020 - Preliminary</td>\n",
              "      <td>146.88</td>\n",
              "      <td>91</td>\n",
              "      <td>1003</td>\n",
              "    </tr>\n",
              "    <tr>\n",
              "      <th>2</th>\n",
              "      <td>2292160139</td>\n",
              "      <td>50523213</td>\n",
              "      <td>Barbour County</td>\n",
              "      <td>Alabama</td>\n",
              "      <td>8537.0</td>\n",
              "      <td>8221.0</td>\n",
              "      <td>316.0</td>\n",
              "      <td>3.7</td>\n",
              "      <td>April 2020 - Preliminary</td>\n",
              "      <td>87.78</td>\n",
              "      <td>1455</td>\n",
              "      <td>1005</td>\n",
              "    </tr>\n",
              "    <tr>\n",
              "      <th>3</th>\n",
              "      <td>1612167476</td>\n",
              "      <td>9602089</td>\n",
              "      <td>Bibb County</td>\n",
              "      <td>Alabama</td>\n",
              "      <td>8617.0</td>\n",
              "      <td>8348.0</td>\n",
              "      <td>269.0</td>\n",
              "      <td>3.1</td>\n",
              "      <td>April 2020 - Preliminary</td>\n",
              "      <td>69.94</td>\n",
              "      <td>2398</td>\n",
              "      <td>1007</td>\n",
              "    </tr>\n",
              "    <tr>\n",
              "      <th>4</th>\n",
              "      <td>1670103866</td>\n",
              "      <td>15015467</td>\n",
              "      <td>Blount County</td>\n",
              "      <td>Alabama</td>\n",
              "      <td>25103.0</td>\n",
              "      <td>24421.0</td>\n",
              "      <td>682.0</td>\n",
              "      <td>2.7</td>\n",
              "      <td>April 2020 - Preliminary</td>\n",
              "      <td>92.04</td>\n",
              "      <td>1224</td>\n",
              "      <td>1009</td>\n",
              "    </tr>\n",
              "  </tbody>\n",
              "</table>\n",
              "</div>"
            ],
            "text/plain": [
              "        ALAND      AWATER  ... rank_cvi fips_cvi\n",
              "0  1539602137    25706961  ...      401     1001\n",
              "1  4117621645  1132980868  ...       91     1003\n",
              "2  2292160139    50523213  ...     1455     1005\n",
              "3  1612167476     9602089  ...     2398     1007\n",
              "4  1670103866    15015467  ...     1224     1009\n",
              "\n",
              "[5 rows x 12 columns]"
            ]
          },
          "metadata": {
            "tags": []
          },
          "execution_count": 3
        }
      ]
    },
    {
      "cell_type": "code",
      "metadata": {
        "id": "SMTYrf7WeMrL",
        "colab_type": "code",
        "colab": {}
      },
      "source": [
        "#Create a new column\n",
        "#Employed rate = Employed_01Month/LaborForce_01Month\n",
        "df['percent_employed']=df['Employed_01Month']/df['LaborForce_01Month']\n"
      ],
      "execution_count": null,
      "outputs": []
    },
    {
      "cell_type": "code",
      "metadata": {
        "id": "xQZuoj-njaMs",
        "colab_type": "code",
        "colab": {}
      },
      "source": [
        "df1=df[['State','NAME','LaborForce_01Month','Employed_01Month','Unemployed_01Month','PctUnemployed_01Month','percent_employed']]"
      ],
      "execution_count": null,
      "outputs": []
    },
    {
      "cell_type": "code",
      "metadata": {
        "id": "f5I6fRyDjtJh",
        "colab_type": "code",
        "colab": {
          "base_uri": "https://localhost:8080/",
          "height": 297
        },
        "outputId": "71adc77b-2b83-492d-a12f-d4f026cbab9b"
      },
      "source": [
        "df1.describe()"
      ],
      "execution_count": null,
      "outputs": [
        {
          "output_type": "execute_result",
          "data": {
            "text/html": [
              "<div>\n",
              "<style scoped>\n",
              "    .dataframe tbody tr th:only-of-type {\n",
              "        vertical-align: middle;\n",
              "    }\n",
              "\n",
              "    .dataframe tbody tr th {\n",
              "        vertical-align: top;\n",
              "    }\n",
              "\n",
              "    .dataframe thead th {\n",
              "        text-align: right;\n",
              "    }\n",
              "</style>\n",
              "<table border=\"1\" class=\"dataframe\">\n",
              "  <thead>\n",
              "    <tr style=\"text-align: right;\">\n",
              "      <th></th>\n",
              "      <th>LaborForce_01Month</th>\n",
              "      <th>Employed_01Month</th>\n",
              "      <th>Unemployed_01Month</th>\n",
              "      <th>PctUnemployed_01Month</th>\n",
              "      <th>percent_employed</th>\n",
              "    </tr>\n",
              "  </thead>\n",
              "  <tbody>\n",
              "    <tr>\n",
              "      <th>count</th>\n",
              "      <td>3.090000e+03</td>\n",
              "      <td>3.090000e+03</td>\n",
              "      <td>3090.000000</td>\n",
              "      <td>3090.000000</td>\n",
              "      <td>3090.000000</td>\n",
              "    </tr>\n",
              "    <tr>\n",
              "      <th>mean</th>\n",
              "      <td>5.180697e+04</td>\n",
              "      <td>4.945582e+04</td>\n",
              "      <td>2351.149838</td>\n",
              "      <td>4.819029</td>\n",
              "      <td>0.951817</td>\n",
              "    </tr>\n",
              "    <tr>\n",
              "      <th>std</th>\n",
              "      <td>1.691945e+05</td>\n",
              "      <td>1.605313e+05</td>\n",
              "      <td>9012.870859</td>\n",
              "      <td>2.053298</td>\n",
              "      <td>0.020529</td>\n",
              "    </tr>\n",
              "    <tr>\n",
              "      <th>min</th>\n",
              "      <td>2.080000e+02</td>\n",
              "      <td>1.900000e+02</td>\n",
              "      <td>6.000000</td>\n",
              "      <td>0.800000</td>\n",
              "      <td>0.764973</td>\n",
              "    </tr>\n",
              "    <tr>\n",
              "      <th>25%</th>\n",
              "      <td>4.857250e+03</td>\n",
              "      <td>4.603750e+03</td>\n",
              "      <td>227.000000</td>\n",
              "      <td>3.500000</td>\n",
              "      <td>0.943473</td>\n",
              "    </tr>\n",
              "    <tr>\n",
              "      <th>50%</th>\n",
              "      <td>1.155850e+04</td>\n",
              "      <td>1.102800e+04</td>\n",
              "      <td>539.500000</td>\n",
              "      <td>4.400000</td>\n",
              "      <td>0.955691</td>\n",
              "    </tr>\n",
              "    <tr>\n",
              "      <th>75%</th>\n",
              "      <td>3.129400e+04</td>\n",
              "      <td>3.002500e+04</td>\n",
              "      <td>1450.750000</td>\n",
              "      <td>5.675000</td>\n",
              "      <td>0.965192</td>\n",
              "    </tr>\n",
              "    <tr>\n",
              "      <th>max</th>\n",
              "      <td>4.996564e+06</td>\n",
              "      <td>4.669061e+06</td>\n",
              "      <td>327503.000000</td>\n",
              "      <td>23.500000</td>\n",
              "      <td>0.991561</td>\n",
              "    </tr>\n",
              "  </tbody>\n",
              "</table>\n",
              "</div>"
            ],
            "text/plain": [
              "       LaborForce_01Month  ...  percent_employed\n",
              "count        3.090000e+03  ...       3090.000000\n",
              "mean         5.180697e+04  ...          0.951817\n",
              "std          1.691945e+05  ...          0.020529\n",
              "min          2.080000e+02  ...          0.764973\n",
              "25%          4.857250e+03  ...          0.943473\n",
              "50%          1.155850e+04  ...          0.955691\n",
              "75%          3.129400e+04  ...          0.965192\n",
              "max          4.996564e+06  ...          0.991561\n",
              "\n",
              "[8 rows x 5 columns]"
            ]
          },
          "metadata": {
            "tags": []
          },
          "execution_count": 6
        }
      ]
    },
    {
      "cell_type": "code",
      "metadata": {
        "id": "uJtF9_WjkkrM",
        "colab_type": "code",
        "colab": {
          "base_uri": "https://localhost:8080/",
          "height": 266
        },
        "outputId": "7336b263-4d47-4981-9a31-fee92081f0e0"
      },
      "source": [
        "#Find out the average and median unemployment for each state\n",
        "df1.groupby('State').agg(['mean','median']).head()"
      ],
      "execution_count": null,
      "outputs": [
        {
          "output_type": "execute_result",
          "data": {
            "text/html": [
              "<div>\n",
              "<style scoped>\n",
              "    .dataframe tbody tr th:only-of-type {\n",
              "        vertical-align: middle;\n",
              "    }\n",
              "\n",
              "    .dataframe tbody tr th {\n",
              "        vertical-align: top;\n",
              "    }\n",
              "\n",
              "    .dataframe thead tr th {\n",
              "        text-align: left;\n",
              "    }\n",
              "\n",
              "    .dataframe thead tr:last-of-type th {\n",
              "        text-align: right;\n",
              "    }\n",
              "</style>\n",
              "<table border=\"1\" class=\"dataframe\">\n",
              "  <thead>\n",
              "    <tr>\n",
              "      <th></th>\n",
              "      <th colspan=\"2\" halign=\"left\">LaborForce_01Month</th>\n",
              "      <th colspan=\"2\" halign=\"left\">Employed_01Month</th>\n",
              "      <th colspan=\"2\" halign=\"left\">Unemployed_01Month</th>\n",
              "      <th colspan=\"2\" halign=\"left\">PctUnemployed_01Month</th>\n",
              "      <th colspan=\"2\" halign=\"left\">percent_employed</th>\n",
              "    </tr>\n",
              "    <tr>\n",
              "      <th></th>\n",
              "      <th>mean</th>\n",
              "      <th>median</th>\n",
              "      <th>mean</th>\n",
              "      <th>median</th>\n",
              "      <th>mean</th>\n",
              "      <th>median</th>\n",
              "      <th>mean</th>\n",
              "      <th>median</th>\n",
              "      <th>mean</th>\n",
              "      <th>median</th>\n",
              "    </tr>\n",
              "    <tr>\n",
              "      <th>State</th>\n",
              "      <th></th>\n",
              "      <th></th>\n",
              "      <th></th>\n",
              "      <th></th>\n",
              "      <th></th>\n",
              "      <th></th>\n",
              "      <th></th>\n",
              "      <th></th>\n",
              "      <th></th>\n",
              "      <th></th>\n",
              "    </tr>\n",
              "  </thead>\n",
              "  <tbody>\n",
              "    <tr>\n",
              "      <th>Alabama</th>\n",
              "      <td>33240.402985</td>\n",
              "      <td>14553.0</td>\n",
              "      <td>32239.776119</td>\n",
              "      <td>14133.0</td>\n",
              "      <td>1000.626866</td>\n",
              "      <td>490.0</td>\n",
              "      <td>3.483582</td>\n",
              "      <td>3.20</td>\n",
              "      <td>0.965245</td>\n",
              "      <td>0.968473</td>\n",
              "    </tr>\n",
              "    <tr>\n",
              "      <th>Alaska</th>\n",
              "      <td>12119.678571</td>\n",
              "      <td>2876.0</td>\n",
              "      <td>11411.500000</td>\n",
              "      <td>2669.5</td>\n",
              "      <td>708.178571</td>\n",
              "      <td>235.5</td>\n",
              "      <td>9.071429</td>\n",
              "      <td>8.85</td>\n",
              "      <td>0.909344</td>\n",
              "      <td>0.911053</td>\n",
              "    </tr>\n",
              "    <tr>\n",
              "      <th>Arizona</th>\n",
              "      <td>239230.133333</td>\n",
              "      <td>52093.0</td>\n",
              "      <td>224533.466667</td>\n",
              "      <td>48245.0</td>\n",
              "      <td>14696.666667</td>\n",
              "      <td>4305.0</td>\n",
              "      <td>8.353333</td>\n",
              "      <td>7.50</td>\n",
              "      <td>0.916547</td>\n",
              "      <td>0.925280</td>\n",
              "    </tr>\n",
              "    <tr>\n",
              "      <th>Arkansas</th>\n",
              "      <td>18373.653333</td>\n",
              "      <td>7960.0</td>\n",
              "      <td>17481.080000</td>\n",
              "      <td>7398.0</td>\n",
              "      <td>892.573333</td>\n",
              "      <td>454.0</td>\n",
              "      <td>5.764000</td>\n",
              "      <td>5.50</td>\n",
              "      <td>0.942321</td>\n",
              "      <td>0.945182</td>\n",
              "    </tr>\n",
              "    <tr>\n",
              "      <th>California</th>\n",
              "      <td>330898.568966</td>\n",
              "      <td>82591.0</td>\n",
              "      <td>311822.603448</td>\n",
              "      <td>78845.0</td>\n",
              "      <td>19075.965517</td>\n",
              "      <td>5977.0</td>\n",
              "      <td>7.598276</td>\n",
              "      <td>6.70</td>\n",
              "      <td>0.924069</td>\n",
              "      <td>0.933033</td>\n",
              "    </tr>\n",
              "  </tbody>\n",
              "</table>\n",
              "</div>"
            ],
            "text/plain": [
              "           LaborForce_01Month           ... percent_employed          \n",
              "                         mean   median  ...             mean    median\n",
              "State                                   ...                           \n",
              "Alabama          33240.402985  14553.0  ...         0.965245  0.968473\n",
              "Alaska           12119.678571   2876.0  ...         0.909344  0.911053\n",
              "Arizona         239230.133333  52093.0  ...         0.916547  0.925280\n",
              "Arkansas         18373.653333   7960.0  ...         0.942321  0.945182\n",
              "California      330898.568966  82591.0  ...         0.924069  0.933033\n",
              "\n",
              "[5 rows x 10 columns]"
            ]
          },
          "metadata": {
            "tags": []
          },
          "execution_count": 7
        }
      ]
    },
    {
      "cell_type": "code",
      "metadata": {
        "id": "6I_IB_80j_DJ",
        "colab_type": "code",
        "colab": {
          "base_uri": "https://localhost:8080/",
          "height": 111
        },
        "outputId": "13e04c9e-7c5b-44ad-f9f6-ac1ef38c345f"
      },
      "source": [
        "df1.head(2)"
      ],
      "execution_count": null,
      "outputs": [
        {
          "output_type": "execute_result",
          "data": {
            "text/html": [
              "<div>\n",
              "<style scoped>\n",
              "    .dataframe tbody tr th:only-of-type {\n",
              "        vertical-align: middle;\n",
              "    }\n",
              "\n",
              "    .dataframe tbody tr th {\n",
              "        vertical-align: top;\n",
              "    }\n",
              "\n",
              "    .dataframe thead th {\n",
              "        text-align: right;\n",
              "    }\n",
              "</style>\n",
              "<table border=\"1\" class=\"dataframe\">\n",
              "  <thead>\n",
              "    <tr style=\"text-align: right;\">\n",
              "      <th></th>\n",
              "      <th>State</th>\n",
              "      <th>NAME</th>\n",
              "      <th>LaborForce_01Month</th>\n",
              "      <th>Employed_01Month</th>\n",
              "      <th>Unemployed_01Month</th>\n",
              "      <th>PctUnemployed_01Month</th>\n",
              "      <th>percent_employed</th>\n",
              "    </tr>\n",
              "  </thead>\n",
              "  <tbody>\n",
              "    <tr>\n",
              "      <th>0</th>\n",
              "      <td>Alabama</td>\n",
              "      <td>Autauga County</td>\n",
              "      <td>25835.0</td>\n",
              "      <td>25114.0</td>\n",
              "      <td>721.0</td>\n",
              "      <td>2.8</td>\n",
              "      <td>0.972092</td>\n",
              "    </tr>\n",
              "    <tr>\n",
              "      <th>1</th>\n",
              "      <td>Alabama</td>\n",
              "      <td>Baldwin County</td>\n",
              "      <td>96391.0</td>\n",
              "      <td>93782.0</td>\n",
              "      <td>2609.0</td>\n",
              "      <td>2.7</td>\n",
              "      <td>0.972933</td>\n",
              "    </tr>\n",
              "  </tbody>\n",
              "</table>\n",
              "</div>"
            ],
            "text/plain": [
              "     State            NAME  ...  PctUnemployed_01Month  percent_employed\n",
              "0  Alabama  Autauga County  ...                    2.8          0.972092\n",
              "1  Alabama  Baldwin County  ...                    2.7          0.972933\n",
              "\n",
              "[2 rows x 7 columns]"
            ]
          },
          "metadata": {
            "tags": []
          },
          "execution_count": 8
        }
      ]
    },
    {
      "cell_type": "markdown",
      "metadata": {
        "id": "gFlpxsTANPZz",
        "colab_type": "text"
      },
      "source": [
        "# Outliers\n",
        "Unemployment"
      ]
    },
    {
      "cell_type": "code",
      "metadata": {
        "id": "6f3kV0yPNPD4",
        "colab_type": "code",
        "colab": {
          "base_uri": "https://localhost:8080/",
          "height": 86
        },
        "outputId": "c90d9686-79f7-4c55-8537-885792a200e8"
      },
      "source": [
        "'''\n",
        "mean, std = np.mean(d1), np.std(d1)\n",
        "z_score = np.abs((d1 - mean) / std)\n",
        "threshold = 3\n",
        "good = z_score < threshold\n",
        "\n",
        "print(f\"Rejection {(~good).sum()} points\")\n",
        "from scipy.stats import norm\n",
        "print(f\"z-score of 3 corresponds to a prob of {100 * 2 * norm.sf(threshold):0.2f}%\")\n",
        "visual_scatter = np.random.normal(size=d1.size)\n",
        "plt.scatter(d1[good], visual_scatter[good], s=2, label=\"Good\", color=\"#4CAF50\")\n",
        "plt.scatter(d1[~good], visual_scatter[~good], s=8, label=\"Bad\", color=\"#F44336\")\n",
        "plt.legend();\n",
        "'''"
      ],
      "execution_count": null,
      "outputs": [
        {
          "output_type": "execute_result",
          "data": {
            "application/vnd.google.colaboratory.intrinsic": {
              "type": "string"
            },
            "text/plain": [
              "'\\nmean, std = np.mean(d1), np.std(d1)\\nz_score = np.abs((d1 - mean) / std)\\nthreshold = 3\\ngood = z_score < threshold\\n\\nprint(f\"Rejection {(~good).sum()} points\")\\nfrom scipy.stats import norm\\nprint(f\"z-score of 3 corresponds to a prob of {100 * 2 * norm.sf(threshold):0.2f}%\")\\nvisual_scatter = np.random.normal(size=d1.size)\\nplt.scatter(d1[good], visual_scatter[good], s=2, label=\"Good\", color=\"#4CAF50\")\\nplt.scatter(d1[~good], visual_scatter[~good], s=8, label=\"Bad\", color=\"#F44336\")\\nplt.legend();\\n'"
            ]
          },
          "metadata": {
            "tags": []
          },
          "execution_count": 19
        }
      ]
    },
    {
      "cell_type": "code",
      "metadata": {
        "id": "UtLcM__Uc2x1",
        "colab_type": "code",
        "colab": {
          "base_uri": "https://localhost:8080/",
          "height": 80
        },
        "outputId": "2914b205-ebf3-4e39-8995-b49b8a0d2133"
      },
      "source": [
        "df1.head(1)"
      ],
      "execution_count": null,
      "outputs": [
        {
          "output_type": "execute_result",
          "data": {
            "text/html": [
              "<div>\n",
              "<style scoped>\n",
              "    .dataframe tbody tr th:only-of-type {\n",
              "        vertical-align: middle;\n",
              "    }\n",
              "\n",
              "    .dataframe tbody tr th {\n",
              "        vertical-align: top;\n",
              "    }\n",
              "\n",
              "    .dataframe thead th {\n",
              "        text-align: right;\n",
              "    }\n",
              "</style>\n",
              "<table border=\"1\" class=\"dataframe\">\n",
              "  <thead>\n",
              "    <tr style=\"text-align: right;\">\n",
              "      <th></th>\n",
              "      <th>State</th>\n",
              "      <th>NAME</th>\n",
              "      <th>LaborForce_01Month</th>\n",
              "      <th>Employed_01Month</th>\n",
              "      <th>Unemployed_01Month</th>\n",
              "      <th>PctUnemployed_01Month</th>\n",
              "      <th>percent_employed</th>\n",
              "    </tr>\n",
              "  </thead>\n",
              "  <tbody>\n",
              "    <tr>\n",
              "      <th>0</th>\n",
              "      <td>Alabama</td>\n",
              "      <td>Autauga County</td>\n",
              "      <td>25835.0</td>\n",
              "      <td>25114.0</td>\n",
              "      <td>721.0</td>\n",
              "      <td>2.8</td>\n",
              "      <td>0.972092</td>\n",
              "    </tr>\n",
              "  </tbody>\n",
              "</table>\n",
              "</div>"
            ],
            "text/plain": [
              "     State            NAME  ...  PctUnemployed_01Month  percent_employed\n",
              "0  Alabama  Autauga County  ...                    2.8          0.972092\n",
              "\n",
              "[1 rows x 7 columns]"
            ]
          },
          "metadata": {
            "tags": []
          },
          "execution_count": 20
        }
      ]
    },
    {
      "cell_type": "code",
      "metadata": {
        "id": "92GKwAXAc800",
        "colab_type": "code",
        "colab": {
          "base_uri": "https://localhost:8080/",
          "height": 329
        },
        "outputId": "4e49951c-0aba-47d2-ee35-9839cb091a38"
      },
      "source": [
        "mean, std=np.mean(df1['LaborForce_01Month']), np.std(df1['LaborForce_01Month'])\n",
        "z_score = np.abs(df1['LaborForce_01Month']-mean / std)\n",
        "threshold = 3\n",
        "good = z_score < threshold\n",
        "\n",
        "print(f\"Rejection {(~good).sum()} points\")\n",
        "print(f\"z-score of 3 corresponds to a prob of {100 * 2 * norm.sf(threshold):0.2f}%\")\n",
        "visual_scatter = np.random.normal(size=df1['LaborForce_01Month'].size)\n",
        "plt.scatter(df1['LaborForce_01Month'][good], visual_scatter[good], s=2, label=\"Good\", color=\"#4CAF50\")\n",
        "plt.scatter(df1['LaborForce_01Month'][~good], visual_scatter[~good], s=8, label=\"Bad\", color=\"#F44336\")\n",
        "plt.legend()"
      ],
      "execution_count": null,
      "outputs": [
        {
          "output_type": "stream",
          "text": [
            "Rejection 3090 points\n",
            "z-score of 3 corresponds to a prob of 0.27%\n"
          ],
          "name": "stdout"
        },
        {
          "output_type": "execute_result",
          "data": {
            "text/plain": [
              "<matplotlib.legend.Legend at 0x7f5759d1fcc0>"
            ]
          },
          "metadata": {
            "tags": []
          },
          "execution_count": 21
        },
        {
          "output_type": "display_data",
          "data": {
            "image/png": "[encoded data removed]",
            "text/plain": [
              "<Figure size 432x288 with 1 Axes>"
            ]
          },
          "metadata": {
            "tags": [],
            "needs_background": "light"
          }
        }
      ]
    },
    {
      "cell_type": "code",
      "metadata": {
        "id": "R9OekAq-C0I8",
        "colab_type": "code",
        "colab": {
          "base_uri": "https://localhost:8080/",
          "height": 316
        },
        "outputId": "7fbe1727-8189-4029-9ed2-42fc672a56c8"
      },
      "source": [
        "mean, std=np.mean(df1['PctUnemployed_01Month']), np.std(df1['Unemployed_01Month'])\n",
        "z_score = np.abs(df1['PctUnemployed_01Month']-mean / std)\n",
        "threshold = 3\n",
        "good = z_score < threshold\n",
        "\n",
        "print(f\"Rejection {(~good).sum()} points\")\n",
        "print(f\"z-score of 3 corresponds to a prob of {100 * 2 * norm.sf(threshold):0.2f}%\")\n",
        "visual_scatter = np.random.normal(size=df1['PctUnemployed_01Month'].size)\n",
        "plt.scatter(df1['PctUnemployed_01Month'][good], visual_scatter[good], s=2, label=\"Good\", color=\"#4CAF50\")\n",
        "plt.scatter(df1['PctUnemployed_01Month'][~good], visual_scatter[~good], s=8, label=\"Bad\", color=\"#F44336\")\n",
        "plt.legend()"
      ],
      "execution_count": null,
      "outputs": [
        {
          "output_type": "stream",
          "text": [
            "Rejection 2635 points\n",
            "z-score of 3 corresponds to a prob of 0.27%\n"
          ],
          "name": "stdout"
        },
        {
          "output_type": "execute_result",
          "data": {
            "text/plain": [
              "<matplotlib.legend.Legend at 0x7f5759d66cc0>"
            ]
          },
          "metadata": {
            "tags": []
          },
          "execution_count": 22
        },
        {
          "output_type": "display_data",
          "data": {
            "image/png": "[encoded data removed]",
            "text/plain": [
              "<Figure size 432x288 with 1 Axes>"
            ]
          },
          "metadata": {
            "tags": [],
            "needs_background": "light"
          }
        }
      ]
    },
    {
      "cell_type": "code",
      "metadata": {
        "id": "XxOIrW2Zd7CF",
        "colab_type": "code",
        "colab": {
          "base_uri": "https://localhost:8080/",
          "height": 329
        },
        "outputId": "a1d19c49-dbec-47c9-f68e-bcb2cd0451b3"
      },
      "source": [
        "mean, std=np.mean(df1['Employed_01Month']), np.std(df1['Employed_01Month'])\n",
        "z_score = np.abs(df1['Employed_01Month']-mean / std)\n",
        "threshold = 3\n",
        "good = z_score < threshold\n",
        "\n",
        "print(f\"Rejection {(~good).sum()} points\")\n",
        "print(f\"z-score of 3 corresponds to a prob of {100 * 2 * norm.sf(threshold):0.2f}%\")\n",
        "visual_scatter = np.random.normal(size=df1['Employed_01Month'].size)\n",
        "plt.scatter(df1['Employed_01Month'][good], visual_scatter[good], s=2, label=\"Good\", color=\"#4CAF50\")\n",
        "plt.scatter(df1['Employed_01Month'][~good], visual_scatter[~good], s=8, label=\"Bad\", color=\"#F44336\")\n",
        "plt.legend()"
      ],
      "execution_count": null,
      "outputs": [
        {
          "output_type": "stream",
          "text": [
            "Rejection 3090 points\n",
            "z-score of 3 corresponds to a prob of 0.27%\n"
          ],
          "name": "stdout"
        },
        {
          "output_type": "execute_result",
          "data": {
            "text/plain": [
              "<matplotlib.legend.Legend at 0x7f575a2caa58>"
            ]
          },
          "metadata": {
            "tags": []
          },
          "execution_count": 23
        },
        {
          "output_type": "display_data",
          "data": {
            "image/png": "[encoded data removed]",
            "text/plain": [
              "<Figure size 432x288 with 1 Axes>"
            ]
          },
          "metadata": {
            "tags": [],
            "needs_background": "light"
          }
        }
      ]
    },
    {
      "cell_type": "code",
      "metadata": {
        "id": "EdiNBi-PDRBH",
        "colab_type": "code",
        "colab": {
          "base_uri": "https://localhost:8080/",
          "height": 221
        },
        "outputId": "b05a50a3-d787-46c8-8f7a-675b2b7002d8"
      },
      "source": [
        "df1['LaborForce_01Month'] = df1['LaborForce_01Month'][good]\n",
        "df1['PctUnemployed_01Month']= df1['PctUnemployed_01Month'][good]"
      ],
      "execution_count": null,
      "outputs": [
        {
          "output_type": "stream",
          "text": [
            "/usr/local/lib/python3.6/dist-packages/ipykernel_launcher.py:1: SettingWithCopyWarning: \n",
            "A value is trying to be set on a copy of a slice from a DataFrame.\n",
            "Try using .loc[row_indexer,col_indexer] = value instead\n",
            "\n",
            "See the caveats in the documentation: https://pandas.pydata.org/pandas-docs/stable/user_guide/indexing.html#returning-a-view-versus-a-copy\n",
            "  \"\"\"Entry point for launching an IPython kernel.\n",
            "/usr/local/lib/python3.6/dist-packages/ipykernel_launcher.py:2: SettingWithCopyWarning: \n",
            "A value is trying to be set on a copy of a slice from a DataFrame.\n",
            "Try using .loc[row_indexer,col_indexer] = value instead\n",
            "\n",
            "See the caveats in the documentation: https://pandas.pydata.org/pandas-docs/stable/user_guide/indexing.html#returning-a-view-versus-a-copy\n",
            "  \n"
          ],
          "name": "stderr"
        }
      ]
    },
    {
      "cell_type": "code",
      "metadata": {
        "id": "lJKO3KdWDSHa",
        "colab_type": "code",
        "colab": {
          "base_uri": "https://localhost:8080/",
          "height": 403
        },
        "outputId": "5a425f52-8b66-42f0-b5dd-64691ddceb31"
      },
      "source": [
        "df1.boxplot(figsize=(15,6))"
      ],
      "execution_count": null,
      "outputs": [
        {
          "output_type": "execute_result",
          "data": {
            "text/plain": [
              "<matplotlib.axes._subplots.AxesSubplot at 0x7f5759bdb358>"
            ]
          },
          "metadata": {
            "tags": []
          },
          "execution_count": 25
        },
        {
          "output_type": "display_data",
          "data": {
            "image/png": "[encoded data removed]",
            "text/plain": [
              "<Figure size 1080x432 with 1 Axes>"
            ]
          },
          "metadata": {
            "tags": [],
            "needs_background": "light"
          }
        }
      ]
    },
    {
      "cell_type": "code",
      "metadata": {
        "id": "uJmU5dZdUSGE",
        "colab_type": "code",
        "colab": {
          "base_uri": "https://localhost:8080/",
          "height": 401
        },
        "outputId": "a2f0261e-6948-44ad-a942-8e6c5ba5a2b1"
      },
      "source": [
        "plt.boxplot(df['PctUnemployed_01Month'])"
      ],
      "execution_count": null,
      "outputs": [
        {
          "output_type": "execute_result",
          "data": {
            "text/plain": [
              "{'boxes': [<matplotlib.lines.Line2D at 0x7f5759b009e8>],\n",
              " 'caps': [<matplotlib.lines.Line2D at 0x7f5759a8d438>,\n",
              "  <matplotlib.lines.Line2D at 0x7f5759a8d7b8>],\n",
              " 'fliers': [<matplotlib.lines.Line2D at 0x7f5759a8deb8>],\n",
              " 'means': [],\n",
              " 'medians': [<matplotlib.lines.Line2D at 0x7f5759a8db38>],\n",
              " 'whiskers': [<matplotlib.lines.Line2D at 0x7f5759b00cf8>,\n",
              "  <matplotlib.lines.Line2D at 0x7f5759a8d0b8>]}"
            ]
          },
          "metadata": {
            "tags": []
          },
          "execution_count": 26
        },
        {
          "output_type": "display_data",
          "data": {
            "image/png": "[encoded data removed]",
            "text/plain": [
              "<Figure size 432x288 with 1 Axes>"
            ]
          },
          "metadata": {
            "tags": [],
            "needs_background": "light"
          }
        }
      ]
    },
    {
      "cell_type": "code",
      "metadata": {
        "id": "lNFwul1rUpmM",
        "colab_type": "code",
        "colab": {
          "base_uri": "https://localhost:8080/",
          "height": 401
        },
        "outputId": "48885e99-7e82-4484-ea5a-5e52e77d4c31"
      },
      "source": [
        "plt.boxplot(df['Unemployed_01Month'])"
      ],
      "execution_count": null,
      "outputs": [
        {
          "output_type": "execute_result",
          "data": {
            "text/plain": [
              "{'boxes': [<matplotlib.lines.Line2D at 0x7f5759a6e080>],\n",
              " 'caps': [<matplotlib.lines.Line2D at 0x7f5759a6ea58>,\n",
              "  <matplotlib.lines.Line2D at 0x7f5759a6edd8>],\n",
              " 'fliers': [<matplotlib.lines.Line2D at 0x7f5759a7a518>],\n",
              " 'means': [],\n",
              " 'medians': [<matplotlib.lines.Line2D at 0x7f5759a7a198>],\n",
              " 'whiskers': [<matplotlib.lines.Line2D at 0x7f5759a6e390>,\n",
              "  <matplotlib.lines.Line2D at 0x7f5759a6e6d8>]}"
            ]
          },
          "metadata": {
            "tags": []
          },
          "execution_count": 27
        },
        {
          "output_type": "display_data",
          "data": {
            "image/png": "[encoded data removed]",
            "text/plain": [
              "<Figure size 432x288 with 1 Axes>"
            ]
          },
          "metadata": {
            "tags": [],
            "needs_background": "light"
          }
        }
      ]
    },
    {
      "cell_type": "markdown",
      "metadata": {
        "id": "vkwHG5H1e4s0",
        "colab_type": "text"
      },
      "source": [
        "# Trim Outliers (Recommended)\n",
        "Remove outliers on df1_copy version"
      ]
    },
    {
      "cell_type": "code",
      "metadata": {
        "id": "HX6MbN-2fIkN",
        "colab_type": "code",
        "colab": {}
      },
      "source": [
        "#Make a copy version of df1\n",
        "df1_copy = df1.copy()"
      ],
      "execution_count": null,
      "outputs": []
    },
    {
      "cell_type": "code",
      "metadata": {
        "id": "eYdRk0mhe3_R",
        "colab_type": "code",
        "colab": {}
      },
      "source": [
        "#Trim outliers:\n",
        "starting_percentile = df1_copy['PctUnemployed_01Month'].quantile(.02)\n",
        "ending_percentile = df1_copy['PctUnemployed_01Month'].quantile(.98)\n",
        "price_outliers_df = df1_copy.loc[((df1_copy['PctUnemployed_01Month'] <= starting_percentile) | (df1_copy['PctUnemployed_01Month'] >= ending_percentile))]\n",
        "df_trimmed = df1_copy.loc[((df1_copy['PctUnemployed_01Month'] > starting_percentile) & (df1_copy['PctUnemployed_01Month'] < ending_percentile))]"
      ],
      "execution_count": null,
      "outputs": []
    },
    {
      "cell_type": "code",
      "metadata": {
        "id": "jckU2G3fi1mX",
        "colab_type": "code",
        "colab": {}
      },
      "source": [
        "# Drop incomplete cases\n",
        "df1_copy_filtered = df_trimmed.dropna()"
      ],
      "execution_count": null,
      "outputs": []
    },
    {
      "cell_type": "code",
      "metadata": {
        "id": "DelK8bgwi-IQ",
        "colab_type": "code",
        "colab": {
          "base_uri": "https://localhost:8080/",
          "height": 49
        },
        "outputId": "1ee9857b-50fe-466a-8bcf-65b175b007fd"
      },
      "source": [
        "df1_copy_filtered"
      ],
      "execution_count": null,
      "outputs": [
        {
          "output_type": "execute_result",
          "data": {
            "text/html": [
              "<div>\n",
              "<style scoped>\n",
              "    .dataframe tbody tr th:only-of-type {\n",
              "        vertical-align: middle;\n",
              "    }\n",
              "\n",
              "    .dataframe tbody tr th {\n",
              "        vertical-align: top;\n",
              "    }\n",
              "\n",
              "    .dataframe thead th {\n",
              "        text-align: right;\n",
              "    }\n",
              "</style>\n",
              "<table border=\"1\" class=\"dataframe\">\n",
              "  <thead>\n",
              "    <tr style=\"text-align: right;\">\n",
              "      <th></th>\n",
              "      <th>State</th>\n",
              "      <th>NAME</th>\n",
              "      <th>LaborForce_01Month</th>\n",
              "      <th>Employed_01Month</th>\n",
              "      <th>Unemployed_01Month</th>\n",
              "      <th>PctUnemployed_01Month</th>\n",
              "      <th>percent_employed</th>\n",
              "    </tr>\n",
              "  </thead>\n",
              "  <tbody>\n",
              "  </tbody>\n",
              "</table>\n",
              "</div>"
            ],
            "text/plain": [
              "Empty DataFrame\n",
              "Columns: [State, NAME, LaborForce_01Month, Employed_01Month, Unemployed_01Month, PctUnemployed_01Month, percent_employed]\n",
              "Index: []"
            ]
          },
          "metadata": {
            "tags": []
          },
          "execution_count": 31
        }
      ]
    },
    {
      "cell_type": "code",
      "metadata": {
        "id": "yv2f6V9LiinW",
        "colab_type": "code",
        "colab": {
          "base_uri": "https://localhost:8080/",
          "height": 34
        },
        "outputId": "c49669a9-f350-4fe6-b9d2-357aed1505e9"
      },
      "source": [
        "print(df1.shape,df1_copy_filtered.shape)"
      ],
      "execution_count": null,
      "outputs": [
        {
          "output_type": "stream",
          "text": [
            "(3090, 7) (0, 7)\n"
          ],
          "name": "stdout"
        }
      ]
    },
    {
      "cell_type": "code",
      "metadata": {
        "id": "w6BBzlv4cKKf",
        "colab_type": "code",
        "colab": {}
      },
      "source": [
        ""
      ],
      "execution_count": null,
      "outputs": []
    },
    {
      "cell_type": "code",
      "metadata": {
        "id": "k-kDhhyFcXiU",
        "colab_type": "code",
        "colab": {}
      },
      "source": [
        ""
      ],
      "execution_count": null,
      "outputs": []
    }
  ]
}