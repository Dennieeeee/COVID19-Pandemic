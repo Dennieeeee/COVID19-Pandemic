{
  "nbformat": 4,
  "nbformat_minor": 0,
  "metadata": {
    "colab": {
      "name": "COVID19_EDA.ipynb",
      "provenance": [],
      "collapsed_sections": [],
      "include_colab_link": true
    },
    "kernelspec": {
      "name": "python3",
      "display_name": "Python 3"
    }
  },
  "cells": [
    {
      "cell_type": "markdown",
      "metadata": {
        "id": "view-in-github",
        "colab_type": "text"
      },
      "source": [
        "<a href=\"https://colab.research.google.com/github/Dennieeeee/COVID19-Pandemic/blob/master/COVID19_EDA.ipynb\" target=\"_parent\"><img src=\"https://colab.research.google.com/assets/colab-badge.svg\" alt=\"Open In Colab\"/></a>"
      ]
    },
    {
      "cell_type": "code",
      "metadata": {
        "id": "FOEXtUTleB3B",
        "colab_type": "code",
        "colab": {}
      },
      "source": [
        "import pandas as pd\n",
        "import numpy as np\n",
        "import matplotlib.pyplot as plt\n",
        "import seaborn as sns\n",
        "from scipy.stats import norm"
      ],
      "execution_count": null,
      "outputs": []
    },
    {
      "cell_type": "code",
      "metadata": {
        "id": "IHZOPeQseMRW",
        "colab_type": "code",
        "colab": {}
      },
      "source": [
        "file='https://raw.githubusercontent.com/Dennieeeee/COVID19-Pandemic/master/covid19_unemployment_2020'\n",
        "#file2 is the one after outliers are removed\n",
        "file2 = 'https://raw.githubusercontent.com/Dennieeeee/COVID19-Pandemic/master/COVID19_unemp_v2'\n",
        "df=pd.read_csv(file2)"
      ],
      "execution_count": null,
      "outputs": []
    },
    {
      "cell_type": "markdown",
      "metadata": {
        "id": "frniHl2jqlqc",
        "colab_type": "text"
      },
      "source": [
        "# Columns\n",
        "- ALAND: Area of Land (square meters)\n",
        "- AWATER: Area of Water (square meters)\n",
        "- NAME: City Name\n",
        "- State: State\n",
        "- LaborForce_01Month: Count of people within the US labor force, 1 month prior to current\n",
        "- Employed_01Month: Count of employed population, 1 month prior to current\n",
        "- Unemployed_01Month: Count of unemployed population, 1 month prior to current\n",
        "- PctUnemployed_01Month: Percent unemployed population, 1 month prior to current\n",
        "- CurrentMonth: Month and year, most current month offered by BLS\n",
        "- vulnerability_index: Vulnerability Index\n",
        "- rank_cvi: Rank\n",
        "- fips_cvi: Fips"
      ]
    },
    {
      "cell_type": "code",
      "metadata": {
        "id": "U-W3eZjVg1id",
        "colab_type": "code",
        "colab": {
          "base_uri": "https://localhost:8080/",
          "height": 326
        },
        "outputId": "40097c9a-522c-4b05-b17e-fef8c05efc5f"
      },
      "source": [
        "df.head()"
      ],
      "execution_count": null,
      "outputs": [
        {
          "output_type": "execute_result",
          "data": {
            "text/html": [
              "<div>\n",
              "<style scoped>\n",
              "    .dataframe tbody tr th:only-of-type {\n",
              "        vertical-align: middle;\n",
              "    }\n",
              "\n",
              "    .dataframe tbody tr th {\n",
              "        vertical-align: top;\n",
              "    }\n",
              "\n",
              "    .dataframe thead th {\n",
              "        text-align: right;\n",
              "    }\n",
              "</style>\n",
              "<table border=\"1\" class=\"dataframe\">\n",
              "  <thead>\n",
              "    <tr style=\"text-align: right;\">\n",
              "      <th></th>\n",
              "      <th>Unnamed: 0</th>\n",
              "      <th>ALAND</th>\n",
              "      <th>AWATER</th>\n",
              "      <th>NAME</th>\n",
              "      <th>State</th>\n",
              "      <th>LaborForce_01Month</th>\n",
              "      <th>Employed_01Month</th>\n",
              "      <th>Unemployed_01Month</th>\n",
              "      <th>PctUnemployed_01Month</th>\n",
              "      <th>CurrentMonth</th>\n",
              "      <th>vulnerability_index</th>\n",
              "      <th>rank_cvi</th>\n",
              "      <th>fips_cvi</th>\n",
              "      <th>percent_employed</th>\n",
              "    </tr>\n",
              "  </thead>\n",
              "  <tbody>\n",
              "    <tr>\n",
              "      <th>0</th>\n",
              "      <td>0</td>\n",
              "      <td>1539602137</td>\n",
              "      <td>25706961</td>\n",
              "      <td>Autauga County</td>\n",
              "      <td>Alabama</td>\n",
              "      <td>25835.0</td>\n",
              "      <td>25114.0</td>\n",
              "      <td>721.0</td>\n",
              "      <td>2.8</td>\n",
              "      <td>April 2020 - Preliminary</td>\n",
              "      <td>110.31</td>\n",
              "      <td>401</td>\n",
              "      <td>1001</td>\n",
              "      <td>0.972092</td>\n",
              "    </tr>\n",
              "    <tr>\n",
              "      <th>1</th>\n",
              "      <td>1</td>\n",
              "      <td>4117621645</td>\n",
              "      <td>1132980868</td>\n",
              "      <td>Baldwin County</td>\n",
              "      <td>Alabama</td>\n",
              "      <td>96391.0</td>\n",
              "      <td>93782.0</td>\n",
              "      <td>2609.0</td>\n",
              "      <td>2.7</td>\n",
              "      <td>April 2020 - Preliminary</td>\n",
              "      <td>146.88</td>\n",
              "      <td>91</td>\n",
              "      <td>1003</td>\n",
              "      <td>0.972933</td>\n",
              "    </tr>\n",
              "    <tr>\n",
              "      <th>2</th>\n",
              "      <td>2</td>\n",
              "      <td>2292160139</td>\n",
              "      <td>50523213</td>\n",
              "      <td>Barbour County</td>\n",
              "      <td>Alabama</td>\n",
              "      <td>8537.0</td>\n",
              "      <td>8221.0</td>\n",
              "      <td>316.0</td>\n",
              "      <td>3.7</td>\n",
              "      <td>April 2020 - Preliminary</td>\n",
              "      <td>87.78</td>\n",
              "      <td>1455</td>\n",
              "      <td>1005</td>\n",
              "      <td>0.962985</td>\n",
              "    </tr>\n",
              "    <tr>\n",
              "      <th>3</th>\n",
              "      <td>3</td>\n",
              "      <td>1612167476</td>\n",
              "      <td>9602089</td>\n",
              "      <td>Bibb County</td>\n",
              "      <td>Alabama</td>\n",
              "      <td>8617.0</td>\n",
              "      <td>8348.0</td>\n",
              "      <td>269.0</td>\n",
              "      <td>3.1</td>\n",
              "      <td>April 2020 - Preliminary</td>\n",
              "      <td>69.94</td>\n",
              "      <td>2398</td>\n",
              "      <td>1007</td>\n",
              "      <td>0.968783</td>\n",
              "    </tr>\n",
              "    <tr>\n",
              "      <th>4</th>\n",
              "      <td>4</td>\n",
              "      <td>1670103866</td>\n",
              "      <td>15015467</td>\n",
              "      <td>Blount County</td>\n",
              "      <td>Alabama</td>\n",
              "      <td>25103.0</td>\n",
              "      <td>24421.0</td>\n",
              "      <td>682.0</td>\n",
              "      <td>2.7</td>\n",
              "      <td>April 2020 - Preliminary</td>\n",
              "      <td>92.04</td>\n",
              "      <td>1224</td>\n",
              "      <td>1009</td>\n",
              "      <td>0.972832</td>\n",
              "    </tr>\n",
              "  </tbody>\n",
              "</table>\n",
              "</div>"
            ],
            "text/plain": [
              "   Unnamed: 0       ALAND      AWATER  ... rank_cvi fips_cvi  percent_employed\n",
              "0           0  1539602137    25706961  ...      401     1001          0.972092\n",
              "1           1  4117621645  1132980868  ...       91     1003          0.972933\n",
              "2           2  2292160139    50523213  ...     1455     1005          0.962985\n",
              "3           3  1612167476     9602089  ...     2398     1007          0.968783\n",
              "4           4  1670103866    15015467  ...     1224     1009          0.972832\n",
              "\n",
              "[5 rows x 14 columns]"
            ]
          },
          "metadata": {
            "tags": []
          },
          "execution_count": 20
        }
      ]
    },
    {
      "cell_type": "code",
      "metadata": {
        "id": "YXW27iJLg6tp",
        "colab_type": "code",
        "colab": {
          "base_uri": "https://localhost:8080/",
          "height": 460
        },
        "outputId": "dbe4a8a9-2654-495c-b59f-4b4743f91d40"
      },
      "source": [
        "df['State'].value_counts().plot(kind='bar',figsize=(20,6))"
      ],
      "execution_count": null,
      "outputs": [
        {
          "output_type": "execute_result",
          "data": {
            "text/plain": [
              "<matplotlib.axes._subplots.AxesSubplot at 0x7f0021f221d0>"
            ]
          },
          "metadata": {
            "tags": []
          },
          "execution_count": 21
        },
        {
          "output_type": "display_data",
          "data": {
            "image/png": "[encoded data removed]",
            "text/plain": [
              "<Figure size 1440x432 with 1 Axes>"
            ]
          },
          "metadata": {
            "tags": [],
            "needs_background": "light"
          }
        }
      ]
    },
    {
      "cell_type": "code",
      "metadata": {
        "id": "f5I6fRyDjtJh",
        "colab_type": "code",
        "colab": {
          "base_uri": "https://localhost:8080/",
          "height": 334
        },
        "outputId": "9f5fe82a-5a8e-449f-fcd0-f3126563c1c4"
      },
      "source": [
        "df.describe()"
      ],
      "execution_count": null,
      "outputs": [
        {
          "output_type": "execute_result",
          "data": {
            "text/html": [
              "<div>\n",
              "<style scoped>\n",
              "    .dataframe tbody tr th:only-of-type {\n",
              "        vertical-align: middle;\n",
              "    }\n",
              "\n",
              "    .dataframe tbody tr th {\n",
              "        vertical-align: top;\n",
              "    }\n",
              "\n",
              "    .dataframe thead th {\n",
              "        text-align: right;\n",
              "    }\n",
              "</style>\n",
              "<table border=\"1\" class=\"dataframe\">\n",
              "  <thead>\n",
              "    <tr style=\"text-align: right;\">\n",
              "      <th></th>\n",
              "      <th>Unnamed: 0</th>\n",
              "      <th>ALAND</th>\n",
              "      <th>AWATER</th>\n",
              "      <th>LaborForce_01Month</th>\n",
              "      <th>Employed_01Month</th>\n",
              "      <th>Unemployed_01Month</th>\n",
              "      <th>PctUnemployed_01Month</th>\n",
              "      <th>vulnerability_index</th>\n",
              "      <th>rank_cvi</th>\n",
              "      <th>fips_cvi</th>\n",
              "      <th>percent_employed</th>\n",
              "    </tr>\n",
              "  </thead>\n",
              "  <tbody>\n",
              "    <tr>\n",
              "      <th>count</th>\n",
              "      <td>2712.000000</td>\n",
              "      <td>2.712000e+03</td>\n",
              "      <td>2.712000e+03</td>\n",
              "      <td>2.712000e+03</td>\n",
              "      <td>2.712000e+03</td>\n",
              "      <td>2712.000000</td>\n",
              "      <td>2712.000000</td>\n",
              "      <td>2712.000000</td>\n",
              "      <td>2712.000000</td>\n",
              "      <td>2712.000000</td>\n",
              "      <td>2712.000000</td>\n",
              "    </tr>\n",
              "    <tr>\n",
              "      <th>mean</th>\n",
              "      <td>1570.270280</td>\n",
              "      <td>2.562338e+09</td>\n",
              "      <td>1.714436e+08</td>\n",
              "      <td>5.432668e+04</td>\n",
              "      <td>5.190552e+04</td>\n",
              "      <td>2421.162611</td>\n",
              "      <td>4.582264</td>\n",
              "      <td>88.170199</td>\n",
              "      <td>1537.429204</td>\n",
              "      <td>30624.427729</td>\n",
              "      <td>0.954184</td>\n",
              "    </tr>\n",
              "    <tr>\n",
              "      <th>std</th>\n",
              "      <td>891.335722</td>\n",
              "      <td>5.646907e+09</td>\n",
              "      <td>8.336456e+08</td>\n",
              "      <td>1.774980e+05</td>\n",
              "      <td>1.683569e+05</td>\n",
              "      <td>9415.910158</td>\n",
              "      <td>1.263020</td>\n",
              "      <td>26.863165</td>\n",
              "      <td>901.701183</td>\n",
              "      <td>15010.673756</td>\n",
              "      <td>0.012634</td>\n",
              "    </tr>\n",
              "    <tr>\n",
              "      <th>min</th>\n",
              "      <td>0.000000</td>\n",
              "      <td>5.869050e+07</td>\n",
              "      <td>1.983800e+04</td>\n",
              "      <td>2.080000e+02</td>\n",
              "      <td>1.970000e+02</td>\n",
              "      <td>7.000000</td>\n",
              "      <td>2.600000</td>\n",
              "      <td>18.470000</td>\n",
              "      <td>1.000000</td>\n",
              "      <td>1001.000000</td>\n",
              "      <td>0.921524</td>\n",
              "    </tr>\n",
              "    <tr>\n",
              "      <th>25%</th>\n",
              "      <td>777.750000</td>\n",
              "      <td>1.117973e+09</td>\n",
              "      <td>7.731952e+06</td>\n",
              "      <td>5.336250e+03</td>\n",
              "      <td>5.094000e+03</td>\n",
              "      <td>241.000000</td>\n",
              "      <td>3.600000</td>\n",
              "      <td>71.820000</td>\n",
              "      <td>750.750000</td>\n",
              "      <td>18176.500000</td>\n",
              "      <td>0.945984</td>\n",
              "    </tr>\n",
              "    <tr>\n",
              "      <th>50%</th>\n",
              "      <td>1583.500000</td>\n",
              "      <td>1.572621e+09</td>\n",
              "      <td>1.969326e+07</td>\n",
              "      <td>1.263350e+04</td>\n",
              "      <td>1.203250e+04</td>\n",
              "      <td>562.000000</td>\n",
              "      <td>4.400000</td>\n",
              "      <td>86.540000</td>\n",
              "      <td>1530.500000</td>\n",
              "      <td>29226.000000</td>\n",
              "      <td>0.955895</td>\n",
              "    </tr>\n",
              "    <tr>\n",
              "      <th>75%</th>\n",
              "      <td>2354.250000</td>\n",
              "      <td>2.341168e+09</td>\n",
              "      <td>6.107484e+07</td>\n",
              "      <td>3.398625e+04</td>\n",
              "      <td>3.212175e+04</td>\n",
              "      <td>1487.500000</td>\n",
              "      <td>5.400000</td>\n",
              "      <td>100.602500</td>\n",
              "      <td>2308.250000</td>\n",
              "      <td>46013.500000</td>\n",
              "      <td>0.964087</td>\n",
              "    </tr>\n",
              "    <tr>\n",
              "      <th>max</th>\n",
              "      <td>3089.000000</td>\n",
              "      <td>2.300542e+11</td>\n",
              "      <td>2.252565e+10</td>\n",
              "      <td>4.996564e+06</td>\n",
              "      <td>4.669061e+06</td>\n",
              "      <td>327503.000000</td>\n",
              "      <td>7.800000</td>\n",
              "      <td>348.830000</td>\n",
              "      <td>3140.000000</td>\n",
              "      <td>56045.000000</td>\n",
              "      <td>0.974497</td>\n",
              "    </tr>\n",
              "  </tbody>\n",
              "</table>\n",
              "</div>"
            ],
            "text/plain": [
              "        Unnamed: 0         ALAND  ...      fips_cvi  percent_employed\n",
              "count  2712.000000  2.712000e+03  ...   2712.000000       2712.000000\n",
              "mean   1570.270280  2.562338e+09  ...  30624.427729          0.954184\n",
              "std     891.335722  5.646907e+09  ...  15010.673756          0.012634\n",
              "min       0.000000  5.869050e+07  ...   1001.000000          0.921524\n",
              "25%     777.750000  1.117973e+09  ...  18176.500000          0.945984\n",
              "50%    1583.500000  1.572621e+09  ...  29226.000000          0.955895\n",
              "75%    2354.250000  2.341168e+09  ...  46013.500000          0.964087\n",
              "max    3089.000000  2.300542e+11  ...  56045.000000          0.974497\n",
              "\n",
              "[8 rows x 11 columns]"
            ]
          },
          "metadata": {
            "tags": []
          },
          "execution_count": 22
        }
      ]
    },
    {
      "cell_type": "code",
      "metadata": {
        "id": "uJtF9_WjkkrM",
        "colab_type": "code",
        "colab": {
          "base_uri": "https://localhost:8080/",
          "height": 286
        },
        "outputId": "7f22a464-5829-497f-a364-0917060b1603"
      },
      "source": [
        "#Find out the average and median unemployment for each state\n",
        "df.groupby('State').agg(['mean','median']).head()"
      ],
      "execution_count": null,
      "outputs": [
        {
          "output_type": "execute_result",
          "data": {
            "text/html": [
              "<div>\n",
              "<style scoped>\n",
              "    .dataframe tbody tr th:only-of-type {\n",
              "        vertical-align: middle;\n",
              "    }\n",
              "\n",
              "    .dataframe tbody tr th {\n",
              "        vertical-align: top;\n",
              "    }\n",
              "\n",
              "    .dataframe thead tr th {\n",
              "        text-align: left;\n",
              "    }\n",
              "\n",
              "    .dataframe thead tr:last-of-type th {\n",
              "        text-align: right;\n",
              "    }\n",
              "</style>\n",
              "<table border=\"1\" class=\"dataframe\">\n",
              "  <thead>\n",
              "    <tr>\n",
              "      <th></th>\n",
              "      <th colspan=\"2\" halign=\"left\">Unnamed: 0</th>\n",
              "      <th colspan=\"2\" halign=\"left\">ALAND</th>\n",
              "      <th colspan=\"2\" halign=\"left\">AWATER</th>\n",
              "      <th colspan=\"2\" halign=\"left\">LaborForce_01Month</th>\n",
              "      <th colspan=\"2\" halign=\"left\">Employed_01Month</th>\n",
              "      <th colspan=\"2\" halign=\"left\">Unemployed_01Month</th>\n",
              "      <th colspan=\"2\" halign=\"left\">PctUnemployed_01Month</th>\n",
              "      <th colspan=\"2\" halign=\"left\">vulnerability_index</th>\n",
              "      <th colspan=\"2\" halign=\"left\">rank_cvi</th>\n",
              "      <th colspan=\"2\" halign=\"left\">fips_cvi</th>\n",
              "      <th colspan=\"2\" halign=\"left\">percent_employed</th>\n",
              "    </tr>\n",
              "    <tr>\n",
              "      <th></th>\n",
              "      <th>mean</th>\n",
              "      <th>median</th>\n",
              "      <th>mean</th>\n",
              "      <th>median</th>\n",
              "      <th>mean</th>\n",
              "      <th>median</th>\n",
              "      <th>mean</th>\n",
              "      <th>median</th>\n",
              "      <th>mean</th>\n",
              "      <th>median</th>\n",
              "      <th>mean</th>\n",
              "      <th>median</th>\n",
              "      <th>mean</th>\n",
              "      <th>median</th>\n",
              "      <th>mean</th>\n",
              "      <th>median</th>\n",
              "      <th>mean</th>\n",
              "      <th>median</th>\n",
              "      <th>mean</th>\n",
              "      <th>median</th>\n",
              "      <th>mean</th>\n",
              "      <th>median</th>\n",
              "    </tr>\n",
              "    <tr>\n",
              "      <th>State</th>\n",
              "      <th></th>\n",
              "      <th></th>\n",
              "      <th></th>\n",
              "      <th></th>\n",
              "      <th></th>\n",
              "      <th></th>\n",
              "      <th></th>\n",
              "      <th></th>\n",
              "      <th></th>\n",
              "      <th></th>\n",
              "      <th></th>\n",
              "      <th></th>\n",
              "      <th></th>\n",
              "      <th></th>\n",
              "      <th></th>\n",
              "      <th></th>\n",
              "      <th></th>\n",
              "      <th></th>\n",
              "      <th></th>\n",
              "      <th></th>\n",
              "      <th></th>\n",
              "      <th></th>\n",
              "    </tr>\n",
              "  </thead>\n",
              "  <tbody>\n",
              "    <tr>\n",
              "      <th>Alabama</th>\n",
              "      <td>31.387097</td>\n",
              "      <td>30.5</td>\n",
              "      <td>1.964455e+09</td>\n",
              "      <td>1.735397e+09</td>\n",
              "      <td>6.861172e+07</td>\n",
              "      <td>2.267534e+07</td>\n",
              "      <td>29387.645161</td>\n",
              "      <td>14518.0</td>\n",
              "      <td>28466.596774</td>\n",
              "      <td>13880.0</td>\n",
              "      <td>921.048387</td>\n",
              "      <td>461.0</td>\n",
              "      <td>3.467742</td>\n",
              "      <td>3.20</td>\n",
              "      <td>87.605000</td>\n",
              "      <td>87.340</td>\n",
              "      <td>1518.790323</td>\n",
              "      <td>1479.5</td>\n",
              "      <td>1063.806452</td>\n",
              "      <td>1062.0</td>\n",
              "      <td>0.965403</td>\n",
              "      <td>0.968247</td>\n",
              "    </tr>\n",
              "    <tr>\n",
              "      <th>Alaska</th>\n",
              "      <td>79.818182</td>\n",
              "      <td>79.0</td>\n",
              "      <td>4.156508e+10</td>\n",
              "      <td>1.713371e+10</td>\n",
              "      <td>6.730453e+09</td>\n",
              "      <td>4.651616e+09</td>\n",
              "      <td>27204.090909</td>\n",
              "      <td>6226.0</td>\n",
              "      <td>25758.636364</td>\n",
              "      <td>5774.0</td>\n",
              "      <td>1445.454545</td>\n",
              "      <td>452.0</td>\n",
              "      <td>5.690909</td>\n",
              "      <td>5.00</td>\n",
              "      <td>89.950909</td>\n",
              "      <td>98.930</td>\n",
              "      <td>1289.545455</td>\n",
              "      <td>831.0</td>\n",
              "      <td>2140.181818</td>\n",
              "      <td>2130.0</td>\n",
              "      <td>0.943317</td>\n",
              "      <td>0.950241</td>\n",
              "    </tr>\n",
              "    <tr>\n",
              "      <th>Arizona</th>\n",
              "      <td>101.800000</td>\n",
              "      <td>101.5</td>\n",
              "      <td>1.738879e+10</td>\n",
              "      <td>1.499059e+10</td>\n",
              "      <td>6.483137e+07</td>\n",
              "      <td>2.944800e+07</td>\n",
              "      <td>332502.800000</td>\n",
              "      <td>70177.0</td>\n",
              "      <td>313743.200000</td>\n",
              "      <td>64855.5</td>\n",
              "      <td>18759.600000</td>\n",
              "      <td>5056.0</td>\n",
              "      <td>6.570000</td>\n",
              "      <td>6.55</td>\n",
              "      <td>97.106000</td>\n",
              "      <td>100.735</td>\n",
              "      <td>1019.400000</td>\n",
              "      <td>751.5</td>\n",
              "      <td>4013.500000</td>\n",
              "      <td>4012.5</td>\n",
              "      <td>0.934307</td>\n",
              "      <td>0.934550</td>\n",
              "    </tr>\n",
              "    <tr>\n",
              "      <th>Arkansas</th>\n",
              "      <td>147.828571</td>\n",
              "      <td>148.5</td>\n",
              "      <td>1.796615e+09</td>\n",
              "      <td>1.678086e+09</td>\n",
              "      <td>3.838750e+07</td>\n",
              "      <td>2.773290e+07</td>\n",
              "      <td>19283.314286</td>\n",
              "      <td>8358.0</td>\n",
              "      <td>18362.185714</td>\n",
              "      <td>7849.0</td>\n",
              "      <td>921.128571</td>\n",
              "      <td>435.5</td>\n",
              "      <td>5.542857</td>\n",
              "      <td>5.40</td>\n",
              "      <td>79.762429</td>\n",
              "      <td>78.445</td>\n",
              "      <td>1842.514286</td>\n",
              "      <td>1974.5</td>\n",
              "      <td>5076.657143</td>\n",
              "      <td>5078.0</td>\n",
              "      <td>0.944531</td>\n",
              "      <td>0.946072</td>\n",
              "    </tr>\n",
              "    <tr>\n",
              "      <th>California</th>\n",
              "      <td>211.457143</td>\n",
              "      <td>213.0</td>\n",
              "      <td>6.977202e+09</td>\n",
              "      <td>3.644306e+09</td>\n",
              "      <td>4.577516e+08</td>\n",
              "      <td>2.186719e+08</td>\n",
              "      <td>476820.314286</td>\n",
              "      <td>137710.0</td>\n",
              "      <td>453202.885714</td>\n",
              "      <td>133428.0</td>\n",
              "      <td>23617.428571</td>\n",
              "      <td>6507.0</td>\n",
              "      <td>5.111429</td>\n",
              "      <td>4.90</td>\n",
              "      <td>113.513429</td>\n",
              "      <td>106.810</td>\n",
              "      <td>647.600000</td>\n",
              "      <td>494.0</td>\n",
              "      <td>6053.914286</td>\n",
              "      <td>6057.0</td>\n",
              "      <td>0.948935</td>\n",
              "      <td>0.950853</td>\n",
              "    </tr>\n",
              "  </tbody>\n",
              "</table>\n",
              "</div>"
            ],
            "text/plain": [
              "            Unnamed: 0                ALAND  ... fips_cvi percent_employed          \n",
              "                  mean median          mean  ...   median             mean    median\n",
              "State                                        ...                                    \n",
              "Alabama      31.387097   30.5  1.964455e+09  ...   1062.0         0.965403  0.968247\n",
              "Alaska       79.818182   79.0  4.156508e+10  ...   2130.0         0.943317  0.950241\n",
              "Arizona     101.800000  101.5  1.738879e+10  ...   4012.5         0.934307  0.934550\n",
              "Arkansas    147.828571  148.5  1.796615e+09  ...   5078.0         0.944531  0.946072\n",
              "California  211.457143  213.0  6.977202e+09  ...   6057.0         0.948935  0.950853\n",
              "\n",
              "[5 rows x 22 columns]"
            ]
          },
          "metadata": {
            "tags": []
          },
          "execution_count": 23
        }
      ]
    },
    {
      "cell_type": "code",
      "metadata": {
        "id": "6I_IB_80j_DJ",
        "colab_type": "code",
        "colab": {
          "base_uri": "https://localhost:8080/",
          "height": 182
        },
        "outputId": "0be053bd-91ce-47c1-c86a-130f64431f8d"
      },
      "source": [
        "df.head(2)"
      ],
      "execution_count": null,
      "outputs": [
        {
          "output_type": "execute_result",
          "data": {
            "text/html": [
              "<div>\n",
              "<style scoped>\n",
              "    .dataframe tbody tr th:only-of-type {\n",
              "        vertical-align: middle;\n",
              "    }\n",
              "\n",
              "    .dataframe tbody tr th {\n",
              "        vertical-align: top;\n",
              "    }\n",
              "\n",
              "    .dataframe thead th {\n",
              "        text-align: right;\n",
              "    }\n",
              "</style>\n",
              "<table border=\"1\" class=\"dataframe\">\n",
              "  <thead>\n",
              "    <tr style=\"text-align: right;\">\n",
              "      <th></th>\n",
              "      <th>Unnamed: 0</th>\n",
              "      <th>ALAND</th>\n",
              "      <th>AWATER</th>\n",
              "      <th>NAME</th>\n",
              "      <th>State</th>\n",
              "      <th>LaborForce_01Month</th>\n",
              "      <th>Employed_01Month</th>\n",
              "      <th>Unemployed_01Month</th>\n",
              "      <th>PctUnemployed_01Month</th>\n",
              "      <th>CurrentMonth</th>\n",
              "      <th>vulnerability_index</th>\n",
              "      <th>rank_cvi</th>\n",
              "      <th>fips_cvi</th>\n",
              "      <th>percent_employed</th>\n",
              "    </tr>\n",
              "  </thead>\n",
              "  <tbody>\n",
              "    <tr>\n",
              "      <th>0</th>\n",
              "      <td>0</td>\n",
              "      <td>1539602137</td>\n",
              "      <td>25706961</td>\n",
              "      <td>Autauga County</td>\n",
              "      <td>Alabama</td>\n",
              "      <td>25835.0</td>\n",
              "      <td>25114.0</td>\n",
              "      <td>721.0</td>\n",
              "      <td>2.8</td>\n",
              "      <td>April 2020 - Preliminary</td>\n",
              "      <td>110.31</td>\n",
              "      <td>401</td>\n",
              "      <td>1001</td>\n",
              "      <td>0.972092</td>\n",
              "    </tr>\n",
              "    <tr>\n",
              "      <th>1</th>\n",
              "      <td>1</td>\n",
              "      <td>4117621645</td>\n",
              "      <td>1132980868</td>\n",
              "      <td>Baldwin County</td>\n",
              "      <td>Alabama</td>\n",
              "      <td>96391.0</td>\n",
              "      <td>93782.0</td>\n",
              "      <td>2609.0</td>\n",
              "      <td>2.7</td>\n",
              "      <td>April 2020 - Preliminary</td>\n",
              "      <td>146.88</td>\n",
              "      <td>91</td>\n",
              "      <td>1003</td>\n",
              "      <td>0.972933</td>\n",
              "    </tr>\n",
              "  </tbody>\n",
              "</table>\n",
              "</div>"
            ],
            "text/plain": [
              "   Unnamed: 0       ALAND      AWATER  ... rank_cvi fips_cvi  percent_employed\n",
              "0           0  1539602137    25706961  ...      401     1001          0.972092\n",
              "1           1  4117621645  1132980868  ...       91     1003          0.972933\n",
              "\n",
              "[2 rows x 14 columns]"
            ]
          },
          "metadata": {
            "tags": []
          },
          "execution_count": 24
        }
      ]
    },
    {
      "cell_type": "markdown",
      "metadata": {
        "id": "07ulO_HA9gpd",
        "colab_type": "text"
      },
      "source": [
        "# The answers to the questions below:\n",
        "- Which counties have the highest Labour Force?\n",
        "- Which counties have the highest unemployment?\n",
        "- Which county has the highest COVID-19 Vulnerability Index (CVI)?\n",
        "- What is the correlation between the CVI and the Unemployment rate?\n",
        "- Which county has higher CVI among the top county with a higher unemployment rate?\n",
        "- What are the changes in Landsat 8 OLI (Operational Land Imager) and TIRS (Thermal Infrared Sensor) images of that area?"
      ]
    },
    {
      "cell_type": "code",
      "metadata": {
        "id": "t7QMdG5ykCnE",
        "colab_type": "code",
        "colab": {}
      },
      "source": [
        "# Top 5 counties with the highest labor force\n",
        "index_top5 = list(df['LaborForce_01Month'].sort_values(ascending=False).index[:5])\n",
        "laborForce_top5 = df.loc[index_top5]"
      ],
      "execution_count": null,
      "outputs": []
    },
    {
      "cell_type": "code",
      "metadata": {
        "id": "tGZuj6e21483",
        "colab_type": "code",
        "colab": {
          "base_uri": "https://localhost:8080/",
          "height": 343
        },
        "outputId": "c54818a1-260e-471a-e2d4-e6734e94c34d"
      },
      "source": [
        "laborForce_top5"
      ],
      "execution_count": null,
      "outputs": [
        {
          "output_type": "execute_result",
          "data": {
            "text/html": [
              "<div>\n",
              "<style scoped>\n",
              "    .dataframe tbody tr th:only-of-type {\n",
              "        vertical-align: middle;\n",
              "    }\n",
              "\n",
              "    .dataframe tbody tr th {\n",
              "        vertical-align: top;\n",
              "    }\n",
              "\n",
              "    .dataframe thead th {\n",
              "        text-align: right;\n",
              "    }\n",
              "</style>\n",
              "<table border=\"1\" class=\"dataframe\">\n",
              "  <thead>\n",
              "    <tr style=\"text-align: right;\">\n",
              "      <th></th>\n",
              "      <th>Unnamed: 0</th>\n",
              "      <th>ALAND</th>\n",
              "      <th>AWATER</th>\n",
              "      <th>NAME</th>\n",
              "      <th>State</th>\n",
              "      <th>LaborForce_01Month</th>\n",
              "      <th>Employed_01Month</th>\n",
              "      <th>Unemployed_01Month</th>\n",
              "      <th>PctUnemployed_01Month</th>\n",
              "      <th>CurrentMonth</th>\n",
              "      <th>vulnerability_index</th>\n",
              "      <th>rank_cvi</th>\n",
              "      <th>fips_cvi</th>\n",
              "      <th>percent_employed</th>\n",
              "    </tr>\n",
              "  </thead>\n",
              "  <tbody>\n",
              "    <tr>\n",
              "      <th>165</th>\n",
              "      <td>203</td>\n",
              "      <td>10511861492</td>\n",
              "      <td>1793485467</td>\n",
              "      <td>Los Angeles County</td>\n",
              "      <td>California</td>\n",
              "      <td>4996564.0</td>\n",
              "      <td>4669061.0</td>\n",
              "      <td>327503.0</td>\n",
              "      <td>6.6</td>\n",
              "      <td>April 2020</td>\n",
              "      <td>122.14</td>\n",
              "      <td>221</td>\n",
              "      <td>6037</td>\n",
              "      <td>0.934454</td>\n",
              "    </tr>\n",
              "    <tr>\n",
              "      <th>524</th>\n",
              "      <td>605</td>\n",
              "      <td>2447357982</td>\n",
              "      <td>1786325586</td>\n",
              "      <td>Cook County</td>\n",
              "      <td>Illinois</td>\n",
              "      <td>2615106.0</td>\n",
              "      <td>2488391.0</td>\n",
              "      <td>126715.0</td>\n",
              "      <td>4.8</td>\n",
              "      <td>April 2020 - Preliminary</td>\n",
              "      <td>108.14</td>\n",
              "      <td>458</td>\n",
              "      <td>17031</td>\n",
              "      <td>0.951545</td>\n",
              "    </tr>\n",
              "    <tr>\n",
              "      <th>78</th>\n",
              "      <td>102</td>\n",
              "      <td>23829622328</td>\n",
              "      <td>63347750</td>\n",
              "      <td>Maricopa County</td>\n",
              "      <td>Arizona</td>\n",
              "      <td>2334396.0</td>\n",
              "      <td>2209663.0</td>\n",
              "      <td>124733.0</td>\n",
              "      <td>5.3</td>\n",
              "      <td>April 2020 - Preliminary</td>\n",
              "      <td>103.54</td>\n",
              "      <td>617</td>\n",
              "      <td>4013</td>\n",
              "      <td>0.946567</td>\n",
              "    </tr>\n",
              "    <tr>\n",
              "      <th>2280</th>\n",
              "      <td>2610</td>\n",
              "      <td>4418909573</td>\n",
              "      <td>184757689</td>\n",
              "      <td>Harris County</td>\n",
              "      <td>Texas</td>\n",
              "      <td>2321037.0</td>\n",
              "      <td>2191290.0</td>\n",
              "      <td>129747.0</td>\n",
              "      <td>5.6</td>\n",
              "      <td>April 2020 - Preliminary</td>\n",
              "      <td>98.63</td>\n",
              "      <td>857</td>\n",
              "      <td>48201</td>\n",
              "      <td>0.944100</td>\n",
              "    </tr>\n",
              "    <tr>\n",
              "      <th>171</th>\n",
              "      <td>214</td>\n",
              "      <td>2053367783</td>\n",
              "      <td>401931862</td>\n",
              "      <td>Orange County</td>\n",
              "      <td>California</td>\n",
              "      <td>1587658.0</td>\n",
              "      <td>1528641.0</td>\n",
              "      <td>59017.0</td>\n",
              "      <td>3.7</td>\n",
              "      <td>April 2020 - Preliminary</td>\n",
              "      <td>110.95</td>\n",
              "      <td>389</td>\n",
              "      <td>6059</td>\n",
              "      <td>0.962828</td>\n",
              "    </tr>\n",
              "  </tbody>\n",
              "</table>\n",
              "</div>"
            ],
            "text/plain": [
              "      Unnamed: 0        ALAND      AWATER  ... rank_cvi fips_cvi  percent_employed\n",
              "165          203  10511861492  1793485467  ...      221     6037          0.934454\n",
              "524          605   2447357982  1786325586  ...      458    17031          0.951545\n",
              "78           102  23829622328    63347750  ...      617     4013          0.946567\n",
              "2280        2610   4418909573   184757689  ...      857    48201          0.944100\n",
              "171          214   2053367783   401931862  ...      389     6059          0.962828\n",
              "\n",
              "[5 rows x 14 columns]"
            ]
          },
          "metadata": {
            "tags": []
          },
          "execution_count": 26
        }
      ]
    },
    {
      "cell_type": "code",
      "metadata": {
        "id": "v_ALTapb2emd",
        "colab_type": "code",
        "colab": {}
      },
      "source": [
        "y=list(laborForce_top5.LaborForce_01Month)\n",
        "x=[1,2,3,4,5]\n",
        "t=list(laborForce_top5.NAME.values)"
      ],
      "execution_count": null,
      "outputs": []
    },
    {
      "cell_type": "code",
      "metadata": {
        "id": "d3eOiOEm21CR",
        "colab_type": "code",
        "colab": {
          "base_uri": "https://localhost:8080/",
          "height": 377
        },
        "outputId": "d458a1c1-65da-4379-de8a-8f1d3fc240d1"
      },
      "source": [
        "plt.figure(figsize=(10,5))\n",
        "b_col = sns.cubehelix_palette(5,reverse=False) #reverse by default is False\n",
        "plt.bar(x,y,color=b_col)\n",
        "plt.xticks(x,t)\n",
        "plt.xlabel('County Name',size=15)\n",
        "plt.ylabel('Count of Labor Force',size=15)\n",
        "plt.title('Top 5 Counties with the Highest Labor Forces',size=20)"
      ],
      "execution_count": null,
      "outputs": [
        {
          "output_type": "execute_result",
          "data": {
            "text/plain": [
              "Text(0.5, 1.0, 'Top 5 Counties with the Highest Labor Forces')"
            ]
          },
          "metadata": {
            "tags": []
          },
          "execution_count": 50
        },
        {
          "output_type": "display_data",
          "data": {
            "image/png": "[encoded data removed]",
            "text/plain": [
              "<Figure size 720x360 with 1 Axes>"
            ]
          },
          "metadata": {
            "tags": [],
            "needs_background": "light"
          }
        }
      ]
    },
    {
      "cell_type": "code",
      "metadata": {
        "id": "cSnil-923iZL",
        "colab_type": "code",
        "colab": {
          "base_uri": "https://localhost:8080/",
          "height": 343
        },
        "outputId": "7c189cdc-b1d7-428a-a073-f98ee14f86bc"
      },
      "source": [
        "#sorted by the unemployment in the county, decending order\n",
        "unemp_index_top5 = list(df.Unemployed_01Month.sort_values(ascending=False).index[:5])\n",
        "unemp_top5 = df.loc[unemp_index_top5]\n",
        "unemp_top5"
      ],
      "execution_count": null,
      "outputs": [
        {
          "output_type": "execute_result",
          "data": {
            "text/html": [
              "<div>\n",
              "<style scoped>\n",
              "    .dataframe tbody tr th:only-of-type {\n",
              "        vertical-align: middle;\n",
              "    }\n",
              "\n",
              "    .dataframe tbody tr th {\n",
              "        vertical-align: top;\n",
              "    }\n",
              "\n",
              "    .dataframe thead th {\n",
              "        text-align: right;\n",
              "    }\n",
              "</style>\n",
              "<table border=\"1\" class=\"dataframe\">\n",
              "  <thead>\n",
              "    <tr style=\"text-align: right;\">\n",
              "      <th></th>\n",
              "      <th>Unnamed: 0</th>\n",
              "      <th>ALAND</th>\n",
              "      <th>AWATER</th>\n",
              "      <th>NAME</th>\n",
              "      <th>State</th>\n",
              "      <th>LaborForce_01Month</th>\n",
              "      <th>Employed_01Month</th>\n",
              "      <th>Unemployed_01Month</th>\n",
              "      <th>PctUnemployed_01Month</th>\n",
              "      <th>CurrentMonth</th>\n",
              "      <th>vulnerability_index</th>\n",
              "      <th>rank_cvi</th>\n",
              "      <th>fips_cvi</th>\n",
              "      <th>percent_employed</th>\n",
              "    </tr>\n",
              "  </thead>\n",
              "  <tbody>\n",
              "    <tr>\n",
              "      <th>165</th>\n",
              "      <td>203</td>\n",
              "      <td>10511861492</td>\n",
              "      <td>1793485467</td>\n",
              "      <td>Los Angeles County</td>\n",
              "      <td>California</td>\n",
              "      <td>4996564.0</td>\n",
              "      <td>4669061.0</td>\n",
              "      <td>327503.0</td>\n",
              "      <td>6.6</td>\n",
              "      <td>April 2020</td>\n",
              "      <td>122.14</td>\n",
              "      <td>221</td>\n",
              "      <td>6037</td>\n",
              "      <td>0.934454</td>\n",
              "    </tr>\n",
              "    <tr>\n",
              "      <th>2280</th>\n",
              "      <td>2610</td>\n",
              "      <td>4418909573</td>\n",
              "      <td>184757689</td>\n",
              "      <td>Harris County</td>\n",
              "      <td>Texas</td>\n",
              "      <td>2321037.0</td>\n",
              "      <td>2191290.0</td>\n",
              "      <td>129747.0</td>\n",
              "      <td>5.6</td>\n",
              "      <td>April 2020 - Preliminary</td>\n",
              "      <td>98.63</td>\n",
              "      <td>857</td>\n",
              "      <td>48201</td>\n",
              "      <td>0.944100</td>\n",
              "    </tr>\n",
              "    <tr>\n",
              "      <th>524</th>\n",
              "      <td>605</td>\n",
              "      <td>2447357982</td>\n",
              "      <td>1786325586</td>\n",
              "      <td>Cook County</td>\n",
              "      <td>Illinois</td>\n",
              "      <td>2615106.0</td>\n",
              "      <td>2488391.0</td>\n",
              "      <td>126715.0</td>\n",
              "      <td>4.8</td>\n",
              "      <td>April 2020 - Preliminary</td>\n",
              "      <td>108.14</td>\n",
              "      <td>458</td>\n",
              "      <td>17031</td>\n",
              "      <td>0.951545</td>\n",
              "    </tr>\n",
              "    <tr>\n",
              "      <th>78</th>\n",
              "      <td>102</td>\n",
              "      <td>23829622328</td>\n",
              "      <td>63347750</td>\n",
              "      <td>Maricopa County</td>\n",
              "      <td>Arizona</td>\n",
              "      <td>2334396.0</td>\n",
              "      <td>2209663.0</td>\n",
              "      <td>124733.0</td>\n",
              "      <td>5.3</td>\n",
              "      <td>April 2020 - Preliminary</td>\n",
              "      <td>103.54</td>\n",
              "      <td>617</td>\n",
              "      <td>4013</td>\n",
              "      <td>0.946567</td>\n",
              "    </tr>\n",
              "    <tr>\n",
              "      <th>1503</th>\n",
              "      <td>1737</td>\n",
              "      <td>20439276974</td>\n",
              "      <td>438416032</td>\n",
              "      <td>Clark County</td>\n",
              "      <td>Nevada</td>\n",
              "      <td>1143825.0</td>\n",
              "      <td>1061723.0</td>\n",
              "      <td>82102.0</td>\n",
              "      <td>7.2</td>\n",
              "      <td>April 2020 - Preliminary</td>\n",
              "      <td>164.34</td>\n",
              "      <td>54</td>\n",
              "      <td>32005</td>\n",
              "      <td>0.928222</td>\n",
              "    </tr>\n",
              "  </tbody>\n",
              "</table>\n",
              "</div>"
            ],
            "text/plain": [
              "      Unnamed: 0        ALAND      AWATER  ... rank_cvi fips_cvi  percent_employed\n",
              "165          203  10511861492  1793485467  ...      221     6037          0.934454\n",
              "2280        2610   4418909573   184757689  ...      857    48201          0.944100\n",
              "524          605   2447357982  1786325586  ...      458    17031          0.951545\n",
              "78           102  23829622328    63347750  ...      617     4013          0.946567\n",
              "1503        1737  20439276974   438416032  ...       54    32005          0.928222\n",
              "\n",
              "[5 rows x 14 columns]"
            ]
          },
          "metadata": {
            "tags": []
          },
          "execution_count": 75
        }
      ]
    },
    {
      "cell_type": "code",
      "metadata": {
        "id": "QA91ock0dDZb",
        "colab_type": "code",
        "colab": {}
      },
      "source": [
        "y2=list(unemp_top5.Unemployed_01Month)\n",
        "x2=[1,2,3,4,5]\n",
        "t2=list(unemp_top5.NAME.values)"
      ],
      "execution_count": null,
      "outputs": []
    },
    {
      "cell_type": "code",
      "metadata": {
        "id": "q4_VlEIfeGVL",
        "colab_type": "code",
        "colab": {
          "base_uri": "https://localhost:8080/",
          "height": 377
        },
        "outputId": "e5ec2791-6077-4f05-8cac-8f7ddff800d1"
      },
      "source": [
        "\n",
        "plt.figure(figsize=(10,5))\n",
        "plt.bar(x2,y2)\n",
        "plt.xticks(x2,t2)\n",
        "plt.xlabel('County Name',size=15)\n",
        "plt.ylabel('Unemployment Rate',size=15)\n",
        "plt.title('Counties with the highest unemployment rate',size=20)"
      ],
      "execution_count": null,
      "outputs": [
        {
          "output_type": "execute_result",
          "data": {
            "text/plain": [
              "Text(0.5, 1.0, 'Counties with the highest unemployment rate')"
            ]
          },
          "metadata": {
            "tags": []
          },
          "execution_count": 77
        },
        {
          "output_type": "display_data",
          "data": {
            "image/png": "[encoded data removed]",
            "text/plain": [
              "<Figure size 720x360 with 1 Axes>"
            ]
          },
          "metadata": {
            "tags": [],
            "needs_background": "light"
          }
        }
      ]
    },
    {
      "cell_type": "code",
      "metadata": {
        "id": "gojUY7l3TTyr",
        "colab_type": "code",
        "colab": {
          "base_uri": "https://localhost:8080/",
          "height": 102
        },
        "outputId": "3e222196-93bb-4941-fce3-a9b18a24317a"
      },
      "source": [
        "df.columns"
      ],
      "execution_count": null,
      "outputs": [
        {
          "output_type": "execute_result",
          "data": {
            "text/plain": [
              "Index(['Unnamed: 0', 'ALAND', 'AWATER', 'NAME', 'State', 'LaborForce_01Month',\n",
              "       'Employed_01Month', 'Unemployed_01Month', 'PctUnemployed_01Month',\n",
              "       'CurrentMonth', 'vulnerability_index', 'rank_cvi', 'fips_cvi',\n",
              "       'percent_employed'],\n",
              "      dtype='object')"
            ]
          },
          "metadata": {
            "tags": []
          },
          "execution_count": 32
        }
      ]
    },
    {
      "cell_type": "code",
      "metadata": {
        "id": "3BPxwotjAvUy",
        "colab_type": "code",
        "colab": {
          "base_uri": "https://localhost:8080/",
          "height": 343
        },
        "outputId": "145798dc-c76d-41f0-e109-149f56c401b6"
      },
      "source": [
        "#Which counties have the highest vulnerability index\n",
        "vul_index_top5 = list(df.vulnerability_index.sort_values(ascending=False).index[:5])\n",
        "vul_top5 = df.loc[unemp_index_top5]\n",
        "vul_top5"
      ],
      "execution_count": null,
      "outputs": [
        {
          "output_type": "execute_result",
          "data": {
            "text/html": [
              "<div>\n",
              "<style scoped>\n",
              "    .dataframe tbody tr th:only-of-type {\n",
              "        vertical-align: middle;\n",
              "    }\n",
              "\n",
              "    .dataframe tbody tr th {\n",
              "        vertical-align: top;\n",
              "    }\n",
              "\n",
              "    .dataframe thead th {\n",
              "        text-align: right;\n",
              "    }\n",
              "</style>\n",
              "<table border=\"1\" class=\"dataframe\">\n",
              "  <thead>\n",
              "    <tr style=\"text-align: right;\">\n",
              "      <th></th>\n",
              "      <th>Unnamed: 0</th>\n",
              "      <th>ALAND</th>\n",
              "      <th>AWATER</th>\n",
              "      <th>NAME</th>\n",
              "      <th>State</th>\n",
              "      <th>LaborForce_01Month</th>\n",
              "      <th>Employed_01Month</th>\n",
              "      <th>Unemployed_01Month</th>\n",
              "      <th>PctUnemployed_01Month</th>\n",
              "      <th>CurrentMonth</th>\n",
              "      <th>vulnerability_index</th>\n",
              "      <th>rank_cvi</th>\n",
              "      <th>fips_cvi</th>\n",
              "      <th>percent_employed</th>\n",
              "    </tr>\n",
              "  </thead>\n",
              "  <tbody>\n",
              "    <tr>\n",
              "      <th>954</th>\n",
              "      <td>1152</td>\n",
              "      <td>628956073</td>\n",
              "      <td>38794711</td>\n",
              "      <td>St. James Parish</td>\n",
              "      <td>Louisiana</td>\n",
              "      <td>9343.0</td>\n",
              "      <td>8615.0</td>\n",
              "      <td>728.0</td>\n",
              "      <td>7.8</td>\n",
              "      <td>April 2020 - Preliminary</td>\n",
              "      <td>69.51</td>\n",
              "      <td>2417</td>\n",
              "      <td>22093</td>\n",
              "      <td>0.922081</td>\n",
              "    </tr>\n",
              "    <tr>\n",
              "      <th>2438</th>\n",
              "      <td>2787</td>\n",
              "      <td>11609319514</td>\n",
              "      <td>56115726</td>\n",
              "      <td>Uintah County</td>\n",
              "      <td>Utah</td>\n",
              "      <td>13571.0</td>\n",
              "      <td>12506.0</td>\n",
              "      <td>1065.0</td>\n",
              "      <td>7.8</td>\n",
              "      <td>April 2020 - Preliminary</td>\n",
              "      <td>101.33</td>\n",
              "      <td>714</td>\n",
              "      <td>49047</td>\n",
              "      <td>0.921524</td>\n",
              "    </tr>\n",
              "    <tr>\n",
              "      <th>1941</th>\n",
              "      <td>2249</td>\n",
              "      <td>2299868389</td>\n",
              "      <td>23178644</td>\n",
              "      <td>Clinton County</td>\n",
              "      <td>Pennsylvania</td>\n",
              "      <td>18543.0</td>\n",
              "      <td>17093.0</td>\n",
              "      <td>1450.0</td>\n",
              "      <td>7.8</td>\n",
              "      <td>April 2020 - Preliminary</td>\n",
              "      <td>94.43</td>\n",
              "      <td>1094</td>\n",
              "      <td>42035</td>\n",
              "      <td>0.921803</td>\n",
              "    </tr>\n",
              "    <tr>\n",
              "      <th>1545</th>\n",
              "      <td>1787</td>\n",
              "      <td>11758505180</td>\n",
              "      <td>5554603</td>\n",
              "      <td>Cibola County</td>\n",
              "      <td>New Mexico</td>\n",
              "      <td>9070.0</td>\n",
              "      <td>8365.0</td>\n",
              "      <td>705.0</td>\n",
              "      <td>7.8</td>\n",
              "      <td>April 2020 - Preliminary</td>\n",
              "      <td>98.82</td>\n",
              "      <td>843</td>\n",
              "      <td>35006</td>\n",
              "      <td>0.922271</td>\n",
              "    </tr>\n",
              "    <tr>\n",
              "      <th>480</th>\n",
              "      <td>550</td>\n",
              "      <td>2012242918</td>\n",
              "      <td>18803193</td>\n",
              "      <td>Benewah County</td>\n",
              "      <td>Idaho</td>\n",
              "      <td>4129.0</td>\n",
              "      <td>3808.0</td>\n",
              "      <td>321.0</td>\n",
              "      <td>7.8</td>\n",
              "      <td>April 2020 - Preliminary</td>\n",
              "      <td>65.63</td>\n",
              "      <td>2568</td>\n",
              "      <td>16009</td>\n",
              "      <td>0.922257</td>\n",
              "    </tr>\n",
              "  </tbody>\n",
              "</table>\n",
              "</div>"
            ],
            "text/plain": [
              "      Unnamed: 0        ALAND    AWATER  ... rank_cvi fips_cvi  percent_employed\n",
              "954         1152    628956073  38794711  ...     2417    22093          0.922081\n",
              "2438        2787  11609319514  56115726  ...      714    49047          0.921524\n",
              "1941        2249   2299868389  23178644  ...     1094    42035          0.921803\n",
              "1545        1787  11758505180   5554603  ...      843    35006          0.922271\n",
              "480          550   2012242918  18803193  ...     2568    16009          0.922257\n",
              "\n",
              "[5 rows x 14 columns]"
            ]
          },
          "metadata": {
            "tags": []
          },
          "execution_count": 33
        }
      ]
    },
    {
      "cell_type": "code",
      "metadata": {
        "id": "l46OiZnZT7wV",
        "colab_type": "code",
        "colab": {}
      },
      "source": [
        "y3=list(vul_top5.vulnerability_index)\n",
        "x3=[1,2,3,4,5]\n",
        "t3=list(vul_top5.NAME.values)"
      ],
      "execution_count": null,
      "outputs": []
    },
    {
      "cell_type": "code",
      "metadata": {
        "id": "ABQBKIrfUZkr",
        "colab_type": "code",
        "colab": {
          "base_uri": "https://localhost:8080/",
          "height": 377
        },
        "outputId": "249dc871-5ab5-47d2-b131-31e883b7c41a"
      },
      "source": [
        "plt.figure(figsize=(10,5))\n",
        "plt.bar(x3,y3)\n",
        "plt.xticks(x3,t3)\n",
        "plt.title('Top 5 Counties with the highest vulnerability_index',size=20)\n",
        "plt.ylabel('Vulnerability_Index Frequency',size=15)\n",
        "plt.xlabel('County Name',size=15)"
      ],
      "execution_count": null,
      "outputs": [
        {
          "output_type": "execute_result",
          "data": {
            "text/plain": [
              "Text(0.5, 0, 'County Name')"
            ]
          },
          "metadata": {
            "tags": []
          },
          "execution_count": 48
        },
        {
          "output_type": "display_data",
          "data": {
            "image/png": "[encoded data removed]",
            "text/plain": [
              "<Figure size 720x360 with 1 Axes>"
            ]
          },
          "metadata": {
            "tags": [],
            "needs_background": "light"
          }
        }
      ]
    },
    {
      "cell_type": "markdown",
      "metadata": {
        "id": "iHli28GhWRqg",
        "colab_type": "text"
      },
      "source": [
        "# Scatter Matrix"
      ]
    },
    {
      "cell_type": "code",
      "metadata": {
        "id": "tJBG-SqnWhcv",
        "colab_type": "code",
        "colab": {}
      },
      "source": [
        "'''\n",
        "df2 = df.dropna()\n",
        "colors = df2[\"Outcome\"].map(lambda x: \"#44d9ff\" if x else \"#f95b4a\")\n",
        "pd.plotting.scatter_matrix(df2, figsize=(7,7), color=colors);\n",
        "'''"
      ],
      "execution_count": null,
      "outputs": []
    },
    {
      "cell_type": "code",
      "metadata": {
        "id": "eEdL9CbqXo_0",
        "colab_type": "code",
        "colab": {
          "base_uri": "https://localhost:8080/",
          "height": 1000
        },
        "outputId": "a15ace72-49ca-47a6-8dc1-6f9449544977"
      },
      "source": [
        "colors=df['NAME'].map(lambda x:\"#44d9ff\" if x else \"#f95b4a\")\n",
        "pd.plotting.scatter_matrix(df,figsize=(7,7),color=colors)"
      ],
      "execution_count": null,
      "outputs": [
        {
          "output_type": "execute_result",
          "data": {
            "text/plain": [
              "array([[<matplotlib.axes._subplots.AxesSubplot object at 0x7f0015882f28>,\n",
              "        <matplotlib.axes._subplots.AxesSubplot object at 0x7f001526e8d0>,\n",
              "        <matplotlib.axes._subplots.AxesSubplot object at 0x7f001521a940>,\n",
              "        <matplotlib.axes._subplots.AxesSubplot object at 0x7f001526acc0>,\n",
              "        <matplotlib.axes._subplots.AxesSubplot object at 0x7f00151e9080>,\n",
              "        <matplotlib.axes._subplots.AxesSubplot object at 0x7f0015195400>,\n",
              "        <matplotlib.axes._subplots.AxesSubplot object at 0x7f0015146780>,\n",
              "        <matplotlib.axes._subplots.AxesSubplot object at 0x7f0015178ac8>,\n",
              "        <matplotlib.axes._subplots.AxesSubplot object at 0x7f0015178b38>,\n",
              "        <matplotlib.axes._subplots.AxesSubplot object at 0x7f00150e8240>,\n",
              "        <matplotlib.axes._subplots.AxesSubplot object at 0x7f001509c5c0>],\n",
              "       [<matplotlib.axes._subplots.AxesSubplot object at 0x7f001504d940>,\n",
              "        <matplotlib.axes._subplots.AxesSubplot object at 0x7f001507ecc0>,\n",
              "        <matplotlib.axes._subplots.AxesSubplot object at 0x7f0015041080>,\n",
              "        <matplotlib.axes._subplots.AxesSubplot object at 0x7f0014ff0400>,\n",
              "        <matplotlib.axes._subplots.AxesSubplot object at 0x7f0014fa1780>,\n",
              "        <matplotlib.axes._subplots.AxesSubplot object at 0x7f0014f54b00>,\n",
              "        <matplotlib.axes._subplots.AxesSubplot object at 0x7f0014f85e80>,\n",
              "        <matplotlib.axes._subplots.AxesSubplot object at 0x7f0014f45240>,\n",
              "        <matplotlib.axes._subplots.AxesSubplot object at 0x7f0014ef75c0>,\n",
              "        <matplotlib.axes._subplots.AxesSubplot object at 0x7f0014eaa940>,\n",
              "        <matplotlib.axes._subplots.AxesSubplot object at 0x7f0014e5bcc0>],\n",
              "       [<matplotlib.axes._subplots.AxesSubplot object at 0x7f0014e1d080>,\n",
              "        <matplotlib.axes._subplots.AxesSubplot object at 0x7f0014dcd400>,\n",
              "        <matplotlib.axes._subplots.AxesSubplot object at 0x7f0014dfe780>,\n",
              "        <matplotlib.axes._subplots.AxesSubplot object at 0x7f0014db1b00>,\n",
              "        <matplotlib.axes._subplots.AxesSubplot object at 0x7f0014d63e80>,\n",
              "        <matplotlib.axes._subplots.AxesSubplot object at 0x7f0014d22240>,\n",
              "        <matplotlib.axes._subplots.AxesSubplot object at 0x7f0014cd45c0>,\n",
              "        <matplotlib.axes._subplots.AxesSubplot object at 0x7f0014d05940>,\n",
              "        <matplotlib.axes._subplots.AxesSubplot object at 0x7f0014cb9cc0>,\n",
              "        <matplotlib.axes._subplots.AxesSubplot object at 0x7f0014c7b080>,\n",
              "        <matplotlib.axes._subplots.AxesSubplot object at 0x7f0014c29400>],\n",
              "       [<matplotlib.axes._subplots.AxesSubplot object at 0x7f0014bdb780>,\n",
              "        <matplotlib.axes._subplots.AxesSubplot object at 0x7f0014b8db00>,\n",
              "        <matplotlib.axes._subplots.AxesSubplot object at 0x7f0014bc0e80>,\n",
              "        <matplotlib.axes._subplots.AxesSubplot object at 0x7f0014b7e240>,\n",
              "        <matplotlib.axes._subplots.AxesSubplot object at 0x7f0014b315c0>,\n",
              "        <matplotlib.axes._subplots.AxesSubplot object at 0x7f0014ae2940>,\n",
              "        <matplotlib.axes._subplots.AxesSubplot object at 0x7f0014a95cc0>,\n",
              "        <matplotlib.axes._subplots.AxesSubplot object at 0x7f0014a56080>,\n",
              "        <matplotlib.axes._subplots.AxesSubplot object at 0x7f0014a06400>,\n",
              "        <matplotlib.axes._subplots.AxesSubplot object at 0x7f0014a37780>,\n",
              "        <matplotlib.axes._subplots.AxesSubplot object at 0x7f00149e9b00>],\n",
              "       [<matplotlib.axes._subplots.AxesSubplot object at 0x7f001499be80>,\n",
              "        <matplotlib.axes._subplots.AxesSubplot object at 0x7f001495a240>,\n",
              "        <matplotlib.axes._subplots.AxesSubplot object at 0x7f001490c5c0>,\n",
              "        <matplotlib.axes._subplots.AxesSubplot object at 0x7f0014940940>,\n",
              "        <matplotlib.axes._subplots.AxesSubplot object at 0x7f00148f0cc0>,\n",
              "        <matplotlib.axes._subplots.AxesSubplot object at 0x7f00148b2080>,\n",
              "        <matplotlib.axes._subplots.AxesSubplot object at 0x7f0014862400>,\n",
              "        <matplotlib.axes._subplots.AxesSubplot object at 0x7f0014815780>,\n",
              "        <matplotlib.axes._subplots.AxesSubplot object at 0x7f00147c6b00>,\n",
              "        <matplotlib.axes._subplots.AxesSubplot object at 0x7f00147fae80>,\n",
              "        <matplotlib.axes._subplots.AxesSubplot object at 0x7f00147b8240>],\n",
              "       [<matplotlib.axes._subplots.AxesSubplot object at 0x7f00147685c0>,\n",
              "        <matplotlib.axes._subplots.AxesSubplot object at 0x7f001471c940>,\n",
              "        <matplotlib.axes._subplots.AxesSubplot object at 0x7f00146cccc0>,\n",
              "        <matplotlib.axes._subplots.AxesSubplot object at 0x7f0014690080>,\n",
              "        <matplotlib.axes._subplots.AxesSubplot object at 0x7f00146bf400>,\n",
              "        <matplotlib.axes._subplots.AxesSubplot object at 0x7f0014670780>,\n",
              "        <matplotlib.axes._subplots.AxesSubplot object at 0x7f0014623b00>,\n",
              "        <matplotlib.axes._subplots.AxesSubplot object at 0x7f00145d6e80>,\n",
              "        <matplotlib.axes._subplots.AxesSubplot object at 0x7f0014594240>,\n",
              "        <matplotlib.axes._subplots.AxesSubplot object at 0x7f00145495c0>,\n",
              "        <matplotlib.axes._subplots.AxesSubplot object at 0x7f001457a940>],\n",
              "       [<matplotlib.axes._subplots.AxesSubplot object at 0x7f001452bcc0>,\n",
              "        <matplotlib.axes._subplots.AxesSubplot object at 0x7f00144ea080>,\n",
              "        <matplotlib.axes._subplots.AxesSubplot object at 0x7f001449d400>,\n",
              "        <matplotlib.axes._subplots.AxesSubplot object at 0x7f001444c780>,\n",
              "        <matplotlib.axes._subplots.AxesSubplot object at 0x7f0014480b00>,\n",
              "        <matplotlib.axes._subplots.AxesSubplot object at 0x7f0014433e80>,\n",
              "        <matplotlib.axes._subplots.AxesSubplot object at 0x7f00143f1240>,\n",
              "        <matplotlib.axes._subplots.AxesSubplot object at 0x7f00143a45c0>,\n",
              "        <matplotlib.axes._subplots.AxesSubplot object at 0x7f0014355940>,\n",
              "        <matplotlib.axes._subplots.AxesSubplot object at 0x7f0014308cc0>,\n",
              "        <matplotlib.axes._subplots.AxesSubplot object at 0x7f00142c9048>],\n",
              "       [<matplotlib.axes._subplots.AxesSubplot object at 0x7f00142fb400>,\n",
              "        <matplotlib.axes._subplots.AxesSubplot object at 0x7f00142ac780>,\n",
              "        <matplotlib.axes._subplots.AxesSubplot object at 0x7f001425eb00>,\n",
              "        <matplotlib.axes._subplots.AxesSubplot object at 0x7f001420ee80>,\n",
              "        <matplotlib.axes._subplots.AxesSubplot object at 0x7f00141cd240>,\n",
              "        <matplotlib.axes._subplots.AxesSubplot object at 0x7f00142005c0>,\n",
              "        <matplotlib.axes._subplots.AxesSubplot object at 0x7f00141b2940>,\n",
              "        <matplotlib.axes._subplots.AxesSubplot object at 0x7f0014164cc0>,\n",
              "        <matplotlib.axes._subplots.AxesSubplot object at 0x7f0014127080>,\n",
              "        <matplotlib.axes._subplots.AxesSubplot object at 0x7f00140d4400>,\n",
              "        <matplotlib.axes._subplots.AxesSubplot object at 0x7f0014087780>],\n",
              "       [<matplotlib.axes._subplots.AxesSubplot object at 0x7f00140bab00>,\n",
              "        <matplotlib.axes._subplots.AxesSubplot object at 0x7f001406ce80>,\n",
              "        <matplotlib.axes._subplots.AxesSubplot object at 0x7f001402b240>,\n",
              "        <matplotlib.axes._subplots.AxesSubplot object at 0x7f0013fdf5c0>,\n",
              "        <matplotlib.axes._subplots.AxesSubplot object at 0x7f0013f90940>,\n",
              "        <matplotlib.axes._subplots.AxesSubplot object at 0x7f0013fc1cc0>,\n",
              "        <matplotlib.axes._subplots.AxesSubplot object at 0x7f0013f7f080>,\n",
              "        <matplotlib.axes._subplots.AxesSubplot object at 0x7f0013f31400>,\n",
              "        <matplotlib.axes._subplots.AxesSubplot object at 0x7f0013ee3780>,\n",
              "        <matplotlib.axes._subplots.AxesSubplot object at 0x7f0013e95b00>,\n",
              "        <matplotlib.axes._subplots.AxesSubplot object at 0x7f0013e49e80>],\n",
              "       [<matplotlib.axes._subplots.AxesSubplot object at 0x7f0013e07240>,\n",
              "        <matplotlib.axes._subplots.AxesSubplot object at 0x7f0013e3a5c0>,\n",
              "        <matplotlib.axes._subplots.AxesSubplot object at 0x7f0013deb940>,\n",
              "        <matplotlib.axes._subplots.AxesSubplot object at 0x7f0013d9fcc0>,\n",
              "        <matplotlib.axes._subplots.AxesSubplot object at 0x7f0013d60080>,\n",
              "        <matplotlib.axes._subplots.AxesSubplot object at 0x7f0013d10400>,\n",
              "        <matplotlib.axes._subplots.AxesSubplot object at 0x7f0013d41780>,\n",
              "        <matplotlib.axes._subplots.AxesSubplot object at 0x7f0013cf3b00>,\n",
              "        <matplotlib.axes._subplots.AxesSubplot object at 0x7f0013ca4e80>,\n",
              "        <matplotlib.axes._subplots.AxesSubplot object at 0x7f0013c64240>,\n",
              "        <matplotlib.axes._subplots.AxesSubplot object at 0x7f0013c165c0>],\n",
              "       [<matplotlib.axes._subplots.AxesSubplot object at 0x7f0013bc7940>,\n",
              "        <matplotlib.axes._subplots.AxesSubplot object at 0x7f0013bfbcc0>,\n",
              "        <matplotlib.axes._subplots.AxesSubplot object at 0x7f0013bbc080>,\n",
              "        <matplotlib.axes._subplots.AxesSubplot object at 0x7f0013b6b400>,\n",
              "        <matplotlib.axes._subplots.AxesSubplot object at 0x7f0013b1d780>,\n",
              "        <matplotlib.axes._subplots.AxesSubplot object at 0x7f0013aceb00>,\n",
              "        <matplotlib.axes._subplots.AxesSubplot object at 0x7f0013b02e80>,\n",
              "        <matplotlib.axes._subplots.AxesSubplot object at 0x7f0013ac0240>,\n",
              "        <matplotlib.axes._subplots.AxesSubplot object at 0x7f0013a735c0>,\n",
              "        <matplotlib.axes._subplots.AxesSubplot object at 0x7f0013a25940>,\n",
              "        <matplotlib.axes._subplots.AxesSubplot object at 0x7f00139d7cc0>]],\n",
              "      dtype=object)"
            ]
          },
          "metadata": {
            "tags": []
          },
          "execution_count": 61
        },
        {
          "output_type": "display_data",
          "data": {
            "image/png": "[encoded data removed]",
            "text/plain": [
              "<Figure size 504x504 with 121 Axes>"
            ]
          },
          "metadata": {
            "tags": [],
            "needs_background": "light"
          }
        }
      ]
    },
    {
      "cell_type": "code",
      "metadata": {
        "id": "qmK0YqScXrv6",
        "colab_type": "code",
        "colab": {
          "base_uri": "https://localhost:8080/",
          "height": 427
        },
        "outputId": "57664ca6-53cf-4f91-81e4-81054ab75561"
      },
      "source": [
        "df.corr()"
      ],
      "execution_count": null,
      "outputs": [
        {
          "output_type": "execute_result",
          "data": {
            "text/html": [
              "<div>\n",
              "<style scoped>\n",
              "    .dataframe tbody tr th:only-of-type {\n",
              "        vertical-align: middle;\n",
              "    }\n",
              "\n",
              "    .dataframe tbody tr th {\n",
              "        vertical-align: top;\n",
              "    }\n",
              "\n",
              "    .dataframe thead th {\n",
              "        text-align: right;\n",
              "    }\n",
              "</style>\n",
              "<table border=\"1\" class=\"dataframe\">\n",
              "  <thead>\n",
              "    <tr style=\"text-align: right;\">\n",
              "      <th></th>\n",
              "      <th>Unnamed: 0</th>\n",
              "      <th>ALAND</th>\n",
              "      <th>AWATER</th>\n",
              "      <th>LaborForce_01Month</th>\n",
              "      <th>Employed_01Month</th>\n",
              "      <th>Unemployed_01Month</th>\n",
              "      <th>PctUnemployed_01Month</th>\n",
              "      <th>vulnerability_index</th>\n",
              "      <th>rank_cvi</th>\n",
              "      <th>fips_cvi</th>\n",
              "      <th>percent_employed</th>\n",
              "    </tr>\n",
              "  </thead>\n",
              "  <tbody>\n",
              "    <tr>\n",
              "      <th>Unnamed: 0</th>\n",
              "      <td>1.000000</td>\n",
              "      <td>-0.021365</td>\n",
              "      <td>-0.065974</td>\n",
              "      <td>-0.055575</td>\n",
              "      <td>-0.055843</td>\n",
              "      <td>-0.049163</td>\n",
              "      <td>0.026584</td>\n",
              "      <td>-0.046625</td>\n",
              "      <td>0.026191</td>\n",
              "      <td>0.996132</td>\n",
              "      <td>-0.027123</td>\n",
              "    </tr>\n",
              "    <tr>\n",
              "      <th>ALAND</th>\n",
              "      <td>-0.021365</td>\n",
              "      <td>1.000000</td>\n",
              "      <td>0.410615</td>\n",
              "      <td>0.058630</td>\n",
              "      <td>0.057764</td>\n",
              "      <td>0.072410</td>\n",
              "      <td>0.089406</td>\n",
              "      <td>0.018181</td>\n",
              "      <td>-0.019490</td>\n",
              "      <td>-0.034791</td>\n",
              "      <td>-0.088945</td>\n",
              "    </tr>\n",
              "    <tr>\n",
              "      <th>AWATER</th>\n",
              "      <td>-0.065974</td>\n",
              "      <td>0.410615</td>\n",
              "      <td>1.000000</td>\n",
              "      <td>0.063890</td>\n",
              "      <td>0.063737</td>\n",
              "      <td>0.064762</td>\n",
              "      <td>0.091215</td>\n",
              "      <td>0.126889</td>\n",
              "      <td>-0.113395</td>\n",
              "      <td>-0.071206</td>\n",
              "      <td>-0.091141</td>\n",
              "    </tr>\n",
              "    <tr>\n",
              "      <th>LaborForce_01Month</th>\n",
              "      <td>-0.055575</td>\n",
              "      <td>0.058630</td>\n",
              "      <td>0.063890</td>\n",
              "      <td>1.000000</td>\n",
              "      <td>0.999915</td>\n",
              "      <td>0.972337</td>\n",
              "      <td>-0.030484</td>\n",
              "      <td>0.152527</td>\n",
              "      <td>-0.215497</td>\n",
              "      <td>-0.056045</td>\n",
              "      <td>0.030285</td>\n",
              "    </tr>\n",
              "    <tr>\n",
              "      <th>Employed_01Month</th>\n",
              "      <td>-0.055843</td>\n",
              "      <td>0.057764</td>\n",
              "      <td>0.063737</td>\n",
              "      <td>0.999915</td>\n",
              "      <td>1.000000</td>\n",
              "      <td>0.969203</td>\n",
              "      <td>-0.034116</td>\n",
              "      <td>0.153316</td>\n",
              "      <td>-0.216829</td>\n",
              "      <td>-0.056263</td>\n",
              "      <td>0.033907</td>\n",
              "    </tr>\n",
              "    <tr>\n",
              "      <th>Unemployed_01Month</th>\n",
              "      <td>-0.049163</td>\n",
              "      <td>0.072410</td>\n",
              "      <td>0.064762</td>\n",
              "      <td>0.972337</td>\n",
              "      <td>0.969203</td>\n",
              "      <td>1.000000</td>\n",
              "      <td>0.035344</td>\n",
              "      <td>0.133971</td>\n",
              "      <td>-0.185392</td>\n",
              "      <td>-0.050512</td>\n",
              "      <td>-0.035349</td>\n",
              "    </tr>\n",
              "    <tr>\n",
              "      <th>PctUnemployed_01Month</th>\n",
              "      <td>0.026584</td>\n",
              "      <td>0.089406</td>\n",
              "      <td>0.091215</td>\n",
              "      <td>-0.030484</td>\n",
              "      <td>-0.034116</td>\n",
              "      <td>0.035344</td>\n",
              "      <td>1.000000</td>\n",
              "      <td>-0.011612</td>\n",
              "      <td>0.017778</td>\n",
              "      <td>0.014263</td>\n",
              "      <td>-0.999737</td>\n",
              "    </tr>\n",
              "    <tr>\n",
              "      <th>vulnerability_index</th>\n",
              "      <td>-0.046625</td>\n",
              "      <td>0.018181</td>\n",
              "      <td>0.126889</td>\n",
              "      <td>0.152527</td>\n",
              "      <td>0.153316</td>\n",
              "      <td>0.133971</td>\n",
              "      <td>-0.011612</td>\n",
              "      <td>1.000000</td>\n",
              "      <td>-0.891655</td>\n",
              "      <td>-0.045611</td>\n",
              "      <td>0.011695</td>\n",
              "    </tr>\n",
              "    <tr>\n",
              "      <th>rank_cvi</th>\n",
              "      <td>0.026191</td>\n",
              "      <td>-0.019490</td>\n",
              "      <td>-0.113395</td>\n",
              "      <td>-0.215497</td>\n",
              "      <td>-0.216829</td>\n",
              "      <td>-0.185392</td>\n",
              "      <td>0.017778</td>\n",
              "      <td>-0.891655</td>\n",
              "      <td>1.000000</td>\n",
              "      <td>0.024495</td>\n",
              "      <td>-0.017569</td>\n",
              "    </tr>\n",
              "    <tr>\n",
              "      <th>fips_cvi</th>\n",
              "      <td>0.996132</td>\n",
              "      <td>-0.034791</td>\n",
              "      <td>-0.071206</td>\n",
              "      <td>-0.056045</td>\n",
              "      <td>-0.056263</td>\n",
              "      <td>-0.050512</td>\n",
              "      <td>0.014263</td>\n",
              "      <td>-0.045611</td>\n",
              "      <td>0.024495</td>\n",
              "      <td>1.000000</td>\n",
              "      <td>-0.014877</td>\n",
              "    </tr>\n",
              "    <tr>\n",
              "      <th>percent_employed</th>\n",
              "      <td>-0.027123</td>\n",
              "      <td>-0.088945</td>\n",
              "      <td>-0.091141</td>\n",
              "      <td>0.030285</td>\n",
              "      <td>0.033907</td>\n",
              "      <td>-0.035349</td>\n",
              "      <td>-0.999737</td>\n",
              "      <td>0.011695</td>\n",
              "      <td>-0.017569</td>\n",
              "      <td>-0.014877</td>\n",
              "      <td>1.000000</td>\n",
              "    </tr>\n",
              "  </tbody>\n",
              "</table>\n",
              "</div>"
            ],
            "text/plain": [
              "                       Unnamed: 0     ALAND  ...  fips_cvi  percent_employed\n",
              "Unnamed: 0               1.000000 -0.021365  ...  0.996132         -0.027123\n",
              "ALAND                   -0.021365  1.000000  ... -0.034791         -0.088945\n",
              "AWATER                  -0.065974  0.410615  ... -0.071206         -0.091141\n",
              "LaborForce_01Month      -0.055575  0.058630  ... -0.056045          0.030285\n",
              "Employed_01Month        -0.055843  0.057764  ... -0.056263          0.033907\n",
              "Unemployed_01Month      -0.049163  0.072410  ... -0.050512         -0.035349\n",
              "PctUnemployed_01Month    0.026584  0.089406  ...  0.014263         -0.999737\n",
              "vulnerability_index     -0.046625  0.018181  ... -0.045611          0.011695\n",
              "rank_cvi                 0.026191 -0.019490  ...  0.024495         -0.017569\n",
              "fips_cvi                 0.996132 -0.034791  ...  1.000000         -0.014877\n",
              "percent_employed        -0.027123 -0.088945  ... -0.014877          1.000000\n",
              "\n",
              "[11 rows x 11 columns]"
            ]
          },
          "metadata": {
            "tags": []
          },
          "execution_count": 62
        }
      ]
    },
    {
      "cell_type": "code",
      "metadata": {
        "id": "Qi5GCn79XuYL",
        "colab_type": "code",
        "colab": {
          "base_uri": "https://localhost:8080/",
          "height": 512
        },
        "outputId": "b12798e1-f420-4169-b1c6-5b4891879ce7"
      },
      "source": [
        "plt.figure(figsize=(10,6))\n",
        "sns.heatmap(df.corr(),annot=True, cmap=\"viridis\", fmt=\"0.2f\")"
      ],
      "execution_count": null,
      "outputs": [
        {
          "output_type": "execute_result",
          "data": {
            "text/plain": [
              "<matplotlib.axes._subplots.AxesSubplot at 0x7f001335a048>"
            ]
          },
          "metadata": {
            "tags": []
          },
          "execution_count": 66
        },
        {
          "output_type": "display_data",
          "data": {
            "image/png": "[encoded data removed]",
            "text/plain": [
              "<Figure size 720x432 with 2 Axes>"
            ]
          },
          "metadata": {
            "tags": [],
            "needs_background": "light"
          }
        }
      ]
    }
  ]
}