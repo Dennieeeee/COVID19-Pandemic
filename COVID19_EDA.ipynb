{
  "nbformat": 4,
  "nbformat_minor": 0,
  "metadata": {
    "colab": {
      "name": "COVID19_EDA.ipynb",
      "provenance": [],
      "collapsed_sections": [],
      "authorship_tag": "ABX9TyMksbm/lykL3SK7ldAULE8i",
      "include_colab_link": true
    },
    "kernelspec": {
      "name": "python3",
      "display_name": "Python 3"
    }
  },
  "cells": [
    {
      "cell_type": "markdown",
      "metadata": {
        "id": "view-in-github",
        "colab_type": "text"
      },
      "source": [
        "<a href=\"https://colab.research.google.com/github/Dennieeeee/COVID19-Pandemic/blob/master/COVID19_EDA.ipynb\" target=\"_parent\"><img src=\"https://colab.research.google.com/assets/colab-badge.svg\" alt=\"Open In Colab\"/></a>"
      ]
    },
    {
      "cell_type": "code",
      "metadata": {
        "id": "FOEXtUTleB3B",
        "colab_type": "code",
        "colab": {}
      },
      "source": [
        "import pandas as pd\n",
        "import numpy as np\n",
        "import matplotlib.pyplot as plt\n",
        "import seaborn as sns\n",
        "from scipy.stats import norm"
      ],
      "execution_count": 42,
      "outputs": []
    },
    {
      "cell_type": "code",
      "metadata": {
        "id": "IHZOPeQseMRW",
        "colab_type": "code",
        "colab": {}
      },
      "source": [
        "file='https://raw.githubusercontent.com/Dennieeeee/COVID19-Pandemic/master/covid19_unemployment_2020'\n",
        "#file2 is the one after outliers are removed\n",
        "file2 = 'https://raw.githubusercontent.com/Dennieeeee/COVID19-Pandemic/master/COVID19_unemp_v2'\n",
        "df=pd.read_csv(file2)"
      ],
      "execution_count": 62,
      "outputs": []
    },
    {
      "cell_type": "markdown",
      "metadata": {
        "id": "frniHl2jqlqc",
        "colab_type": "text"
      },
      "source": [
        "# Columns\n",
        "- ALAND: Area of Land (square meters)\n",
        "- AWATER: Area of Water (square meters)\n",
        "- NAME: City Name\n",
        "- State: State\n",
        "- LaborForce_01Month: Count of people within the US labor force, 1 month prior to current\n",
        "- Employed_01Month: Count of employed population, 1 month prior to current\n",
        "- Unemployed_01Month: Count of unemployed population, 1 month prior to current\n",
        "- PctUnemployed_01Month: Percent unemployed population, 1 month prior to current\n",
        "- CurrentMonth: Month and year, most current month offered by BLS\n",
        "- vulnerability_index: Vulnerability Index\n",
        "- rank_cvi: Rank\n",
        "- fips_cvi: Fips"
      ]
    },
    {
      "cell_type": "code",
      "metadata": {
        "id": "U-W3eZjVg1id",
        "colab_type": "code",
        "colab": {
          "base_uri": "https://localhost:8080/",
          "height": 204
        },
        "outputId": "9a7da07a-8bd7-48b8-98e6-b120453cd4bb"
      },
      "source": [
        "df.head()"
      ],
      "execution_count": 44,
      "outputs": [
        {
          "output_type": "execute_result",
          "data": {
            "text/html": [
              "<div>\n",
              "<style scoped>\n",
              "    .dataframe tbody tr th:only-of-type {\n",
              "        vertical-align: middle;\n",
              "    }\n",
              "\n",
              "    .dataframe tbody tr th {\n",
              "        vertical-align: top;\n",
              "    }\n",
              "\n",
              "    .dataframe thead th {\n",
              "        text-align: right;\n",
              "    }\n",
              "</style>\n",
              "<table border=\"1\" class=\"dataframe\">\n",
              "  <thead>\n",
              "    <tr style=\"text-align: right;\">\n",
              "      <th></th>\n",
              "      <th>Unnamed: 0</th>\n",
              "      <th>State</th>\n",
              "      <th>NAME</th>\n",
              "      <th>LaborForce_01Month</th>\n",
              "      <th>Employed_01Month</th>\n",
              "      <th>Unemployed_01Month</th>\n",
              "      <th>PctUnemployed_01Month</th>\n",
              "      <th>percent_employed</th>\n",
              "    </tr>\n",
              "  </thead>\n",
              "  <tbody>\n",
              "    <tr>\n",
              "      <th>0</th>\n",
              "      <td>0</td>\n",
              "      <td>Alabama</td>\n",
              "      <td>Autauga County</td>\n",
              "      <td>25835.0</td>\n",
              "      <td>25114.0</td>\n",
              "      <td>721.0</td>\n",
              "      <td>2.8</td>\n",
              "      <td>0.972092</td>\n",
              "    </tr>\n",
              "    <tr>\n",
              "      <th>1</th>\n",
              "      <td>1</td>\n",
              "      <td>Alabama</td>\n",
              "      <td>Baldwin County</td>\n",
              "      <td>96391.0</td>\n",
              "      <td>93782.0</td>\n",
              "      <td>2609.0</td>\n",
              "      <td>2.7</td>\n",
              "      <td>0.972933</td>\n",
              "    </tr>\n",
              "    <tr>\n",
              "      <th>2</th>\n",
              "      <td>2</td>\n",
              "      <td>Alabama</td>\n",
              "      <td>Barbour County</td>\n",
              "      <td>8537.0</td>\n",
              "      <td>8221.0</td>\n",
              "      <td>316.0</td>\n",
              "      <td>3.7</td>\n",
              "      <td>0.962985</td>\n",
              "    </tr>\n",
              "    <tr>\n",
              "      <th>3</th>\n",
              "      <td>3</td>\n",
              "      <td>Alabama</td>\n",
              "      <td>Bibb County</td>\n",
              "      <td>8617.0</td>\n",
              "      <td>8348.0</td>\n",
              "      <td>269.0</td>\n",
              "      <td>3.1</td>\n",
              "      <td>0.968783</td>\n",
              "    </tr>\n",
              "    <tr>\n",
              "      <th>4</th>\n",
              "      <td>4</td>\n",
              "      <td>Alabama</td>\n",
              "      <td>Blount County</td>\n",
              "      <td>25103.0</td>\n",
              "      <td>24421.0</td>\n",
              "      <td>682.0</td>\n",
              "      <td>2.7</td>\n",
              "      <td>0.972832</td>\n",
              "    </tr>\n",
              "  </tbody>\n",
              "</table>\n",
              "</div>"
            ],
            "text/plain": [
              "   Unnamed: 0    State  ... PctUnemployed_01Month  percent_employed\n",
              "0           0  Alabama  ...                   2.8          0.972092\n",
              "1           1  Alabama  ...                   2.7          0.972933\n",
              "2           2  Alabama  ...                   3.7          0.962985\n",
              "3           3  Alabama  ...                   3.1          0.968783\n",
              "4           4  Alabama  ...                   2.7          0.972832\n",
              "\n",
              "[5 rows x 8 columns]"
            ]
          },
          "metadata": {
            "tags": []
          },
          "execution_count": 44
        }
      ]
    },
    {
      "cell_type": "code",
      "metadata": {
        "id": "YXW27iJLg6tp",
        "colab_type": "code",
        "colab": {
          "base_uri": "https://localhost:8080/",
          "height": 460
        },
        "outputId": "751d69a9-eea4-42b8-bdf0-9e1ed15c7752"
      },
      "source": [
        "df['State'].value_counts().plot(kind='bar',figsize=(20,6))"
      ],
      "execution_count": 46,
      "outputs": [
        {
          "output_type": "execute_result",
          "data": {
            "text/plain": [
              "<matplotlib.axes._subplots.AxesSubplot at 0x7f657dd1d160>"
            ]
          },
          "metadata": {
            "tags": []
          },
          "execution_count": 46
        },
        {
          "output_type": "display_data",
          "data": {
            "image/png": "[encoded data removed]",
            "text/plain": [
              "<Figure size 1440x432 with 1 Axes>"
            ]
          },
          "metadata": {
            "tags": [],
            "needs_background": "light"
          }
        }
      ]
    },
    {
      "cell_type": "code",
      "metadata": {
        "id": "f5I6fRyDjtJh",
        "colab_type": "code",
        "colab": {
          "base_uri": "https://localhost:8080/",
          "height": 297
        },
        "outputId": "859aaa73-777d-4d78-d36b-6c2a01037dd7"
      },
      "source": [
        "df.describe()"
      ],
      "execution_count": 59,
      "outputs": [
        {
          "output_type": "execute_result",
          "data": {
            "text/html": [
              "<div>\n",
              "<style scoped>\n",
              "    .dataframe tbody tr th:only-of-type {\n",
              "        vertical-align: middle;\n",
              "    }\n",
              "\n",
              "    .dataframe tbody tr th {\n",
              "        vertical-align: top;\n",
              "    }\n",
              "\n",
              "    .dataframe thead th {\n",
              "        text-align: right;\n",
              "    }\n",
              "</style>\n",
              "<table border=\"1\" class=\"dataframe\">\n",
              "  <thead>\n",
              "    <tr style=\"text-align: right;\">\n",
              "      <th></th>\n",
              "      <th>Unnamed: 0</th>\n",
              "      <th>LaborForce_01Month</th>\n",
              "      <th>Employed_01Month</th>\n",
              "      <th>Unemployed_01Month</th>\n",
              "      <th>PctUnemployed_01Month</th>\n",
              "      <th>percent_employed</th>\n",
              "    </tr>\n",
              "  </thead>\n",
              "  <tbody>\n",
              "    <tr>\n",
              "      <th>count</th>\n",
              "      <td>2712.000000</td>\n",
              "      <td>2.712000e+03</td>\n",
              "      <td>2.712000e+03</td>\n",
              "      <td>2712.000000</td>\n",
              "      <td>2712.000000</td>\n",
              "      <td>2712.000000</td>\n",
              "    </tr>\n",
              "    <tr>\n",
              "      <th>mean</th>\n",
              "      <td>1570.270280</td>\n",
              "      <td>5.432668e+04</td>\n",
              "      <td>5.190552e+04</td>\n",
              "      <td>2421.162611</td>\n",
              "      <td>4.582264</td>\n",
              "      <td>0.954184</td>\n",
              "    </tr>\n",
              "    <tr>\n",
              "      <th>std</th>\n",
              "      <td>891.335722</td>\n",
              "      <td>1.774980e+05</td>\n",
              "      <td>1.683569e+05</td>\n",
              "      <td>9415.910158</td>\n",
              "      <td>1.263020</td>\n",
              "      <td>0.012634</td>\n",
              "    </tr>\n",
              "    <tr>\n",
              "      <th>min</th>\n",
              "      <td>0.000000</td>\n",
              "      <td>2.080000e+02</td>\n",
              "      <td>1.970000e+02</td>\n",
              "      <td>7.000000</td>\n",
              "      <td>2.600000</td>\n",
              "      <td>0.921524</td>\n",
              "    </tr>\n",
              "    <tr>\n",
              "      <th>25%</th>\n",
              "      <td>777.750000</td>\n",
              "      <td>5.336250e+03</td>\n",
              "      <td>5.094000e+03</td>\n",
              "      <td>241.000000</td>\n",
              "      <td>3.600000</td>\n",
              "      <td>0.945984</td>\n",
              "    </tr>\n",
              "    <tr>\n",
              "      <th>50%</th>\n",
              "      <td>1583.500000</td>\n",
              "      <td>1.263350e+04</td>\n",
              "      <td>1.203250e+04</td>\n",
              "      <td>562.000000</td>\n",
              "      <td>4.400000</td>\n",
              "      <td>0.955895</td>\n",
              "    </tr>\n",
              "    <tr>\n",
              "      <th>75%</th>\n",
              "      <td>2354.250000</td>\n",
              "      <td>3.398625e+04</td>\n",
              "      <td>3.212175e+04</td>\n",
              "      <td>1487.500000</td>\n",
              "      <td>5.400000</td>\n",
              "      <td>0.964087</td>\n",
              "    </tr>\n",
              "    <tr>\n",
              "      <th>max</th>\n",
              "      <td>3089.000000</td>\n",
              "      <td>4.996564e+06</td>\n",
              "      <td>4.669061e+06</td>\n",
              "      <td>327503.000000</td>\n",
              "      <td>7.800000</td>\n",
              "      <td>0.974497</td>\n",
              "    </tr>\n",
              "  </tbody>\n",
              "</table>\n",
              "</div>"
            ],
            "text/plain": [
              "        Unnamed: 0  LaborForce_01Month  ...  PctUnemployed_01Month  percent_employed\n",
              "count  2712.000000        2.712000e+03  ...            2712.000000       2712.000000\n",
              "mean   1570.270280        5.432668e+04  ...               4.582264          0.954184\n",
              "std     891.335722        1.774980e+05  ...               1.263020          0.012634\n",
              "min       0.000000        2.080000e+02  ...               2.600000          0.921524\n",
              "25%     777.750000        5.336250e+03  ...               3.600000          0.945984\n",
              "50%    1583.500000        1.263350e+04  ...               4.400000          0.955895\n",
              "75%    2354.250000        3.398625e+04  ...               5.400000          0.964087\n",
              "max    3089.000000        4.996564e+06  ...               7.800000          0.974497\n",
              "\n",
              "[8 rows x 6 columns]"
            ]
          },
          "metadata": {
            "tags": []
          },
          "execution_count": 59
        }
      ]
    },
    {
      "cell_type": "code",
      "metadata": {
        "id": "uJtF9_WjkkrM",
        "colab_type": "code",
        "colab": {
          "base_uri": "https://localhost:8080/",
          "height": 266
        },
        "outputId": "a561981b-521a-4a5a-dda6-b9bd548631d5"
      },
      "source": [
        "#Find out the average and median unemployment for each state\n",
        "df.groupby('State').agg(['mean','median']).head()"
      ],
      "execution_count": 60,
      "outputs": [
        {
          "output_type": "execute_result",
          "data": {
            "text/html": [
              "<div>\n",
              "<style scoped>\n",
              "    .dataframe tbody tr th:only-of-type {\n",
              "        vertical-align: middle;\n",
              "    }\n",
              "\n",
              "    .dataframe tbody tr th {\n",
              "        vertical-align: top;\n",
              "    }\n",
              "\n",
              "    .dataframe thead tr th {\n",
              "        text-align: left;\n",
              "    }\n",
              "\n",
              "    .dataframe thead tr:last-of-type th {\n",
              "        text-align: right;\n",
              "    }\n",
              "</style>\n",
              "<table border=\"1\" class=\"dataframe\">\n",
              "  <thead>\n",
              "    <tr>\n",
              "      <th></th>\n",
              "      <th colspan=\"2\" halign=\"left\">Unnamed: 0</th>\n",
              "      <th colspan=\"2\" halign=\"left\">LaborForce_01Month</th>\n",
              "      <th colspan=\"2\" halign=\"left\">Employed_01Month</th>\n",
              "      <th colspan=\"2\" halign=\"left\">Unemployed_01Month</th>\n",
              "      <th colspan=\"2\" halign=\"left\">PctUnemployed_01Month</th>\n",
              "      <th colspan=\"2\" halign=\"left\">percent_employed</th>\n",
              "    </tr>\n",
              "    <tr>\n",
              "      <th></th>\n",
              "      <th>mean</th>\n",
              "      <th>median</th>\n",
              "      <th>mean</th>\n",
              "      <th>median</th>\n",
              "      <th>mean</th>\n",
              "      <th>median</th>\n",
              "      <th>mean</th>\n",
              "      <th>median</th>\n",
              "      <th>mean</th>\n",
              "      <th>median</th>\n",
              "      <th>mean</th>\n",
              "      <th>median</th>\n",
              "    </tr>\n",
              "    <tr>\n",
              "      <th>State</th>\n",
              "      <th></th>\n",
              "      <th></th>\n",
              "      <th></th>\n",
              "      <th></th>\n",
              "      <th></th>\n",
              "      <th></th>\n",
              "      <th></th>\n",
              "      <th></th>\n",
              "      <th></th>\n",
              "      <th></th>\n",
              "      <th></th>\n",
              "      <th></th>\n",
              "    </tr>\n",
              "  </thead>\n",
              "  <tbody>\n",
              "    <tr>\n",
              "      <th>Alabama</th>\n",
              "      <td>31.387097</td>\n",
              "      <td>30.5</td>\n",
              "      <td>29387.645161</td>\n",
              "      <td>14518.0</td>\n",
              "      <td>28466.596774</td>\n",
              "      <td>13880.0</td>\n",
              "      <td>921.048387</td>\n",
              "      <td>461.0</td>\n",
              "      <td>3.467742</td>\n",
              "      <td>3.20</td>\n",
              "      <td>0.965403</td>\n",
              "      <td>0.968247</td>\n",
              "    </tr>\n",
              "    <tr>\n",
              "      <th>Alaska</th>\n",
              "      <td>79.818182</td>\n",
              "      <td>79.0</td>\n",
              "      <td>27204.090909</td>\n",
              "      <td>6226.0</td>\n",
              "      <td>25758.636364</td>\n",
              "      <td>5774.0</td>\n",
              "      <td>1445.454545</td>\n",
              "      <td>452.0</td>\n",
              "      <td>5.690909</td>\n",
              "      <td>5.00</td>\n",
              "      <td>0.943317</td>\n",
              "      <td>0.950241</td>\n",
              "    </tr>\n",
              "    <tr>\n",
              "      <th>Arizona</th>\n",
              "      <td>101.800000</td>\n",
              "      <td>101.5</td>\n",
              "      <td>332502.800000</td>\n",
              "      <td>70177.0</td>\n",
              "      <td>313743.200000</td>\n",
              "      <td>64855.5</td>\n",
              "      <td>18759.600000</td>\n",
              "      <td>5056.0</td>\n",
              "      <td>6.570000</td>\n",
              "      <td>6.55</td>\n",
              "      <td>0.934307</td>\n",
              "      <td>0.934550</td>\n",
              "    </tr>\n",
              "    <tr>\n",
              "      <th>Arkansas</th>\n",
              "      <td>147.828571</td>\n",
              "      <td>148.5</td>\n",
              "      <td>19283.314286</td>\n",
              "      <td>8358.0</td>\n",
              "      <td>18362.185714</td>\n",
              "      <td>7849.0</td>\n",
              "      <td>921.128571</td>\n",
              "      <td>435.5</td>\n",
              "      <td>5.542857</td>\n",
              "      <td>5.40</td>\n",
              "      <td>0.944531</td>\n",
              "      <td>0.946072</td>\n",
              "    </tr>\n",
              "    <tr>\n",
              "      <th>California</th>\n",
              "      <td>211.457143</td>\n",
              "      <td>213.0</td>\n",
              "      <td>476820.314286</td>\n",
              "      <td>137710.0</td>\n",
              "      <td>453202.885714</td>\n",
              "      <td>133428.0</td>\n",
              "      <td>23617.428571</td>\n",
              "      <td>6507.0</td>\n",
              "      <td>5.111429</td>\n",
              "      <td>4.90</td>\n",
              "      <td>0.948935</td>\n",
              "      <td>0.950853</td>\n",
              "    </tr>\n",
              "  </tbody>\n",
              "</table>\n",
              "</div>"
            ],
            "text/plain": [
              "            Unnamed: 0         ... percent_employed          \n",
              "                  mean median  ...             mean    median\n",
              "State                          ...                           \n",
              "Alabama      31.387097   30.5  ...         0.965403  0.968247\n",
              "Alaska       79.818182   79.0  ...         0.943317  0.950241\n",
              "Arizona     101.800000  101.5  ...         0.934307  0.934550\n",
              "Arkansas    147.828571  148.5  ...         0.944531  0.946072\n",
              "California  211.457143  213.0  ...         0.948935  0.950853\n",
              "\n",
              "[5 rows x 12 columns]"
            ]
          },
          "metadata": {
            "tags": []
          },
          "execution_count": 60
        }
      ]
    },
    {
      "cell_type": "code",
      "metadata": {
        "id": "6I_IB_80j_DJ",
        "colab_type": "code",
        "colab": {
          "base_uri": "https://localhost:8080/",
          "height": 111
        },
        "outputId": "26833d19-04db-4623-a8b6-2e0cf163a615"
      },
      "source": [
        "df.head(2)"
      ],
      "execution_count": 61,
      "outputs": [
        {
          "output_type": "execute_result",
          "data": {
            "text/html": [
              "<div>\n",
              "<style scoped>\n",
              "    .dataframe tbody tr th:only-of-type {\n",
              "        vertical-align: middle;\n",
              "    }\n",
              "\n",
              "    .dataframe tbody tr th {\n",
              "        vertical-align: top;\n",
              "    }\n",
              "\n",
              "    .dataframe thead th {\n",
              "        text-align: right;\n",
              "    }\n",
              "</style>\n",
              "<table border=\"1\" class=\"dataframe\">\n",
              "  <thead>\n",
              "    <tr style=\"text-align: right;\">\n",
              "      <th></th>\n",
              "      <th>Unnamed: 0</th>\n",
              "      <th>State</th>\n",
              "      <th>NAME</th>\n",
              "      <th>LaborForce_01Month</th>\n",
              "      <th>Employed_01Month</th>\n",
              "      <th>Unemployed_01Month</th>\n",
              "      <th>PctUnemployed_01Month</th>\n",
              "      <th>percent_employed</th>\n",
              "    </tr>\n",
              "  </thead>\n",
              "  <tbody>\n",
              "    <tr>\n",
              "      <th>0</th>\n",
              "      <td>0</td>\n",
              "      <td>Alabama</td>\n",
              "      <td>Autauga County</td>\n",
              "      <td>25835.0</td>\n",
              "      <td>25114.0</td>\n",
              "      <td>721.0</td>\n",
              "      <td>2.8</td>\n",
              "      <td>0.972092</td>\n",
              "    </tr>\n",
              "    <tr>\n",
              "      <th>1</th>\n",
              "      <td>1</td>\n",
              "      <td>Alabama</td>\n",
              "      <td>Baldwin County</td>\n",
              "      <td>96391.0</td>\n",
              "      <td>93782.0</td>\n",
              "      <td>2609.0</td>\n",
              "      <td>2.7</td>\n",
              "      <td>0.972933</td>\n",
              "    </tr>\n",
              "  </tbody>\n",
              "</table>\n",
              "</div>"
            ],
            "text/plain": [
              "   Unnamed: 0    State  ... PctUnemployed_01Month  percent_employed\n",
              "0           0  Alabama  ...                   2.8          0.972092\n",
              "1           1  Alabama  ...                   2.7          0.972933\n",
              "\n",
              "[2 rows x 8 columns]"
            ]
          },
          "metadata": {
            "tags": []
          },
          "execution_count": 61
        }
      ]
    },
    {
      "cell_type": "markdown",
      "metadata": {
        "id": "07ulO_HA9gpd",
        "colab_type": "text"
      },
      "source": [
        "# The answers to the questions below:\n",
        "- Which counties have the highest Labour Force?\n",
        "- Which counties have the highest unemployment rate?\n",
        "- Which county has a higher COVID-19 Vulnerability Index (CVI)?\n",
        "- What is the correlation between the CVI and the Unemployment rate?\n",
        "- Which county has higher CVI among the top county with a higher unemployment rate?\n",
        "- What are the changes in Landsat 8 OLI (Operational Land Imager) and TIRS (Thermal Infrared Sensor) images of that area?"
      ]
    },
    {
      "cell_type": "code",
      "metadata": {
        "id": "t7QMdG5ykCnE",
        "colab_type": "code",
        "colab": {}
      },
      "source": [
        "# Top 5 counties with the highest labor force\n",
        "index_top5 = list(df['LaborForce_01Month'].sort_values(ascending=False).index[:5])\n",
        "laborForce_top5 = df1.loc[index_top5]"
      ],
      "execution_count": 51,
      "outputs": []
    },
    {
      "cell_type": "code",
      "metadata": {
        "id": "tGZuj6e21483",
        "colab_type": "code",
        "colab": {
          "base_uri": "https://localhost:8080/",
          "height": 204
        },
        "outputId": "d2f2dc26-7b57-4165-f483-6e0c20256aad"
      },
      "source": [
        "laborForce_top5"
      ],
      "execution_count": 52,
      "outputs": [
        {
          "output_type": "execute_result",
          "data": {
            "text/html": [
              "<div>\n",
              "<style scoped>\n",
              "    .dataframe tbody tr th:only-of-type {\n",
              "        vertical-align: middle;\n",
              "    }\n",
              "\n",
              "    .dataframe tbody tr th {\n",
              "        vertical-align: top;\n",
              "    }\n",
              "\n",
              "    .dataframe thead th {\n",
              "        text-align: right;\n",
              "    }\n",
              "</style>\n",
              "<table border=\"1\" class=\"dataframe\">\n",
              "  <thead>\n",
              "    <tr style=\"text-align: right;\">\n",
              "      <th></th>\n",
              "      <th>State</th>\n",
              "      <th>NAME</th>\n",
              "      <th>LaborForce_01Month</th>\n",
              "      <th>Employed_01Month</th>\n",
              "      <th>Unemployed_01Month</th>\n",
              "      <th>PctUnemployed_01Month</th>\n",
              "      <th>percent_employed</th>\n",
              "    </tr>\n",
              "  </thead>\n",
              "  <tbody>\n",
              "    <tr>\n",
              "      <th>165</th>\n",
              "      <td>California</td>\n",
              "      <td>Los Angeles County</td>\n",
              "      <td>4996564.0</td>\n",
              "      <td>4669061.0</td>\n",
              "      <td>327503.0</td>\n",
              "      <td>6.6</td>\n",
              "      <td>0.934454</td>\n",
              "    </tr>\n",
              "    <tr>\n",
              "      <th>524</th>\n",
              "      <td>Illinois</td>\n",
              "      <td>Cook County</td>\n",
              "      <td>2615106.0</td>\n",
              "      <td>2488391.0</td>\n",
              "      <td>126715.0</td>\n",
              "      <td>4.8</td>\n",
              "      <td>0.951545</td>\n",
              "    </tr>\n",
              "    <tr>\n",
              "      <th>78</th>\n",
              "      <td>Arizona</td>\n",
              "      <td>Maricopa County</td>\n",
              "      <td>2334396.0</td>\n",
              "      <td>2209663.0</td>\n",
              "      <td>124733.0</td>\n",
              "      <td>5.3</td>\n",
              "      <td>0.946567</td>\n",
              "    </tr>\n",
              "    <tr>\n",
              "      <th>2280</th>\n",
              "      <td>Texas</td>\n",
              "      <td>Harris County</td>\n",
              "      <td>2321037.0</td>\n",
              "      <td>2191290.0</td>\n",
              "      <td>129747.0</td>\n",
              "      <td>5.6</td>\n",
              "      <td>0.944100</td>\n",
              "    </tr>\n",
              "    <tr>\n",
              "      <th>171</th>\n",
              "      <td>California</td>\n",
              "      <td>Orange County</td>\n",
              "      <td>1587658.0</td>\n",
              "      <td>1528641.0</td>\n",
              "      <td>59017.0</td>\n",
              "      <td>3.7</td>\n",
              "      <td>0.962828</td>\n",
              "    </tr>\n",
              "  </tbody>\n",
              "</table>\n",
              "</div>"
            ],
            "text/plain": [
              "           State                NAME  ...  PctUnemployed_01Month  percent_employed\n",
              "165   California  Los Angeles County  ...                    6.6          0.934454\n",
              "524     Illinois         Cook County  ...                    4.8          0.951545\n",
              "78       Arizona     Maricopa County  ...                    5.3          0.946567\n",
              "2280       Texas       Harris County  ...                    5.6          0.944100\n",
              "171   California       Orange County  ...                    3.7          0.962828\n",
              "\n",
              "[5 rows x 7 columns]"
            ]
          },
          "metadata": {
            "tags": []
          },
          "execution_count": 52
        }
      ]
    },
    {
      "cell_type": "code",
      "metadata": {
        "id": "v_ALTapb2emd",
        "colab_type": "code",
        "colab": {}
      },
      "source": [
        "y=list(laborForce_top5.LaborForce_01Month)\n",
        "x=[1,2,3,4,5]\n",
        "t=list(laborForce_top5.NAME.values)"
      ],
      "execution_count": 53,
      "outputs": []
    },
    {
      "cell_type": "code",
      "metadata": {
        "id": "d3eOiOEm21CR",
        "colab_type": "code",
        "colab": {
          "base_uri": "https://localhost:8080/",
          "height": 377
        },
        "outputId": "5eb5d7f8-ea02-4c6b-d3fa-47a11b30796f"
      },
      "source": [
        "plt.figure(figsize=(10,5))\n",
        "b_col = sns.cubehelix_palette(5,reverse=False) #reverse by default is False\n",
        "plt.bar(x,y,color=b_col)\n",
        "plt.xticks(x,t)\n",
        "plt.xlabel('County Name',size=15)\n",
        "plt.ylabel('Count of Employmeent',size=15)\n",
        "plt.title('Top 5 Labor Forces',size=20)"
      ],
      "execution_count": 54,
      "outputs": [
        {
          "output_type": "execute_result",
          "data": {
            "text/plain": [
              "Text(0.5, 1.0, 'Top 5 Labor Forces')"
            ]
          },
          "metadata": {
            "tags": []
          },
          "execution_count": 54
        },
        {
          "output_type": "display_data",
          "data": {
            "image/png": "[encoded data removed]",
            "text/plain": [
              "<Figure size 720x360 with 1 Axes>"
            ]
          },
          "metadata": {
            "tags": [],
            "needs_background": "light"
          }
        }
      ]
    },
    {
      "cell_type": "code",
      "metadata": {
        "id": "cSnil-923iZL",
        "colab_type": "code",
        "colab": {
          "base_uri": "https://localhost:8080/",
          "height": 204
        },
        "outputId": "2b323800-e6dd-4606-d840-b55cb519b465"
      },
      "source": [
        "#sorted by the unemployment in the county, decending order\n",
        "unemp_index_top5 = list(df1.PctUnemployed_01Month.sort_values(ascending=False).index[:5])\n",
        "unemp_top5 = df1.loc[unemp_index_top5]\n",
        "unemp_top5"
      ],
      "execution_count": 55,
      "outputs": [
        {
          "output_type": "execute_result",
          "data": {
            "text/html": [
              "<div>\n",
              "<style scoped>\n",
              "    .dataframe tbody tr th:only-of-type {\n",
              "        vertical-align: middle;\n",
              "    }\n",
              "\n",
              "    .dataframe tbody tr th {\n",
              "        vertical-align: top;\n",
              "    }\n",
              "\n",
              "    .dataframe thead th {\n",
              "        text-align: right;\n",
              "    }\n",
              "</style>\n",
              "<table border=\"1\" class=\"dataframe\">\n",
              "  <thead>\n",
              "    <tr style=\"text-align: right;\">\n",
              "      <th></th>\n",
              "      <th>State</th>\n",
              "      <th>NAME</th>\n",
              "      <th>LaborForce_01Month</th>\n",
              "      <th>Employed_01Month</th>\n",
              "      <th>Unemployed_01Month</th>\n",
              "      <th>PctUnemployed_01Month</th>\n",
              "      <th>percent_employed</th>\n",
              "    </tr>\n",
              "  </thead>\n",
              "  <tbody>\n",
              "    <tr>\n",
              "      <th>954</th>\n",
              "      <td>Louisiana</td>\n",
              "      <td>St. James Parish</td>\n",
              "      <td>9343.0</td>\n",
              "      <td>8615.0</td>\n",
              "      <td>728.0</td>\n",
              "      <td>7.8</td>\n",
              "      <td>0.922081</td>\n",
              "    </tr>\n",
              "    <tr>\n",
              "      <th>2438</th>\n",
              "      <td>Utah</td>\n",
              "      <td>Uintah County</td>\n",
              "      <td>13571.0</td>\n",
              "      <td>12506.0</td>\n",
              "      <td>1065.0</td>\n",
              "      <td>7.8</td>\n",
              "      <td>0.921524</td>\n",
              "    </tr>\n",
              "    <tr>\n",
              "      <th>1941</th>\n",
              "      <td>Pennsylvania</td>\n",
              "      <td>Clinton County</td>\n",
              "      <td>18543.0</td>\n",
              "      <td>17093.0</td>\n",
              "      <td>1450.0</td>\n",
              "      <td>7.8</td>\n",
              "      <td>0.921803</td>\n",
              "    </tr>\n",
              "    <tr>\n",
              "      <th>1545</th>\n",
              "      <td>New Mexico</td>\n",
              "      <td>Cibola County</td>\n",
              "      <td>9070.0</td>\n",
              "      <td>8365.0</td>\n",
              "      <td>705.0</td>\n",
              "      <td>7.8</td>\n",
              "      <td>0.922271</td>\n",
              "    </tr>\n",
              "    <tr>\n",
              "      <th>480</th>\n",
              "      <td>Idaho</td>\n",
              "      <td>Benewah County</td>\n",
              "      <td>4129.0</td>\n",
              "      <td>3808.0</td>\n",
              "      <td>321.0</td>\n",
              "      <td>7.8</td>\n",
              "      <td>0.922257</td>\n",
              "    </tr>\n",
              "  </tbody>\n",
              "</table>\n",
              "</div>"
            ],
            "text/plain": [
              "             State              NAME  ...  PctUnemployed_01Month  percent_employed\n",
              "954      Louisiana  St. James Parish  ...                    7.8          0.922081\n",
              "2438          Utah     Uintah County  ...                    7.8          0.921524\n",
              "1941  Pennsylvania    Clinton County  ...                    7.8          0.921803\n",
              "1545    New Mexico     Cibola County  ...                    7.8          0.922271\n",
              "480          Idaho    Benewah County  ...                    7.8          0.922257\n",
              "\n",
              "[5 rows x 7 columns]"
            ]
          },
          "metadata": {
            "tags": []
          },
          "execution_count": 55
        }
      ]
    },
    {
      "cell_type": "code",
      "metadata": {
        "id": "QA91ock0dDZb",
        "colab_type": "code",
        "colab": {}
      },
      "source": [
        "y2=list(unemp_top5.PctUnemployed_01Month)\n",
        "x2=[1,2,3,4,5]\n",
        "t2=list(unemp_top5.NAME.values)"
      ],
      "execution_count": 56,
      "outputs": []
    },
    {
      "cell_type": "code",
      "metadata": {
        "id": "q4_VlEIfeGVL",
        "colab_type": "code",
        "colab": {
          "base_uri": "https://localhost:8080/",
          "height": 377
        },
        "outputId": "8886761e-c0b7-43b1-cfd2-3fb0f8a76dcd"
      },
      "source": [
        "plt.figure(figsize=(10,5))\n",
        "plt.bar(x2,y2)\n",
        "plt.xticks(x2,t2)\n",
        "plt.xlabel('County Name',size=15)\n",
        "plt.ylabel('Number of Unemployment',size=15)\n",
        "plt.title('Counties with the highest unemployment rate',size=20)"
      ],
      "execution_count": 57,
      "outputs": [
        {
          "output_type": "execute_result",
          "data": {
            "text/plain": [
              "Text(0.5, 1.0, 'Counties with the highest unemployment rate')"
            ]
          },
          "metadata": {
            "tags": []
          },
          "execution_count": 57
        },
        {
          "output_type": "display_data",
          "data": {
            "image/png": "[encoded data removed]",
            "text/plain": [
              "<Figure size 720x360 with 1 Axes>"
            ]
          },
          "metadata": {
            "tags": [],
            "needs_background": "light"
          }
        }
      ]
    },
    {
      "cell_type": "code",
      "metadata": {
        "id": "3BPxwotjAvUy",
        "colab_type": "code",
        "colab": {}
      },
      "source": [
        ""
      ],
      "execution_count": null,
      "outputs": []
    }
  ]
}